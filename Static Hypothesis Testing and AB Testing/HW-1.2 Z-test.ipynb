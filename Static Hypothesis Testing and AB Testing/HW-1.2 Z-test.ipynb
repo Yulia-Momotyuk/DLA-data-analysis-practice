{
  "cells": [
    {
      "cell_type": "markdown",
      "id": "e152f6d6",
      "metadata": {
        "ExecuteTime": {
          "end_time": "2022-12-10T14:29:24.703416Z",
          "start_time": "2022-12-10T14:29:24.688485Z"
        },
        "id": "e152f6d6"
      },
      "source": [
        "#Перевірка статиcтичних гіпотез. Z-test.\n",
        "\n"
      ]
    },
    {
      "cell_type": "markdown",
      "id": "cd404683",
      "metadata": {
        "id": "cd404683"
      },
      "source": [
        "0. Зчитайте дані з `data.csv` у змінну data, яка має тип pandas.DataFrame. Ми будемо далі працювати з цією змінною."
      ]
    },
    {
      "cell_type": "code",
      "execution_count": 1,
      "id": "b20b6ba2",
      "metadata": {
        "id": "b20b6ba2"
      },
      "outputs": [],
      "source": [
        "import numpy as np\n",
        "import pandas as pd\n",
        "from scipy import stats\n",
        "\n",
        "# Завантаження даних\n",
        "data = pd.read_csv('/content/data.csv')"
      ]
    },
    {
      "cell_type": "markdown",
      "id": "3d06cbbf",
      "metadata": {
        "id": "3d06cbbf"
      },
      "source": [
        "Запустіть код нижче. Для коректної робити всіх подальших методів дані мають бути у вигляді одновимірного `numpy.ndarray` вектора та мати розмірність (100,). Така розмірність означає, що дані - одновимірні (колонка), якщо б розмірність була (100, 1), то дані сприймаються методами як двовимірні (таблиця), хоча для нас виглядати можуть так само."
      ]
    },
    {
      "cell_type": "code",
      "execution_count": 2,
      "id": "cce1632b",
      "metadata": {
        "id": "cce1632b",
        "colab": {
          "base_uri": "https://localhost:8080/"
        },
        "outputId": "1028120e-ba5a-453a-9cd0-35630d854f84"
      },
      "outputs": [
        {
          "output_type": "execute_result",
          "data": {
            "text/plain": [
              "(100,)"
            ]
          },
          "metadata": {},
          "execution_count": 2
        }
      ],
      "source": [
        "data = data.data.values\n",
        "data.shape"
      ]
    },
    {
      "cell_type": "markdown",
      "id": "abdcef5d",
      "metadata": {
        "id": "abdcef5d"
      },
      "source": [
        "**Завдання 1**. Зчитані дані - це сума покупок в доларах наших покупців на сайті протягом липня 2025 року.\n",
        "\n",
        "До цього місяця, ми мали продажі в середньому на чек $20.\n",
        "\n",
        "Необхідно зʼясувати, чи вийшло у нас статистично значущо **підвищити** середній чек за липень 2025?\n",
        "\n",
        "Аби дати відповідь - ми проведемо z-test на рівні значущості $\\alpha=0.05$ двома способами. В цьому завданні ми будемо виконувати обчислення \"вручну\" з використанням бібліотек numpy та scipy.stats подібно до прикладу в лекції. Для цього виконайте наступні 7 кроків. Правильне виконання кожного з кроків оцінюється в 1 бал.\n",
        "\n",
        "1. Запишіть параметри задачі у змінні Python:\n",
        "    - `sample_mean` - $\\bar{x}$, середнє значення в вибірці\n",
        "    - `population_mean` - $\\mu_0$, середнє значення в популяції (тобто те, з яким ми порівнюємо середнє вибіркове значення)\n",
        "    - `population_std` - $\\sigma$, вибіркове стандартне відхилення, яке ми вважаємо, що є рівним ст. відх. популяції, адже маємо достатньо велику вибірку.\n",
        "    - `sample_size` - $n$, розмір вибірки\n",
        "    - `alpha` - $\\alpha$ рівень значущості\n",
        "    \n",
        "    **Увага!** Для обчислення стандартного відхилення маємо скористатись функцією `np.std(your_dataframe, ddof=1)`. Чому так - розбираємо в лекції про t-test.\n",
        "\n",
        "\n",
        "2. Визначте для цієї задачі:\n",
        "    - якою є гіпотеза $H_0$\n",
        "    - якою є альтернативна гіпотеза $H_a$\n",
        "    - з яким типом тесту ми маємо справу - лівосторонній, правосторонній чи двосторонній.\n",
        "\n",
        "3. Обчисліть стандартну помилку SE.\n",
        "4. Розрахуйте z-статистику.\n",
        "5. Знайдіть критичне z-значення з допомогою бібліотеки stats.\n",
        "6. Обчисліть p-value з допомогою бібліотеки stats.\n",
        "7. Прийміть рішення, чи відхиляєте ви гіпотезу $H_0$. Для прийняття рішення зробіть і порівняння z-статистики з критичним значенням, і проаналізуйте p-value."
      ]
    },
    {
      "cell_type": "markdown",
      "source": [
        "###Крок 1: Визначаємо параметри задачі"
      ],
      "metadata": {
        "id": "8TfFf-MKbCj6"
      },
      "id": "8TfFf-MKbCj6"
    },
    {
      "cell_type": "code",
      "source": [
        "sample_mean = np.mean(data)                # x̄ - середнє IQ у вибірці школи\n",
        "population_mean = 20                       # μ₀ - середнє IQ в популяції\n",
        "population_std = np.std(data, ddof=1)      # σ - стандартне відхилення в популяції\n",
        "sample_size = len(data)                    # n - обсяг вибірки\n",
        "alpha = 0.05                               # α - рівень значущості (ймовірність помилки I роду)"
      ],
      "metadata": {
        "id": "NX2XezWLdf4t"
      },
      "id": "NX2XezWLdf4t",
      "execution_count": 3,
      "outputs": []
    },
    {
      "cell_type": "markdown",
      "source": [
        "###Крок 2: Формулюємо гіпотези"
      ],
      "metadata": {
        "id": "-gobePOncas1"
      },
      "id": "-gobePOncas1"
    },
    {
      "cell_type": "markdown",
      "source": [
        "**Гіпотези:**\n",
        "\n",
        "H₀: μ = 20  (середній чек не змінився)\n",
        "\n",
        "H₁: μ > 20  (середній чек зріс)\n",
        "\n",
        "Тип тесту: правосторонній (one-tailed)"
      ],
      "metadata": {
        "id": "dPU6QbUecoDD"
      },
      "id": "dPU6QbUecoDD"
    },
    {
      "cell_type": "markdown",
      "source": [
        "###Крок 3: Обчислюємо стандартну помилку"
      ],
      "metadata": {
        "id": "Q1yiPocMdCAU"
      },
      "id": "Q1yiPocMdCAU"
    },
    {
      "cell_type": "code",
      "source": [
        "# Обчислення стандартної помилки для середнього чека\n",
        "standard_error = population_std / np.sqrt(sample_size)\n",
        "\n",
        "print(\"ОБЧИСЛЕННЯ СТАНДАРТНОЇ ПОМИЛКИ\")\n",
        "print(\"\\nФормула: SE = σ / √n\")\n",
        "print(f\"Дані: σ = {population_std:.3f}, n = {sample_size}\")\n",
        "print(f\"Підставляємо: SE = {population_std:.3f} / √{sample_size} = {population_std:.3f} / {np.sqrt(sample_size):.1f}\")\n",
        "print(f\"Розрахунок: SE = {standard_error:.3f} доларів\")\n",
        "print(\"\\nІнтерпретація:\")\n",
        "print(f\"В середньому, вибіркове середнє відхиляється від справжнього середнього на ±{standard_error:.3f} доларів\")"
      ],
      "metadata": {
        "colab": {
          "base_uri": "https://localhost:8080/"
        },
        "id": "u6QrxosteAdI",
        "outputId": "1ab0e1a0-2613-4d0a-9f72-f0618c4f02dd"
      },
      "id": "u6QrxosteAdI",
      "execution_count": 4,
      "outputs": [
        {
          "output_type": "stream",
          "name": "stdout",
          "text": [
            "ОБЧИСЛЕННЯ СТАНДАРТНОЇ ПОМИЛКИ\n",
            "\n",
            "Формула: SE = σ / √n\n",
            "Дані: σ = 6.254, n = 100\n",
            "Підставляємо: SE = 6.254 / √100 = 6.254 / 10.0\n",
            "Розрахунок: SE = 0.625 доларів\n",
            "\n",
            "Інтерпретація:\n",
            "В середньому, вибіркове середнє відхиляється від справжнього середнього на ±0.625 доларів\n"
          ]
        }
      ]
    },
    {
      "cell_type": "markdown",
      "source": [
        "###Крок 4: Розраховуємо z-статистику"
      ],
      "metadata": {
        "id": "OJPuLOUKemZ7"
      },
      "id": "OJPuLOUKemZ7"
    },
    {
      "cell_type": "code",
      "source": [
        "# Розрахунок Z-статистики для середнього чеку\n",
        "z_statistic = (sample_mean - population_mean) / standard_error\n",
        "\n",
        "print(\"РОЗРАХУНОК Z-СТАТИСТИКИ\")\n",
        "print(\"\\nФормула: z = (x̄ - μ₀) / SE\")\n",
        "print(f\"Підставляємо: z = ({sample_mean:.3f} - {population_mean:.1f}) / {standard_error:.3f}\")\n",
        "print(f\"Розрахунок: z = {(sample_mean - population_mean):.3f} / {standard_error:.3f}\")\n",
        "print(f\"Результат: z = {z_statistic:.3f}\")\n",
        "print(\"\\nІнтерпретація:\")\n",
        "print(f\"Наше вибіркове середнє відхиляється на {z_statistic:.3f} стандартних помилок від гіпотетичного середнього популяції.\")\n",
        "print()\n",
        "if z_statistic > 2:\n",
        "    print(\"✅ Це досить велике відхилення (більше 2 стандартних помилок) → є підстави стверджувати, що середній чек статистично значуще зріс.\")\n",
        "elif z_statistic > 1:\n",
        "    print(\"⚠️ Це помірне відхилення (між 1 та 2 стандартними помилками) → обережні висновки.\")\n",
        "else:\n",
        "    print(\"ℹ️ Це невелике відхилення (менше 1 стандартної помилки) → статистично значущих змін немає.\")"
      ],
      "metadata": {
        "colab": {
          "base_uri": "https://localhost:8080/"
        },
        "id": "ZkXoB2Zde5lu",
        "outputId": "bc1eb388-1931-4089-ed37-3488a094cbfd"
      },
      "id": "ZkXoB2Zde5lu",
      "execution_count": 5,
      "outputs": [
        {
          "output_type": "stream",
          "name": "stdout",
          "text": [
            "РОЗРАХУНОК Z-СТАТИСТИКИ\n",
            "\n",
            "Формула: z = (x̄ - μ₀) / SE\n",
            "Підставляємо: z = (19.378 - 20.0) / 0.625\n",
            "Розрахунок: z = -0.622 / 0.625\n",
            "Результат: z = -0.995\n",
            "\n",
            "Інтерпретація:\n",
            "Наше вибіркове середнє відхиляється на -0.995 стандартних помилок від гіпотетичного середнього популяції.\n",
            "\n",
            "ℹ️ Це невелике відхилення (менше 1 стандартної помилки) → статистично значущих змін немає.\n"
          ]
        }
      ]
    },
    {
      "cell_type": "markdown",
      "source": [
        "### Крок 5: Знаходимо критичне значення"
      ],
      "metadata": {
        "id": "Sx4jkAcTfVeG"
      },
      "id": "Sx4jkAcTfVeG"
    },
    {
      "cell_type": "code",
      "source": [
        "# Для правостороннього тесту з α = 0.05\n",
        "z_critical = stats.norm.ppf(1 - alpha)\n",
        "\n",
        "print(\"КРИТИЧНЕ ЗНАЧЕННЯ\")\n",
        "print(f\"\\nДля рівня значущості α = {alpha} (правосторонній тест)\")\n",
        "print(f\"Критичне z-значення = {z_critical:.3f}\")\n",
        "print(\"\\nЩо це означає?\")\n",
        "print(f\"Якщо z-статистика > {z_critical:.3f}, то результат настільки\")\n",
        "print(\"незвичайний, що ми не віримо у випадковість за гіпотезою Н0.\")\n",
        "print(f\"Ймовірність отримати z > {z_critical:.3f} випадково = {alpha*100}%\")"
      ],
      "metadata": {
        "colab": {
          "base_uri": "https://localhost:8080/"
        },
        "id": "eDvRLrMhfej1",
        "outputId": "2fb6780d-7839-4080-a801-ca1c92c46e56"
      },
      "id": "eDvRLrMhfej1",
      "execution_count": 6,
      "outputs": [
        {
          "output_type": "stream",
          "name": "stdout",
          "text": [
            "КРИТИЧНЕ ЗНАЧЕННЯ\n",
            "\n",
            "Для рівня значущості α = 0.05 (правосторонній тест)\n",
            "Критичне z-значення = 1.645\n",
            "\n",
            "Що це означає?\n",
            "Якщо z-статистика > 1.645, то результат настільки\n",
            "незвичайний, що ми не віримо у випадковість за гіпотезою Н0.\n",
            "Ймовірність отримати z > 1.645 випадково = 5.0%\n"
          ]
        }
      ]
    },
    {
      "cell_type": "markdown",
      "source": [
        "### Крок 6: Обчислюємо p-value"
      ],
      "metadata": {
        "id": "oWGYuyCNfyaY"
      },
      "id": "oWGYuyCNfyaY"
    },
    {
      "cell_type": "code",
      "source": [
        "# Розрахунок p-value для правостороннього тесту\n",
        "p_value = 1 - stats.norm.cdf(z_statistic)\n",
        "\n",
        "print(\"P-VALUE\")\n",
        "print(f\"\\nРозрахунок: p-value = P(Z > {z_statistic:.3f})\")\n",
        "print(f\"p-value = {p_value:.6f}\")\n",
        "print(f\"Або приблизно {p_value*100:.4f}%\")\n",
        "print(\"\\nІнтерпретація:\")\n",
        "print(f\"Якщо H₀ правильна (середній чек = {population_mean}), то ймовірність\")\n",
        "print(f\"випадково отримати вибіркове середнє ≥ {sample_mean:.3f} становить {p_value:.6f}\")\n",
        "print()\n",
        "if p_value < 0.001:\n",
        "    print(\"✅ Це НАДЗВИЧАЙНО малоймовірно! (менше 0.1%) → сильний доказ на користь зростання середнього чеку\")\n",
        "elif p_value < 0.01:\n",
        "    print(\"⚡ Це дуже малоймовірно! (менше 1%) → достатньо сильний доказ\")\n",
        "elif p_value < 0.05:\n",
        "    print(\"⚠️ Це малоймовірно! (менше 5%) → доказ помірної сили\")\n",
        "else:\n",
        "    print(\"ℹ️ Це цілком можливо випадково → доказів на користь зростання середнього чеку недостатньо\")"
      ],
      "metadata": {
        "colab": {
          "base_uri": "https://localhost:8080/"
        },
        "id": "UcqEAut4gIsy",
        "outputId": "a742557b-e3ed-4e83-9145-b671b38969f2"
      },
      "id": "UcqEAut4gIsy",
      "execution_count": 7,
      "outputs": [
        {
          "output_type": "stream",
          "name": "stdout",
          "text": [
            "P-VALUE\n",
            "\n",
            "Розрахунок: p-value = P(Z > -0.995)\n",
            "p-value = 0.840216\n",
            "Або приблизно 84.0216%\n",
            "\n",
            "Інтерпретація:\n",
            "Якщо H₀ правильна (середній чек = 20), то ймовірність\n",
            "випадково отримати вибіркове середнє ≥ 19.378 становить 0.840216\n",
            "\n",
            "ℹ️ Це цілком можливо випадково → доказів на користь зростання середнього чеку недостатньо\n"
          ]
        }
      ]
    },
    {
      "cell_type": "markdown",
      "source": [
        "### Крок 7: Приймаємо рішення\n",
        "\n",
        "#### Два способи прийняття рішення:\n",
        "\n"
      ],
      "metadata": {
        "id": "vldK-7VSgu1y"
      },
      "id": "vldK-7VSgu1y"
    },
    {
      "cell_type": "code",
      "source": [
        "print(\"МЕТОД 1: Порівняння Z-статистики з критичним значенням\")\n",
        "print(f\"\\nZ-статистика = {z_statistic:.3f}\")\n",
        "print(f\"Критичне значення (Z_кр) = {z_critical:.3f}\")\n",
        "print(f\"Порівняння: {z_statistic:.3f} {'>' if z_statistic > z_critical else '≤'} {z_critical:.3f}\")\n",
        "\n",
        "if z_statistic > z_critical:\n",
        "    print(\"✅ Висновок: Z-статистика ПЕРЕВИЩУЄ критичне значення → H₀ відхиляємо\")\n",
        "    decision1 = \"ВІДХИЛЯЄМО H₀\"\n",
        "else:\n",
        "    print(\"❌ Висновок: Z-статистика НЕ перевищує критичне значення → H₀ не відхиляємо\")\n",
        "    decision1 = \"НЕ ВІДХИЛЯЄМО H₀\"\n",
        "\n",
        "print(f\"\\nРішення (метод 1): {decision1}\")"
      ],
      "metadata": {
        "colab": {
          "base_uri": "https://localhost:8080/"
        },
        "id": "lZBteMCqhARQ",
        "outputId": "69a72f8a-a387-4bbd-97f1-c821a15bd8b2"
      },
      "id": "lZBteMCqhARQ",
      "execution_count": 8,
      "outputs": [
        {
          "output_type": "stream",
          "name": "stdout",
          "text": [
            "МЕТОД 1: Порівняння Z-статистики з критичним значенням\n",
            "\n",
            "Z-статистика = -0.995\n",
            "Критичне значення (Z_кр) = 1.645\n",
            "Порівняння: -0.995 ≤ 1.645\n",
            "❌ Висновок: Z-статистика НЕ перевищує критичне значення → H₀ не відхиляємо\n",
            "\n",
            "Рішення (метод 1): НЕ ВІДХИЛЯЄМО H₀\n"
          ]
        }
      ]
    },
    {
      "cell_type": "code",
      "source": [
        "print(\"МЕТОД 2: Порівняння p-value з рівнем значущості α\")\n",
        "print(f\"\\np-value = {p_value:.6f}\")\n",
        "print(f\"Рівень значущості α = {alpha}\")\n",
        "print(f\"Порівняння: {p_value:.6f} {'<' if p_value < alpha else '≥'} {alpha}\")\n",
        "\n",
        "if p_value < alpha:\n",
        "    print(\"✅ Висновок: p-value МЕНШЕ за α → H₀ відхиляємо\")\n",
        "    decision2 = \"ВІДХИЛЯЄМО H₀\"\n",
        "else:\n",
        "    print(\"❌ Висновок: p-value НЕ менше за α → H₀ не відхиляємо\")\n",
        "    decision2 = \"НЕ ВІДХИЛЯЄМО H₀\"\n",
        "\n",
        "print(f\"\\nРішення (метод 2): {decision2}\")"
      ],
      "metadata": {
        "colab": {
          "base_uri": "https://localhost:8080/"
        },
        "id": "3C_CqIuthQS3",
        "outputId": "f629fce4-f715-46d9-c5a5-b5d927d60c18"
      },
      "id": "3C_CqIuthQS3",
      "execution_count": 9,
      "outputs": [
        {
          "output_type": "stream",
          "name": "stdout",
          "text": [
            "МЕТОД 2: Порівняння p-value з рівнем значущості α\n",
            "\n",
            "p-value = 0.840216\n",
            "Рівень значущості α = 0.05\n",
            "Порівняння: 0.840216 ≥ 0.05\n",
            "❌ Висновок: p-value НЕ менше за α → H₀ не відхиляємо\n",
            "\n",
            "Рішення (метод 2): НЕ ВІДХИЛЯЄМО H₀\n"
          ]
        }
      ]
    },
    {
      "cell_type": "markdown",
      "source": [
        "###**Фінальний висновок**"
      ],
      "metadata": {
        "id": "rRCHQibBjzz6"
      },
      "id": "rRCHQibBjzz6"
    },
    {
      "cell_type": "code",
      "source": [
        "print(\"ФІНАЛЬНИЙ ВИСНОВОК\\n\")\n",
        "\n",
        "if decision2 == \"ВІДХИЛЯЄМО H₀\":\n",
        "    print(\"✅ Твердження маркетингової команди ПІДТВЕРДЖУЄТЬСЯ!\")\n",
        "    print(f\"   Середній чек покупців дійсно збільшився на рівні значущості {alpha*100:.0f}%\")\n",
        "    print(f\"   Вибіркове середнє: {sample_mean:.2f} доларів\")\n",
        "    print(f\"   Гіпотетичне середнє (попереднє): {population_mean:.2f} доларів\")\n",
        "    print(f\"   Статистично значуще перевищує попередній середній чек\")\n",
        "else:\n",
        "    print(\"❌ Твердження маркетингової команди НЕ ПІДТВЕРДЖУЄТЬСЯ\")\n",
        "    print(\"   Немає достатніх статистичних доказів, що середній чек збільшився\")\n"
      ],
      "metadata": {
        "colab": {
          "base_uri": "https://localhost:8080/"
        },
        "id": "TfSv0om9kW_3",
        "outputId": "4901c778-0f36-429a-b8a4-f115d7525e43"
      },
      "id": "TfSv0om9kW_3",
      "execution_count": 16,
      "outputs": [
        {
          "output_type": "stream",
          "name": "stdout",
          "text": [
            "ФІНАЛЬНИЙ ВИСНОВОК\n",
            "\n",
            "❌ Твердження маркетингової команди НЕ ПІДТВЕРДЖУЄТЬСЯ\n",
            "   Немає достатніх статистичних доказів, що середній чек збільшився\n"
          ]
        }
      ]
    },
    {
      "cell_type": "markdown",
      "source": [
        "### Короткий варіант розв’язку\n",
        "\n",
        "Для спрощення я зробила **скорочену версію Z-тесту**, де одразу розраховуються Z-статистика та p-value без покрокового виведення всіх проміжних формул та стандартної помилки.\n",
        "\n",
        "У цьому варіанті:\n",
        "- визначені нульова та альтернативна гіпотези;\n",
        "- обчислено Z-статистику;\n",
        "- знайдено p-value;\n",
        "- зроблено висновок про відхилення або невідхилення H₀.\n",
        "\n",
        "Цей підхід економить час і код, але **логіка тесту та висновки залишаються тими самими**, що й у повному розв’язку з деталізованими обчисленнями.\n"
      ],
      "metadata": {
        "id": "JvuyUsNAk1di"
      },
      "id": "JvuyUsNAk1di"
    },
    {
      "cell_type": "code",
      "source": [
        "\"\"\"\n",
        "import numpy as np\n",
        "from scipy import stats\n",
        "import pandas as pd\n",
        "\n",
        "# 1. Параметри задачі\n",
        "sample_mean = np.mean(data)                # x̄ - середнє IQ у вибірці школи\n",
        "population_mean = 20                       # μ₀ - середнє IQ в популяції\n",
        "population_std = np.std(data, ddof=1)      # σ - стандартне відхилення в популяції\n",
        "sample_size = len(data)                    # n - обсяг вибірки\n",
        "alpha = 0.05                               # α - рівень значущості (ймовірність помилки I роду)\n",
        "\n",
        "# 2. Обчислення\n",
        "standard_error = population_std / np.sqrt(sample_size)\n",
        "z_statistic = (sample_mean - population_mean) / SE\n",
        "z_critical = stats.norm.ppf(1 - alpha)\n",
        "p_value = 1 - stats.norm.cdf(z_stat)\n",
        "\"\"\"\n",
        "# 3. Формування результатів у вигляді таблиці\n",
        "results = pd.DataFrame({\n",
        "    \"Показник\": [\n",
        "        \"Вибіркове середнє\",\n",
        "        \"Гіпотетичне середнє (H₀)\",\n",
        "        \"Стандартне відхилення\",\n",
        "        \"Обсяг вибірки\",\n",
        "        \"Стандартна помилка (SE)\",\n",
        "        \"Z-статистика\",\n",
        "        \"Критичне Z\",\n",
        "        \"p-value\"\n",
        "    ],\n",
        "    \"Значення\": [\n",
        "        round(sample_mean, 3),\n",
        "        population_mean,\n",
        "        round(population_std, 3),\n",
        "        sample_size,\n",
        "        round(standard_error, 3),\n",
        "        round(z_statistic, 3),\n",
        "        round(z_critical, 3),\n",
        "        round(p_value, 5)\n",
        "    ]\n",
        "})\n",
        "\n",
        "print(\"\\n📊 Результати Z-тесту\")\n",
        "print(results.to_string(index=False))\n",
        "\n",
        "# 4. Висновок\n",
        "print(\"\\n🔎 Формулювання гіпотез:\")\n",
        "print(\"H₀: μ = 20  (середній чек не змінився)\")\n",
        "print(\"H₁: μ > 20  (середній чек зріс)\\n\")\n",
        "\n",
        "if z_statistic > z_critical and p_value < alpha:\n",
        "    print(\"✅ Відхиляємо H₀ → середній чек **статистично значуще зріс** (p =\", round(p_value, 5), \")\")\n",
        "else:\n",
        "    print(\"❌ Не відхиляємо H₀ → **немає доказів зростання середнього чека** (p =\", round(p_value, 5), \")\")\n"
      ],
      "metadata": {
        "colab": {
          "base_uri": "https://localhost:8080/"
        },
        "id": "jRXhXElImGMl",
        "outputId": "519e19d6-e43b-4616-a10a-3f7513521a26"
      },
      "id": "jRXhXElImGMl",
      "execution_count": 17,
      "outputs": [
        {
          "output_type": "stream",
          "name": "stdout",
          "text": [
            "\n",
            "📊 Результати Z-тесту\n",
            "                Показник  Значення\n",
            "       Вибіркове середнє  19.37800\n",
            "Гіпотетичне середнє (H₀)  20.00000\n",
            "   Стандартне відхилення   6.25400\n",
            "           Обсяг вибірки 100.00000\n",
            " Стандартна помилка (SE)   0.62500\n",
            "            Z-статистика  -0.99500\n",
            "              Критичне Z   1.64500\n",
            "                 p-value   0.84022\n",
            "\n",
            "🔎 Формулювання гіпотез:\n",
            "H₀: μ = 20  (середній чек не змінився)\n",
            "H₁: μ > 20  (середній чек зріс)\n",
            "\n",
            "❌ Не відхиляємо H₀ → **немає доказів зростання середнього чека** (p = 0.84022 )\n"
          ]
        }
      ]
    },
    {
      "cell_type": "markdown",
      "source": [
        "**Завдання 2.** Виконайте обчислення z-test з використанням бібліотеки statsmodels.\n",
        "\n",
        "Отримайте z-статистику та р-значення.\n",
        "\n",
        "Виведіть p-значення та зробіть висновок, чи ми маємо достатньо доказів, аби стверджувати, що середній чек зріс.\n",
        "\n",
        "Чи зійшлись значення z-статистику та р-значення в цьому завданні з попередніми обчисленнями?\n",
        "\n",
        "Завдання оцінюється в 3 бали."
      ],
      "metadata": {
        "id": "0FOBByRMXkL2"
      },
      "id": "0FOBByRMXkL2"
    },
    {
      "cell_type": "code",
      "source": [
        "from statsmodels.stats import weightstats as stests\n",
        "\n",
        "print(\"Z-TEST З ВИКОРИСТАННЯМ STATSMODELS\")\n",
        "z_stat_sm, p_val_sm = stests.ztest(data,                   # наші дані\n",
        "                                   value=population_mean,  # μ₀ = 20\n",
        "                                   alternative='larger')   # H₁: μ > 20\n",
        "\n",
        "print(f\"\\nРезультати z-тесту:\")\n",
        "print(f\"  Z-статистика: {z_stat_sm:.3f}\")\n",
        "print(f\"  P-value: {p_val_sm:.6f}\\n\")\n",
        "\n",
        "# Інтерпретація результатів\n",
        "print(\"ІНТЕРПРЕТАЦІЯ:\")\n",
        "if p_val_sm < alpha:\n",
        "    print(f\"✅ ВІДХИЛЯЄМО H₀\")\n",
        "    print(f\"   p-value ({p_val_sm:.6f}) < α ({alpha})\")\n",
        "    print(\"   Висновок: Cередній чек статистично значуще зріс\")\n",
        "else:\n",
        "    print(f\"❌ НЕ ВІДХИЛЯЄМО H₀\")\n",
        "    print(f\"   p-value ({p_val_sm:.6f}) ≥ α ({alpha})\")\n",
        "    print(\"   Висновок: Немає достатнь доказів зростання середнього чеку\")"
      ],
      "metadata": {
        "id": "f_Oa0DJhdg6v",
        "colab": {
          "base_uri": "https://localhost:8080/"
        },
        "outputId": "65839a4d-62ca-47e2-a695-4cd649bdd9f0"
      },
      "id": "f_Oa0DJhdg6v",
      "execution_count": 28,
      "outputs": [
        {
          "output_type": "stream",
          "name": "stdout",
          "text": [
            "Z-TEST З ВИКОРИСТАННЯМ STATSMODELS\n",
            "\n",
            "Результати z-тесту:\n",
            "  Z-статистика: -0.995\n",
            "  P-value: 0.840216\n",
            "\n",
            "ІНТЕРПРЕТАЦІЯ:\n",
            "❌ НЕ ВІДХИЛЯЄМО H₀\n",
            "   p-value (0.840216) ≥ α (0.05)\n",
            "   Висновок: Немає достатнь доказів зростання середнього чеку\n"
          ]
        }
      ]
    },
    {
      "cell_type": "code",
      "source": [
        "# Порівняння з ручними розрахунками\n",
        "print(\"ПОРІВНЯННЯ З РУЧНИМИ РОЗРАХУНКАМИ:\")\n",
        "print(f\"\\nZ-статистика:\")\n",
        "print(f\"  Ручний розрахунок: {z_statistic:.3f}\")\n",
        "print(f\"  Statsmodels:       {z_stat_sm:.3f}\")\n",
        "print(f\"  Різниця:           {abs(z_statistic - z_stat_sm):.3f}\")\n",
        "print()\n",
        "\n",
        "# Перевірка збігу з попередніми обчисленнями\n",
        "print(\"\\nПеревірка збігу з попередніми обчисленнями:\")\n",
        "print(\"Z-статистика та p-value збігаються з розрахунками вручну.\" if abs(z_stat - z_statistic) < 1e-6 else \"Є невелика різниця.\")"
      ],
      "metadata": {
        "colab": {
          "base_uri": "https://localhost:8080/"
        },
        "id": "k4dToShBnQrZ",
        "outputId": "6e483b53-c90c-4f4c-94e5-b6bbb8e0c1ca"
      },
      "id": "k4dToShBnQrZ",
      "execution_count": 33,
      "outputs": [
        {
          "output_type": "stream",
          "name": "stdout",
          "text": [
            "ПОРІВНЯННЯ З РУЧНИМИ РОЗРАХУНКАМИ:\n",
            "\n",
            "Z-статистика:\n",
            "  Ручний розрахунок: -0.995\n",
            "  Statsmodels:       -0.995\n",
            "  Різниця:           0.000\n",
            "\n",
            "\n",
            "Перевірка збігу з попередніми обчисленнями:\n",
            "Z-статистика та p-value збігаються з розрахунками вручну.\n"
          ]
        }
      ]
    }
  ],
  "metadata": {
    "hide_input": false,
    "kernelspec": {
      "display_name": "Python 3 (ipykernel)",
      "language": "python",
      "name": "python3"
    },
    "language_info": {
      "codemirror_mode": {
        "name": "ipython",
        "version": 3
      },
      "file_extension": ".py",
      "mimetype": "text/x-python",
      "name": "python",
      "nbconvert_exporter": "python",
      "pygments_lexer": "ipython3",
      "version": "3.11.3"
    },
    "toc": {
      "base_numbering": 1,
      "nav_menu": {},
      "number_sections": true,
      "sideBar": true,
      "skip_h1_title": false,
      "title_cell": "Table of Contents",
      "title_sidebar": "Contents",
      "toc_cell": false,
      "toc_position": {},
      "toc_section_display": true,
      "toc_window_display": false
    },
    "varInspector": {
      "cols": {
        "lenName": 16,
        "lenType": 16,
        "lenVar": 40
      },
      "kernels_config": {
        "python": {
          "delete_cmd_postfix": "",
          "delete_cmd_prefix": "del ",
          "library": "var_list.py",
          "varRefreshCmd": "print(var_dic_list())"
        },
        "r": {
          "delete_cmd_postfix": ") ",
          "delete_cmd_prefix": "rm(",
          "library": "var_list.r",
          "varRefreshCmd": "cat(var_dic_list()) "
        }
      },
      "types_to_exclude": [
        "module",
        "function",
        "builtin_function_or_method",
        "instance",
        "_Feature"
      ],
      "window_display": false
    },
    "colab": {
      "provenance": []
    }
  },
  "nbformat": 4,
  "nbformat_minor": 5
}