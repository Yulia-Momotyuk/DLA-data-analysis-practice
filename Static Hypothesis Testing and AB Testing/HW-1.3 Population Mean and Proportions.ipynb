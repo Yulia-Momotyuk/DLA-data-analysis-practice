{
  "cells": [
    {
      "cell_type": "markdown",
      "id": "e152f6d6",
      "metadata": {
        "ExecuteTime": {
          "end_time": "2022-12-10T14:29:24.703416Z",
          "start_time": "2022-12-10T14:29:24.688485Z"
        },
        "id": "e152f6d6"
      },
      "source": [
        "# Тести для малих вибірок та пропорцій\n",
        "\n"
      ]
    },
    {
      "cell_type": "markdown",
      "id": "abdcef5d",
      "metadata": {
        "id": "abdcef5d"
      },
      "source": [
        "**Завдання 1**. E-commerce компанія після редизайну сайту підозрює, що **середній час до покупки (time-to-purchase)** користувачів **збільшився**.\n",
        "Історично середній час від першого заходу на сайт до покупки становив $\\mu_0 = 123.7$ хвилин.\n",
        "\n",
        "Команда аналітиків випадково обрала дані **7 покупців після редизайну**:\n",
        "`128, 135, 121, 142, 126, 151, 123`\n",
        "\n",
        "З допомогою наявних даних зʼясуйте, чи збільшився середній час покупки після редизайну.\n",
        "\n",
        "Для цього виконайте наступні 6 кроків. Правильне виконання кожного з кроків оцінюється в 1 бал.\n",
        "\n",
        "1. Запишіть нульову та альтернативну гіпотези і визначте тип тесту.\n",
        "2. Обчисліть вибіркові статистики: $\\bar x$, $s$, $n$.\n",
        "3. Оберіть тип тесту та виконайте його (знайдіть критичне значення тесту, статистику тесту та р-значення) будь-яким пасуючим способом, щоб перевірити гіпотезу на рівні значущості $\\alpha = 0.10$.\n",
        "4. Прийміть рішення, чи відхиляєте ви гіпотезу $H_0$ використовуючи p-value.\n",
        "5. Напишіть висновок: чи справді редизайн сайту подовжив час до покупки?\n",
        "6. Чи зміниться ваше рішення при зміні рівня значущості на $\\alpha = 0.05$.\n"
      ]
    },
    {
      "cell_type": "code",
      "source": [
        "import numpy as np\n",
        "from scipy import stats\n",
        "\n",
        "# Дані з умови\n",
        "data = np.array([128, 135, 121, 142, 126, 151, 123])\n",
        "mu0 = 123.7     # історичне середнє\n",
        "alpha = 0.10"
      ],
      "metadata": {
        "id": "BcS4cm11QYpT"
      },
      "id": "BcS4cm11QYpT",
      "execution_count": 1,
      "outputs": []
    },
    {
      "cell_type": "markdown",
      "source": [
        "###Гіпотези і тип тесту\n",
        "\n",
        "H₀: μ = 123.7\n",
        "\n",
        "H₁: μ > 123.7 (підозрюємо збільшення часу)\n",
        "\n",
        "Тип тесту: правосторонній (one-tailed)  "
      ],
      "metadata": {
        "id": "hWZm0gBbpNWM"
      },
      "id": "hWZm0gBbpNWM"
    },
    {
      "cell_type": "code",
      "source": [
        "#Крок 1. Обчислимо вибіркову статистику\n",
        "x_bar = np.mean(data)\n",
        "s = np.std(data, ddof=1)\n",
        "n = len(data)\n",
        "\n",
        "print(\"ВИБІРКОВІ СТАТИСТИКИ\")\n",
        "print(f\"x̄ = {x_bar:.3f}\")\n",
        "print(f\"s = {s:.3f}\")\n",
        "print(f\"n = {n}\")\n",
        "\n",
        "# Крок 2. Обчислимо t-статистику\n",
        "t_stat = (x_bar - mu0) / (s / np.sqrt(n))\n",
        "\n",
        "# 3. Критичне значення та p-value (правосторонній тест)\n",
        "df = n - 1\n",
        "t_crit = stats.t.ppf(1 - alpha, df)\n",
        "p_value = 1 - stats.t.cdf(t_stat, df)\n",
        "\n",
        "print(\"\\nРЕЗУЛЬТАТИ ТЕСТУ\")\n",
        "print(f\"t-статистика = {t_stat:.3f}\")\n",
        "print(f\"Критичне t (α=0.10) = {t_crit:.3f}\")\n",
        "print(f\"p-value = {p_value:.4f}\")\n",
        "\n",
        "if p_value < alpha:\n",
        "    print(\"\\n✅ Відхиляємо H₀ → середній час до покупки зріс після редизайну\")\n",
        "else:\n",
        "    print(\"\\n❌ Не відхиляємо H₀ → немає доказів, що час до покупки зріс\")"
      ],
      "metadata": {
        "colab": {
          "base_uri": "https://localhost:8080/"
        },
        "id": "3xgHZ-5wqWNc",
        "outputId": "b75df0d2-f2f4-4051-8175-c39f8c5c36c4"
      },
      "id": "3xgHZ-5wqWNc",
      "execution_count": 2,
      "outputs": [
        {
          "output_type": "stream",
          "name": "stdout",
          "text": [
            "ВИБІРКОВІ СТАТИСТИКИ\n",
            "x̄ = 132.286\n",
            "s = 10.981\n",
            "n = 7\n",
            "\n",
            "РЕЗУЛЬТАТИ ТЕСТУ\n",
            "t-статистика = 2.069\n",
            "Критичне t (α=0.10) = 1.440\n",
            "p-value = 0.0420\n",
            "\n",
            "✅ Відхиляємо H₀ → середній час до покупки зріс після редизайну\n"
          ]
        }
      ]
    },
    {
      "cell_type": "code",
      "source": [
        "# Перевірка для α=0.05\n",
        "alpha2 = 0.05\n",
        "t_crit2 = stats.t.ppf(1 - alpha2, df)\n",
        "p_value2 = 1 - stats.t.cdf(t_stat, df)\n",
        "\n",
        "print(\"ПЕРЕВІРКА ДЛЯ α=0.05:\")\n",
        "print(f\"Критичне t = {t_crit2:.3f}, p-value = {p_value2:.4f}\")\n",
        "if p_value2 < alpha2:\n",
        "    print(\"\\n✅ Відхиляємо H₀ і при α=0.05\")\n",
        "else:\n",
        "    print(\"\\n❌ Не відхиляємо H₀ при α=0.05\")"
      ],
      "metadata": {
        "colab": {
          "base_uri": "https://localhost:8080/"
        },
        "id": "QAgUBmSwr1ud",
        "outputId": "84bf8f05-83e8-4b61-c278-e7648e26c018"
      },
      "id": "QAgUBmSwr1ud",
      "execution_count": 3,
      "outputs": [
        {
          "output_type": "stream",
          "name": "stdout",
          "text": [
            "ПЕРЕВІРКА ДЛЯ α=0.05:\n",
            "Критичне t = 1.943, p-value = 0.0420\n",
            "\n",
            "✅ Відхиляємо H₀ і при α=0.05\n"
          ]
        }
      ]
    },
    {
      "cell_type": "markdown",
      "source": [
        "**Завдання 2.**\n",
        "\n",
        "До спеціальної рекламної кампанії **23%** дорослих упізнавали логотип компанії. Після завершення кампанії відділ маркетингу провів опитування: з **1200** випадково відібраних дорослих **311** упізнали логотип.\n",
        "\n",
        "Перевірте на рівні значущості **3%** ($\\alpha=0.03$), чи дають ці дані достатні підстави стверджувати, що **тепер більше ніж 23%** дорослих упізнають логотип компанії. Для розвʼязку використовуйте бібліотеку `statsmodels`.\n",
        "\n",
        "Зробіть висновок, чи зросла впізнаваність логотипу.\n",
        "\n",
        "Додатково, обчисліть довірчий інтревал на заданому рівні значущості і проінтерпретуйте текстом - як він додатково пояснює прийняте нами рішення?"
      ],
      "metadata": {
        "id": "5govLcx8FPSl"
      },
      "id": "5govLcx8FPSl"
    },
    {
      "cell_type": "code",
      "source": [
        "import statsmodels.api as sm\n",
        "from statsmodels.stats.proportion import proportions_ztest, proportion_confint\n",
        "\n",
        "# Вхідні дані\n",
        "p0 = 0.23          # гіпотетична пропорція\n",
        "n = 1200           # обсяг вибірки\n",
        "x = 311            # кількість \"успіхів\"\n",
        "alpha = 0.03\n",
        "\n",
        "# 1. Пропорційний z-тест\n",
        "test_stat, p_value = sm.stats.proportions_ztest(count=x, nobs=n, value=p0, alternative='larger')\n",
        "\n",
        "print(\"РЕЗУЛЬТАТИ Z-ТЕСТУ ДЛЯ ПРОПОРЦІЙ\")\n",
        "print(f\"z-статистика = {test_stat:.3f}\")\n",
        "print(f\"p-value = {p_value:.5f}\")\n",
        "\n",
        "# 2. Довірчий інтервал для пропорції\n",
        "confint_low, confint_high = sm.stats.proportion_confint(count=x, nobs=n, alpha=alpha, method='normal')\n",
        "\n",
        "print(\"\\nДОВІРЧИЙ ІНТЕРВАЛ ДЛЯ ПРОПОРЦІЇ (97%)\")\n",
        "print(f\"({confint_low:.5f}, {confint_high:.5f})\")"
      ],
      "metadata": {
        "colab": {
          "base_uri": "https://localhost:8080/"
        },
        "id": "YM629l0DubBd",
        "outputId": "a01ce6a1-5e49-4912-feb2-0035cde1c57b"
      },
      "id": "YM629l0DubBd",
      "execution_count": 14,
      "outputs": [
        {
          "output_type": "stream",
          "name": "stdout",
          "text": [
            "РЕЗУЛЬТАТИ Z-ТЕСТУ ДЛЯ ПРОПОРЦІЙ\n",
            "z-статистика = 2.306\n",
            "p-value = 0.01056\n",
            "\n",
            "ДОВІРЧИЙ ІНТЕРВАЛ ДЛЯ ПРОПОРЦІЇ (97%)\n",
            "(0.23172, 0.28662)\n"
          ]
        }
      ]
    },
    {
      "cell_type": "markdown",
      "source": [
        "###Інтерпретація результатів\n",
        "\n",
        "1. **Односторонній тест**\n",
        "\n",
        "   * $H_0: p = 0.23$\n",
        "   * $H_1: p > 0.23$\n",
        "  \n",
        "   Оскільки p-value = 0.01056 < 0.03, ми **відхиляємо $H_0$**. Є статистично значущі докази, що після рекламної кампанії частка тих, хто впізнає логотип, **зросла понад 23%**.\n",
        "\n",
        "2. **97% довірчий інтервал**\n",
        "\n",
        "   * Приблизний інтервал: (0.23172, 0.28662).\n",
        "   * Це означає, що з імовірністю 97% справжня частка лежить у цих межах.\n",
        "   * Оскільки нижня межа інтервалу вища за 0.23, ми маємо **додаткове підтвердження**, що впізнаваність логотипу зросла."
      ],
      "metadata": {
        "id": "FMwv7bAUvkpw"
      },
      "id": "FMwv7bAUvkpw"
    }
  ],
  "metadata": {
    "hide_input": false,
    "kernelspec": {
      "display_name": "Python 3 (ipykernel)",
      "language": "python",
      "name": "python3"
    },
    "language_info": {
      "codemirror_mode": {
        "name": "ipython",
        "version": 3
      },
      "file_extension": ".py",
      "mimetype": "text/x-python",
      "name": "python",
      "nbconvert_exporter": "python",
      "pygments_lexer": "ipython3",
      "version": "3.11.3"
    },
    "toc": {
      "base_numbering": 1,
      "nav_menu": {},
      "number_sections": true,
      "sideBar": true,
      "skip_h1_title": false,
      "title_cell": "Table of Contents",
      "title_sidebar": "Contents",
      "toc_cell": false,
      "toc_position": {},
      "toc_section_display": true,
      "toc_window_display": false
    },
    "varInspector": {
      "cols": {
        "lenName": 16,
        "lenType": 16,
        "lenVar": 40
      },
      "kernels_config": {
        "python": {
          "delete_cmd_postfix": "",
          "delete_cmd_prefix": "del ",
          "library": "var_list.py",
          "varRefreshCmd": "print(var_dic_list())"
        },
        "r": {
          "delete_cmd_postfix": ") ",
          "delete_cmd_prefix": "rm(",
          "library": "var_list.r",
          "varRefreshCmd": "cat(var_dic_list()) "
        }
      },
      "types_to_exclude": [
        "module",
        "function",
        "builtin_function_or_method",
        "instance",
        "_Feature"
      ],
      "window_display": false
    },
    "colab": {
      "provenance": []
    }
  },
  "nbformat": 4,
  "nbformat_minor": 5
}