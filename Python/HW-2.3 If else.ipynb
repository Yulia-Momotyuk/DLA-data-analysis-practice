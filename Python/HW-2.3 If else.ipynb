{
 "cells": [
  {
   "cell_type": "markdown",
   "metadata": {
    "id": "ZrhGiOYxAAbb"
   },
   "source": [
    "Домашнє завдання до теми \"Конструкція if...else\""
   ]
  },
  {
   "cell_type": "markdown",
   "metadata": {
    "id": "mpXlwoNP-cWT"
   },
   "source": [
    "1. **Перевірка температури:**\n",
    "   - Завдання:\n",
    "     - Дано заздалегідь визначену змінну температури `temperature`. Перевірте її значення.\n",
    "     - Якщо температура вище 25 градусів Цельсія, виведіть \"Це теплий день.\"\n",
    "     - Якщо температура знаходиться в межах від 15 до 25 градусів Цельсія (включно), виведіть \"Це приємний день.\"\n",
    "     - В іншому випадку виведіть \"Це холодний день.\""
   ]
  },
  {
   "cell_type": "code",
   "execution_count": 1,
   "metadata": {
    "execution": {
     "iopub.execute_input": "2025-06-11T10:54:19.567769Z",
     "iopub.status.busy": "2025-06-11T10:54:19.567769Z",
     "iopub.status.idle": "2025-06-11T10:54:19.599018Z",
     "shell.execute_reply": "2025-06-11T10:54:19.599018Z",
     "shell.execute_reply.started": "2025-06-11T10:54:19.567769Z"
    },
    "id": "fho34W3U-ssw"
   },
   "outputs": [],
   "source": [
    "temperature = 20"
   ]
  },
  {
   "cell_type": "code",
   "execution_count": 2,
   "metadata": {
    "execution": {
     "iopub.execute_input": "2025-06-11T10:54:22.194392Z",
     "iopub.status.busy": "2025-06-11T10:54:22.178764Z",
     "iopub.status.idle": "2025-06-11T10:54:22.225631Z",
     "shell.execute_reply": "2025-06-11T10:54:22.225631Z",
     "shell.execute_reply.started": "2025-06-11T10:54:22.194392Z"
    },
    "id": "CC3TlffAAPxK"
   },
   "outputs": [
    {
     "name": "stdout",
     "output_type": "stream",
     "text": [
      "This is a nice day\n"
     ]
    }
   ],
   "source": [
    "if (temperature > 25):\n",
    "  print(\"This is a warm day\")\n",
    "elif (15 <= temperature <=25):\n",
    "  print(\"This is a nice day\")\n",
    "else:\n",
    "  print(\"This is a cold day\")"
   ]
  },
  {
   "cell_type": "markdown",
   "metadata": {
    "id": "ANFbi11m-4v_"
   },
   "source": [
    "2. **Калькулятор оцінок:**\n",
    "   - Завдання:\n",
    "     - Дано заздалегідь визначену змінну `score` із результатом іспиту (зі 100 балів). Ваша задача визначити відповідну літеру цієї оцінки за правилами нижче.\n",
    "     - Якщо оцінка 90 або вище, виведіть \"A\".\n",
    "     - Якщо оцінка знаходиться в межах від 80 до 89, виведіть \"B\".\n",
    "     - Якщо оцінка знаходиться в межах від 70 до 79, виведіть \"C\".\n",
    "     - Якщо оцінка знаходиться в межах від 60 до 69, виведіть \"D\".\n",
    "     - В іншому випадку виведіть \"F\".\n",
    "     \n"
   ]
  },
  {
   "cell_type": "code",
   "execution_count": 4,
   "metadata": {
    "execution": {
     "iopub.execute_input": "2025-06-11T10:54:57.423963Z",
     "iopub.status.busy": "2025-06-11T10:54:57.423963Z",
     "iopub.status.idle": "2025-06-11T10:54:57.439587Z",
     "shell.execute_reply": "2025-06-11T10:54:57.439587Z",
     "shell.execute_reply.started": "2025-06-11T10:54:57.423963Z"
    },
    "id": "2w0dAfBw_ew2"
   },
   "outputs": [],
   "source": [
    "score = 75"
   ]
  },
  {
   "cell_type": "code",
   "execution_count": 5,
   "metadata": {
    "execution": {
     "iopub.execute_input": "2025-06-11T10:54:59.189887Z",
     "iopub.status.busy": "2025-06-11T10:54:59.189887Z",
     "iopub.status.idle": "2025-06-11T10:54:59.221144Z",
     "shell.execute_reply": "2025-06-11T10:54:59.221144Z",
     "shell.execute_reply.started": "2025-06-11T10:54:59.189887Z"
    },
    "id": "ZdJsRZ0WAQVD"
   },
   "outputs": [
    {
     "name": "stdout",
     "output_type": "stream",
     "text": [
      "C\n"
     ]
    }
   ],
   "source": [
    "if score >= 90:\n",
    "  print(\"A\")\n",
    "elif score in range(80,90):\n",
    "  print(\"B\")\n",
    "elif score in range(70, 80):\n",
    "  print(\"C\")\n",
    "elif score in range(60, 70):\n",
    "  print(\"D\")\n",
    "else:\n",
    "  print(\"F\")\n",
    "     "
   ]
  },
  {
   "cell_type": "markdown",
   "metadata": {
    "id": "ohXlepp7_dns"
   },
   "source": [
    "\n",
    "\n",
    "3. **Перевірка на високосний рік:**\n",
    "   - Завдання:\n",
    "     - Дано заздалегідь визначену змінну року `year`. Перевірте, чи є рік високосним роком. Правила для перевірки наведені нижче.\n",
    "     - Якщо рік ділиться на 4 і не ділиться на 100, або він ділиться на 400, виведіть \"Високосний рік\".\n",
    "     - В іншому випадку виведіть \"Не високосний рік\".\n"
   ]
  },
  {
   "cell_type": "code",
   "execution_count": 6,
   "metadata": {
    "execution": {
     "iopub.execute_input": "2025-06-11T10:58:17.532162Z",
     "iopub.status.busy": "2025-06-11T10:58:17.532162Z",
     "iopub.status.idle": "2025-06-11T10:58:17.563413Z",
     "shell.execute_reply": "2025-06-11T10:58:17.563413Z",
     "shell.execute_reply.started": "2025-06-11T10:58:17.532162Z"
    },
    "id": "i4OUe6Kh_sAk"
   },
   "outputs": [],
   "source": [
    "year = 2024  # Приклад року"
   ]
  },
  {
   "cell_type": "code",
   "execution_count": 7,
   "metadata": {
    "execution": {
     "iopub.execute_input": "2025-06-11T10:58:19.485616Z",
     "iopub.status.busy": "2025-06-11T10:58:19.485616Z",
     "iopub.status.idle": "2025-06-11T10:58:19.516862Z",
     "shell.execute_reply": "2025-06-11T10:58:19.516862Z",
     "shell.execute_reply.started": "2025-06-11T10:58:19.485616Z"
    },
    "id": "yTWX7B4JARhH"
   },
   "outputs": [
    {
     "name": "stdout",
     "output_type": "stream",
     "text": [
      "This is a leap year\n",
      "This is a leap year\n"
     ]
    }
   ],
   "source": [
    "# Method 1\n",
    "\n",
    "if (year % 4 == 0 and year % 100 != 0) or (year % 400 == 0):\n",
    "    print('This is a leap year')\n",
    "else:\n",
    "    print(\"This is not a leap year\")\n",
    "\n",
    "# Method 2\n",
    "import calendar\n",
    "\n",
    "if calendar.isleap(year):\n",
    "    print(\"This is a leap year\")\n",
    "else:\n",
    "    print(\"This is not a leap year\")"
   ]
  },
  {
   "cell_type": "code",
   "execution_count": 8,
   "metadata": {
    "execution": {
     "iopub.execute_input": "2025-06-11T10:59:41.985613Z",
     "iopub.status.busy": "2025-06-11T10:59:41.985613Z",
     "iopub.status.idle": "2025-06-11T10:59:42.016867Z",
     "shell.execute_reply": "2025-06-11T10:59:42.016867Z",
     "shell.execute_reply.started": "2025-06-11T10:59:41.985613Z"
    }
   },
   "outputs": [],
   "source": [
    "this_year = 2025 "
   ]
  },
  {
   "cell_type": "code",
   "execution_count": 9,
   "metadata": {
    "execution": {
     "iopub.execute_input": "2025-06-11T11:00:23.412777Z",
     "iopub.status.busy": "2025-06-11T11:00:23.412777Z",
     "iopub.status.idle": "2025-06-11T11:00:23.444025Z",
     "shell.execute_reply": "2025-06-11T11:00:23.444025Z",
     "shell.execute_reply.started": "2025-06-11T11:00:23.412777Z"
    }
   },
   "outputs": [
    {
     "name": "stdout",
     "output_type": "stream",
     "text": [
      "This is not a leap year\n",
      "This is not a leap year\n"
     ]
    }
   ],
   "source": [
    "# Method 1\n",
    "\n",
    "if (this_year % 4 == 0 and this_year % 100 != 0) or (this_year % 400 == 0):\n",
    "    print('This is a leap year')\n",
    "else:\n",
    "    print(\"This is not a leap year\")\n",
    "\n",
    "# Method 2\n",
    "import calendar\n",
    "\n",
    "if calendar.isleap(this_year):\n",
    "    print(\"This is a leap year\")\n",
    "else:\n",
    "    print(\"This is not a leap year\")"
   ]
  },
  {
   "cell_type": "code",
   "execution_count": null,
   "metadata": {},
   "outputs": [],
   "source": []
  }
 ],
 "metadata": {
  "colab": {
   "provenance": []
  },
  "kernelspec": {
   "display_name": "Python [conda env:base] *",
   "language": "python",
   "name": "conda-base-py"
  },
  "language_info": {
   "codemirror_mode": {
    "name": "ipython",
    "version": 3
   },
   "file_extension": ".py",
   "mimetype": "text/x-python",
   "name": "python",
   "nbconvert_exporter": "python",
   "pygments_lexer": "ipython3",
   "version": "3.12.7"
  }
 },
 "nbformat": 4,
 "nbformat_minor": 4
}
