{
 "cells": [
  {
   "cell_type": "markdown",
   "id": "5b1cae7d",
   "metadata": {
    "id": "5b1cae7d"
   },
   "source": [
    "1.Задане значення у змінній var. Перетворіть значення в змінній var на цілочисельне, запишіть в нову змінну `var_int` та виведіть тип нової змінної `var_int`."
   ]
  },
  {
   "cell_type": "code",
   "execution_count": 1,
   "id": "d93f77ed",
   "metadata": {
    "ExecuteTime": {
     "end_time": "2023-06-13T11:52:35.489925Z",
     "start_time": "2023-06-13T11:52:35.487238Z"
    },
    "execution": {
     "iopub.execute_input": "2025-06-28T09:56:22.042833Z",
     "iopub.status.busy": "2025-06-28T09:56:22.042833Z",
     "iopub.status.idle": "2025-06-28T09:56:22.074085Z",
     "shell.execute_reply": "2025-06-28T09:56:22.074085Z",
     "shell.execute_reply.started": "2025-06-28T09:56:22.042833Z"
    },
    "id": "d93f77ed"
   },
   "outputs": [],
   "source": [
    "var = '1224'"
   ]
  },
  {
   "cell_type": "code",
   "execution_count": 2,
   "id": "5a4afe8f",
   "metadata": {
    "execution": {
     "iopub.execute_input": "2025-06-28T09:56:22.089717Z",
     "iopub.status.busy": "2025-06-28T09:56:22.089717Z",
     "iopub.status.idle": "2025-06-28T09:56:22.120964Z",
     "shell.execute_reply": "2025-06-28T09:56:22.120964Z",
     "shell.execute_reply.started": "2025-06-28T09:56:22.089717Z"
    },
    "id": "5a4afe8f"
   },
   "outputs": [
    {
     "data": {
      "text/plain": [
       "int"
      ]
     },
     "execution_count": 2,
     "metadata": {},
     "output_type": "execute_result"
    }
   ],
   "source": [
    "var_int = int('1224')\n",
    "type(var_int)"
   ]
  },
  {
   "cell_type": "markdown",
   "id": "eb3d19d8",
   "metadata": {
    "ExecuteTime": {
     "end_time": "2023-06-13T13:00:19.611699Z",
     "start_time": "2023-06-13T13:00:19.607737Z"
    },
    "id": "eb3d19d8"
   },
   "source": [
    "2.У Вас є список слів. Виведіть кожне третє слово в списку."
   ]
  },
  {
   "cell_type": "code",
   "execution_count": 3,
   "id": "477f4ced",
   "metadata": {
    "ExecuteTime": {
     "end_time": "2023-06-13T13:00:02.052801Z",
     "start_time": "2023-06-13T13:00:02.048798Z"
    },
    "execution": {
     "iopub.execute_input": "2025-06-28T09:56:22.230348Z",
     "iopub.status.busy": "2025-06-28T09:56:22.230348Z",
     "iopub.status.idle": "2025-06-28T09:56:22.261595Z",
     "shell.execute_reply": "2025-06-28T09:56:22.261595Z",
     "shell.execute_reply.started": "2025-06-28T09:56:22.230348Z"
    },
    "id": "477f4ced"
   },
   "outputs": [],
   "source": [
    "words = [\"apple\", \"banana\", \"cherry\", \"date\", \"elderberry\", \"fig\", \"grape\", \"honeydew\", \"ice cream\", \"jackfruit\", \"kiwi\", \"lemon\", \"mango\", \"nectarine\", \"orange\", \"pineapple\", \"quince\", \"raspberry\", \"strawberry\", \"tangerine\", \"ugli fruit\", \"vanilla\", \"watermelon\", \"xigua\", \"yam\", \"zucchini\"]"
   ]
  },
  {
   "cell_type": "code",
   "execution_count": 4,
   "id": "1b73ca2f",
   "metadata": {
    "execution": {
     "iopub.execute_input": "2025-06-28T09:56:22.277222Z",
     "iopub.status.busy": "2025-06-28T09:56:22.277222Z",
     "iopub.status.idle": "2025-06-28T09:56:22.324097Z",
     "shell.execute_reply": "2025-06-28T09:56:22.324097Z",
     "shell.execute_reply.started": "2025-06-28T09:56:22.277222Z"
    },
    "id": "1b73ca2f"
   },
   "outputs": [
    {
     "name": "stdout",
     "output_type": "stream",
     "text": [
      "['cherry', 'fig', 'ice cream', 'lemon', 'orange', 'raspberry', 'ugli fruit', 'xigua']\n"
     ]
    }
   ],
   "source": [
    "every_third = words[2::3]\n",
    "print(every_third)"
   ]
  },
  {
   "cell_type": "markdown",
   "id": "394d1dea",
   "metadata": {
    "id": "394d1dea"
   },
   "source": [
    "3.Скільки всього СЛІВ у списку `words`?"
   ]
  },
  {
   "cell_type": "code",
   "execution_count": 5,
   "id": "83c88182",
   "metadata": {
    "execution": {
     "iopub.execute_input": "2025-06-28T09:56:22.402228Z",
     "iopub.status.busy": "2025-06-28T09:56:22.402228Z",
     "iopub.status.idle": "2025-06-28T09:56:22.433491Z",
     "shell.execute_reply": "2025-06-28T09:56:22.433491Z",
     "shell.execute_reply.started": "2025-06-28T09:56:22.402228Z"
    },
    "id": "83c88182"
   },
   "outputs": [
    {
     "data": {
      "text/plain": [
       "26"
      ]
     },
     "execution_count": 5,
     "metadata": {},
     "output_type": "execute_result"
    }
   ],
   "source": [
    "len(words)"
   ]
  },
  {
   "cell_type": "markdown",
   "id": "703d1620",
   "metadata": {
    "ExecuteTime": {
     "end_time": "2023-06-13T13:03:17.414285Z",
     "start_time": "2023-06-13T13:03:17.409285Z"
    },
    "id": "703d1620"
   },
   "source": [
    "4.Скільки всього СИМОВЛІВ в усіх словах у списку words? Символи - це і літери і наприклад, пробіли, знаки пукнтуації - `.,!?` і тд. Нас цікавить їх загальна кількість."
   ]
  },
  {
   "cell_type": "code",
   "execution_count": 6,
   "id": "e596356e-d49c-4b4e-89eb-6ca6c1b2ddbf",
   "metadata": {
    "execution": {
     "iopub.execute_input": "2025-06-28T09:56:22.511619Z",
     "iopub.status.busy": "2025-06-28T09:56:22.511619Z",
     "iopub.status.idle": "2025-06-28T09:56:22.542862Z",
     "shell.execute_reply": "2025-06-28T09:56:22.542862Z",
     "shell.execute_reply.started": "2025-06-28T09:56:22.511619Z"
    }
   },
   "outputs": [
    {
     "data": {
      "text/plain": [
       "180"
      ]
     },
     "execution_count": 6,
     "metadata": {},
     "output_type": "execute_result"
    }
   ],
   "source": [
    "total_letters = sum(len(word) for word in words)\n",
    "total_letters"
   ]
  },
  {
   "cell_type": "markdown",
   "id": "4c95f6a3",
   "metadata": {
    "id": "4c95f6a3"
   },
   "source": [
    "5.Скільки разів зустрічається кожен символ в усіх словах списку `words`? Відсортуйте символи в результуючому словнику за алфавітним порядком."
   ]
  },
  {
   "cell_type": "code",
   "execution_count": 7,
   "id": "f6cff6cb",
   "metadata": {
    "execution": {
     "iopub.execute_input": "2025-06-28T09:56:22.620989Z",
     "iopub.status.busy": "2025-06-28T09:56:22.620989Z",
     "iopub.status.idle": "2025-06-28T09:56:22.667865Z",
     "shell.execute_reply": "2025-06-28T09:56:22.667865Z",
     "shell.execute_reply.started": "2025-06-28T09:56:22.620989Z"
    },
    "id": "f6cff6cb"
   },
   "outputs": [
    {
     "data": {
      "text/plain": [
       "Counter({'e': 24,\n",
       "         'a': 20,\n",
       "         'r': 19,\n",
       "         'n': 15,\n",
       "         'i': 15,\n",
       "         'l': 8,\n",
       "         'c': 8,\n",
       "         'p': 7,\n",
       "         't': 7,\n",
       "         'g': 7,\n",
       "         'y': 6,\n",
       "         'u': 6,\n",
       "         'o': 5,\n",
       "         'm': 5,\n",
       "         'b': 4,\n",
       "         'w': 4,\n",
       "         'h': 3,\n",
       "         'd': 3,\n",
       "         'f': 3,\n",
       "         ' ': 2,\n",
       "         'k': 2,\n",
       "         's': 2,\n",
       "         'j': 1,\n",
       "         'q': 1,\n",
       "         'v': 1,\n",
       "         'x': 1,\n",
       "         'z': 1})"
      ]
     },
     "execution_count": 7,
     "metadata": {},
     "output_type": "execute_result"
    }
   ],
   "source": [
    "from collections import Counter\n",
    "\n",
    "total_letters = ''.join(words)\n",
    "count_letter = Counter(total_letters)\n",
    "count_letter"
   ]
  },
  {
   "cell_type": "markdown",
   "id": "94d9f1cc",
   "metadata": {
    "id": "94d9f1cc"
   },
   "source": [
    "Очікуваний результат:\n",
    "```\n",
    "{' ': 2,\n",
    " 'a': 20,\n",
    " 'b': 4,\n",
    " 'c': 8,\n",
    " 'd': 3,\n",
    " 'e': 24,\n",
    " 'f': 3,\n",
    " 'g': 7,\n",
    " 'h': 3,\n",
    " 'i': 15,\n",
    " 'j': 1,\n",
    " 'k': 2,\n",
    " 'l': 8,\n",
    " 'm': 5,\n",
    " 'n': 15,\n",
    " 'o': 5,\n",
    " 'p': 7,\n",
    " 'q': 1,\n",
    " 'r': 19,\n",
    " 's': 2,\n",
    " 't': 7,\n",
    " 'u': 6,\n",
    " 'v': 1,\n",
    " 'w': 4,\n",
    " 'x': 1,\n",
    " 'y': 6,\n",
    " 'z': 1}\n",
    " ```"
   ]
  },
  {
   "cell_type": "markdown",
   "id": "c93ac384",
   "metadata": {
    "id": "c93ac384"
   },
   "source": [
    "6.Використовуючи результат виконання попереднього завдання, виведіть на екран той символ, який зустрічається найчастіше і скільки разів він зустрічається. Це треба зробити програмно, а не просто подивившись на дані :)"
   ]
  },
  {
   "cell_type": "code",
   "execution_count": 8,
   "id": "9ddfb851",
   "metadata": {
    "execution": {
     "iopub.execute_input": "2025-06-28T09:56:22.839759Z",
     "iopub.status.busy": "2025-06-28T09:56:22.839759Z",
     "iopub.status.idle": "2025-06-28T09:56:22.870997Z",
     "shell.execute_reply": "2025-06-28T09:56:22.870997Z",
     "shell.execute_reply.started": "2025-06-28T09:56:22.839759Z"
    },
    "id": "9ddfb851"
   },
   "outputs": [
    {
     "name": "stdout",
     "output_type": "stream",
     "text": [
      "('e', 24)\n"
     ]
    }
   ],
   "source": [
    "most_common = sorted(count_letter.items(), key=lambda item: item [1])\n",
    "print(most_common[-1])"
   ]
  },
  {
   "cell_type": "markdown",
   "id": "f40adbed",
   "metadata": {
    "id": "f40adbed"
   },
   "source": [
    "7.Для кожного елементу списку виведіть тип елемену. Якщо тип обʼєкту - int (тільки цей тип безпосередньо!), виведіть результат піднесення цього числа до степеню 5."
   ]
  },
  {
   "cell_type": "code",
   "execution_count": 9,
   "id": "f92249ac",
   "metadata": {
    "ExecuteTime": {
     "end_time": "2023-06-13T12:53:04.365735Z",
     "start_time": "2023-06-13T12:53:04.362441Z"
    },
    "execution": {
     "iopub.execute_input": "2025-06-28T09:56:22.964759Z",
     "iopub.status.busy": "2025-06-28T09:56:22.964759Z",
     "iopub.status.idle": "2025-06-28T09:56:22.996006Z",
     "shell.execute_reply": "2025-06-28T09:56:22.996006Z",
     "shell.execute_reply.started": "2025-06-28T09:56:22.964759Z"
    },
    "id": "f92249ac"
   },
   "outputs": [],
   "source": [
    "elements = [12, 'type', 'Bob', True, 'False', 1.414, 1444.333, 123/33, 5]"
   ]
  },
  {
   "cell_type": "code",
   "execution_count": 10,
   "id": "96b72186",
   "metadata": {
    "execution": {
     "iopub.execute_input": "2025-06-28T09:56:22.996006Z",
     "iopub.status.busy": "2025-06-28T09:56:22.996006Z",
     "iopub.status.idle": "2025-06-28T09:56:23.042885Z",
     "shell.execute_reply": "2025-06-28T09:56:23.042885Z",
     "shell.execute_reply.started": "2025-06-28T09:56:22.996006Z"
    },
    "id": "96b72186"
   },
   "outputs": [
    {
     "name": "stdout",
     "output_type": "stream",
     "text": [
      "This is a number! Let't take it to power 5! The result is: 248832\n",
      "The type of element type is <class 'str'>\n",
      "The type of element Bob is <class 'str'>\n",
      "This is a number! Let't take it to power 5! The result is: 1\n",
      "The type of element False is <class 'str'>\n",
      "The type of element 1.414 is <class 'float'>\n",
      "The type of element 1444.333 is <class 'float'>\n",
      "The type of element 3.727272727272727 is <class 'float'>\n",
      "This is a number! Let't take it to power 5! The result is: 3125\n"
     ]
    }
   ],
   "source": [
    "for el in elements:\n",
    "    if isinstance(el, int):\n",
    "        print(f\"This is a number! Let't take it to power 5! The result is:\", el**5)\n",
    "    else:\n",
    "        print(f\"The type of element {el} is {type(el)}\")"
   ]
  },
  {
   "cell_type": "markdown",
   "id": "cf2247c7",
   "metadata": {
    "ExecuteTime": {
     "end_time": "2023-06-13T12:55:17.795510Z",
     "start_time": "2023-06-13T12:55:17.787158Z"
    },
    "id": "cf2247c7"
   },
   "source": [
    "Приклад очікуваного результату (текстові коментарі і форматування можуть бути іншими):\n",
    "```\n",
    "    The type of element 12 is <class 'int'>\n",
    "    This is a number! Let't take it to power 5! The result is: 248832\n",
    "    The type of element type is <class 'str'>\n",
    "    The type of element Bob is <class 'str'>\n",
    "    The type of element True is <class 'bool'>\n",
    "    The type of element False is <class 'str'>\n",
    "    The type of element 1.414 is <class 'float'>\n",
    "    The type of element 1444.333 is <class 'float'>\n",
    "    The type of element 3.727272727272727 is <class 'float'>\n",
    "    The type of element 5 is <class 'int'>\n",
    "    This is a number! Let't take it to power 5! The result is: 3125\n",
    "```"
   ]
  },
  {
   "cell_type": "markdown",
   "id": "76a0bef2",
   "metadata": {
    "id": "76a0bef2"
   },
   "source": [
    "8.Створіть програму, яка:\n",
    "\n",
    "- Для визначених значень `name` та `age` друкує повідомлення \"Привіт, [Ім’я] ! Вам [Вік] років.\".\n",
    "- Обчислює, скільки років залишилося користувачеві до 100 років, і друкує повідомлення з цією інформацією: \"До 100 років Вам лишилось [Число] років.\"  \n",
    "\n",
    "Запустіть програму для набору користувачів нижче."
   ]
  },
  {
   "cell_type": "code",
   "execution_count": 11,
   "id": "0092963a",
   "metadata": {
    "ExecuteTime": {
     "end_time": "2023-06-13T12:30:11.462941Z",
     "start_time": "2023-06-13T12:30:11.459673Z"
    },
    "execution": {
     "iopub.execute_input": "2025-06-28T09:56:23.214778Z",
     "iopub.status.busy": "2025-06-28T09:56:23.214778Z",
     "iopub.status.idle": "2025-06-28T09:56:23.246028Z",
     "shell.execute_reply": "2025-06-28T09:56:23.246028Z",
     "shell.execute_reply.started": "2025-06-28T09:56:23.214778Z"
    },
    "id": "0092963a"
   },
   "outputs": [],
   "source": [
    "users = [\n",
    "    ['Karl', 30],\n",
    "    ['Klara', 15],\n",
    "    ['Alexis', 56],\n",
    "    ['Charles', 99]\n",
    "]"
   ]
  },
  {
   "cell_type": "code",
   "execution_count": 12,
   "id": "8d6d820e",
   "metadata": {
    "execution": {
     "iopub.execute_input": "2025-06-28T09:56:23.246028Z",
     "iopub.status.busy": "2025-06-28T09:56:23.246028Z",
     "iopub.status.idle": "2025-06-28T09:56:23.277268Z",
     "shell.execute_reply": "2025-06-28T09:56:23.277268Z",
     "shell.execute_reply.started": "2025-06-28T09:56:23.246028Z"
    },
    "id": "8d6d820e"
   },
   "outputs": [
    {
     "name": "stdout",
     "output_type": "stream",
     "text": [
      "Привіт, Karl! Вам 30 років.\n",
      "Привіт, Klara! Вам 15 років.\n",
      "Привіт, Alexis! Вам 56 років.\n",
      "Привіт, Charles! Вам 99 років.\n"
     ]
    }
   ],
   "source": [
    "for name, age in users:\n",
    "    print(f\"Привіт, {name}! Вам {age} років.\")"
   ]
  },
  {
   "cell_type": "code",
   "execution_count": 13,
   "id": "4c22790d-ce82-4908-b50a-1109111fd942",
   "metadata": {
    "execution": {
     "iopub.execute_input": "2025-06-28T09:56:23.277268Z",
     "iopub.status.busy": "2025-06-28T09:56:23.277268Z",
     "iopub.status.idle": "2025-06-28T09:56:23.308726Z",
     "shell.execute_reply": "2025-06-28T09:56:23.308726Z",
     "shell.execute_reply.started": "2025-06-28T09:56:23.277268Z"
    }
   },
   "outputs": [
    {
     "name": "stdout",
     "output_type": "stream",
     "text": [
      "Karl: до 100 років Вам лишилось 70 років.\n",
      "Klara: до 100 років Вам лишилось 85 років.\n",
      "Alexis: до 100 років Вам лишилось 44 років.\n",
      "Charles: до 100 років Вам лишилось 1 років.\n"
     ]
    }
   ],
   "source": [
    "for name, age in users:\n",
    "    print(f\"{name}: до 100 років Вам лишилось {100 - age} років.\")"
   ]
  },
  {
   "cell_type": "markdown",
   "id": "45fedbc4",
   "metadata": {
    "id": "45fedbc4"
   },
   "source": [
    "9.Напишть фрагмент коду, який перевіряє, чи слово є паліндромом. Слово (або фраза) є паліндромом, якщо при читанні його зворотньому напрямі буде таке саме слово.\n",
    "Наприклад, слово \"radar\" є паліндромом, але \"radix\" не є паліндромом. Код в кінці має видавати результат True або False.  \n",
    "Код має звертати увагу лише на символи-літери. Регістр літер не має значення, а знаки пунктуації (кома, крапка) та `-+=/\\`` мають бути вилучені з рядка перед перевіркою. Так само, пробіли не впливають на визначення,чи слово є палендромом. Мають значення лише літери.\n",
    "Тобто рядки \"A mam, a\" та \"A mamA\" є паліндромами, а \"AmamU\" - ні.\n",
    "\n",
    "Опціонально ви можете розмістити код на перевірку чи є слово паліндромом у фукнцію.\n",
    "Запустіть свій код для рядків з набору нижче і виведіть результат перевірки на екран для кожного рядка."
   ]
  },
  {
   "cell_type": "code",
   "execution_count": 14,
   "id": "2f07ff54-d92b-4af9-ab97-5d572dc7b778",
   "metadata": {
    "execution": {
     "iopub.execute_input": "2025-06-28T09:56:23.402501Z",
     "iopub.status.busy": "2025-06-28T09:56:23.402501Z",
     "iopub.status.idle": "2025-06-28T09:56:23.433735Z",
     "shell.execute_reply": "2025-06-28T09:56:23.433735Z",
     "shell.execute_reply.started": "2025-06-28T09:56:23.402501Z"
    }
   },
   "outputs": [],
   "source": [
    "import string"
   ]
  },
  {
   "cell_type": "code",
   "execution_count": 15,
   "id": "c8432e00-13a2-4927-892f-293012bc292f",
   "metadata": {
    "execution": {
     "iopub.execute_input": "2025-06-28T09:56:23.433735Z",
     "iopub.status.busy": "2025-06-28T09:56:23.433735Z",
     "iopub.status.idle": "2025-06-28T09:56:23.464990Z",
     "shell.execute_reply": "2025-06-28T09:56:23.464990Z",
     "shell.execute_reply.started": "2025-06-28T09:56:23.433735Z"
    }
   },
   "outputs": [],
   "source": [
    "def is_palindrome(phrases_to_check):\n",
    "    phrases_to_check = phrases_to_check.lower()\n",
    "    filtered = ''.join(char for char in phrases_to_check if char.isalpha())\n",
    "    return filtered == filtered[::-1]"
   ]
  },
  {
   "cell_type": "code",
   "execution_count": 16,
   "id": "4cca3eed",
   "metadata": {
    "ExecuteTime": {
     "end_time": "2023-06-13T12:24:02.288183Z",
     "start_time": "2023-06-13T12:24:02.285245Z"
    },
    "execution": {
     "iopub.execute_input": "2025-06-28T09:56:23.511864Z",
     "iopub.status.busy": "2025-06-28T09:56:23.511864Z",
     "iopub.status.idle": "2025-06-28T09:56:23.543118Z",
     "shell.execute_reply": "2025-06-28T09:56:23.543118Z",
     "shell.execute_reply.started": "2025-06-28T09:56:23.511864Z"
    },
    "id": "4cca3eed"
   },
   "outputs": [
    {
     "name": "stdout",
     "output_type": "stream",
     "text": [
      "radar --> True\n",
      "radix --> False\n",
      "A mam, a --> True\n",
      "A mamA --> True\n",
      "Sit on a potato pan Otis --> True\n",
      "Taco cat. --> True\n",
      "Taco cat --> True\n",
      "Tornado --> False\n",
      "Go hang a salami, I'm a lasagna hog. --> True\n"
     ]
    }
   ],
   "source": [
    "phrases_to_check = [\n",
    "    'radar',\n",
    "    'radix',\n",
    "    'A mam, a',\n",
    "    'A mamA',\n",
    "    'Sit on a potato pan Otis',\n",
    "    'Taco cat.',\n",
    "    'Taco cat',\n",
    "    'Tornado',\n",
    "    \"Go hang a salami, I'm a lasagna hog.\"\n",
    "]\n",
    "\n",
    "for phrase in phrases_to_check:\n",
    "    print(f\"{phrase} --> {is_palindrome(phrase)}\")"
   ]
  },
  {
   "cell_type": "markdown",
   "id": "e51c421d",
   "metadata": {
    "id": "e51c421d"
   },
   "source": [
    "Очкувані результати обчислень:\n",
    "```\n",
    "    radar - True\n",
    "    radix - False\n",
    "    A mam, a - True\n",
    "    A mamA - True\n",
    "    Sit on a potato pan Otis - True\n",
    "    Taco cat. - True\n",
    "    Taco cat - True\n",
    "    Tornado - False\n",
    "    Go hang a salami, I'm a lasagna hog. - True\n",
    "```"
   ]
  }
 ],
 "metadata": {
  "colab": {
   "provenance": []
  },
  "kernelspec": {
   "display_name": "Python [conda env:base] *",
   "language": "python",
   "name": "conda-base-py"
  },
  "language_info": {
   "codemirror_mode": {
    "name": "ipython",
    "version": 3
   },
   "file_extension": ".py",
   "mimetype": "text/x-python",
   "name": "python",
   "nbconvert_exporter": "python",
   "pygments_lexer": "ipython3",
   "version": "3.12.7"
  },
  "toc": {
   "base_numbering": 1,
   "nav_menu": {},
   "number_sections": true,
   "sideBar": true,
   "skip_h1_title": false,
   "title_cell": "Table of Contents",
   "title_sidebar": "Contents",
   "toc_cell": false,
   "toc_position": {},
   "toc_section_display": true,
   "toc_window_display": false
  }
 },
 "nbformat": 4,
 "nbformat_minor": 5
}
