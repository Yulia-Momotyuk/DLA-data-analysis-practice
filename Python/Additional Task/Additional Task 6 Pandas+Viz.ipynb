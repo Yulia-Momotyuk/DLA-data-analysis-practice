{
  "cells": [
    {
      "cell_type": "markdown",
      "metadata": {
        "id": "KKi-WepMlk4Q"
      },
      "source": [
        "Усі імпорти рекомендую розташувати отут зверху для зручності."
      ]
    },
    {
      "cell_type": "code",
      "execution_count": null,
      "metadata": {
        "id": "BWz0eRrSlk4S"
      },
      "outputs": [],
      "source": []
    },
    {
      "cell_type": "markdown",
      "metadata": {
        "ExecuteTime": {
          "end_time": "2023-03-01T20:11:55.220367Z",
          "start_time": "2023-03-01T20:11:55.208289Z"
        },
        "id": "DkDZqG49lk4S"
      },
      "source": [
        "1.Завантажте дані у pandas dataframe з файла `ecommerce_data.csv`. Обовʼязково при завантаженні вкажіть параметр `encoding = 'ISO-8859-1'`, без нього буде помилка."
      ]
    },
    {
      "cell_type": "code",
      "execution_count": null,
      "metadata": {
        "id": "3xPNIvnQlk4T"
      },
      "outputs": [],
      "source": []
    },
    {
      "cell_type": "markdown",
      "metadata": {
        "id": "8QIVAAn3lk4T"
      },
      "source": [
        "2.Виведіть перші три записи в завантаженому наборі даних"
      ]
    },
    {
      "cell_type": "code",
      "execution_count": null,
      "metadata": {
        "id": "VrpskFY2lk4U"
      },
      "outputs": [],
      "source": []
    },
    {
      "cell_type": "markdown",
      "metadata": {
        "id": "hM1Ru0Q5lk4U"
      },
      "source": [
        "3.Перейменуйте колонки, для цього просто запустіть код нижче та зверніть увагу, як ми перейменували колонки. Перейменування тут - просто для зручності."
      ]
    },
    {
      "cell_type": "code",
      "execution_count": null,
      "metadata": {
        "id": "9fswYi8dlk4U"
      },
      "outputs": [],
      "source": []
    },
    {
      "cell_type": "markdown",
      "metadata": {
        "id": "AxUY-PeFlk4U"
      },
      "source": [
        "4.Виведіть поточні назви колонок."
      ]
    },
    {
      "cell_type": "code",
      "execution_count": null,
      "metadata": {
        "id": "IOMTpD4elk4U"
      },
      "outputs": [],
      "source": []
    },
    {
      "cell_type": "markdown",
      "metadata": {
        "id": "mTi4g42Slk4V"
      },
      "source": [
        "# Базове розуміння даних"
      ]
    },
    {
      "cell_type": "markdown",
      "metadata": {
        "id": "xaLymfOnlk4V"
      },
      "source": [
        "5.Виведіть кількість колонок і стовпців в наборі даних."
      ]
    },
    {
      "cell_type": "code",
      "execution_count": null,
      "metadata": {
        "id": "l2NCcrjklk4V"
      },
      "outputs": [],
      "source": []
    },
    {
      "cell_type": "markdown",
      "metadata": {
        "id": "go5ZeXrGlk4V"
      },
      "source": [
        "6.Виведіть типи даних в кожній з колонок. Будь-яким способом, але аби для Вас як для дослідника стало зрозуміло, з якими даними ми зараз маємо справу."
      ]
    },
    {
      "cell_type": "code",
      "execution_count": null,
      "metadata": {
        "id": "_dNEzIB-lk4V"
      },
      "outputs": [],
      "source": []
    },
    {
      "cell_type": "markdown",
      "metadata": {
        "id": "Wx_5FTJslk4W"
      },
      "source": [
        "Очікуваний результат (один з):"
      ]
    },
    {
      "cell_type": "markdown",
      "metadata": {
        "id": "_B3d2OdAlk4W"
      },
      "source": [
        "![](https://drive.google.com/uc?export=view&id=1Pc2cam8vdZeEP4xLXlsoevOTt4O_KI4R)"
      ]
    },
    {
      "cell_type": "markdown",
      "metadata": {
        "id": "uTI7g3DLlk4W"
      },
      "source": [
        "7.Виведіть кількість пустих (null) значень в кожній з колонок за спаданням цієї кількості."
      ]
    },
    {
      "cell_type": "code",
      "execution_count": null,
      "metadata": {
        "id": "Zfg9wDlelk4W"
      },
      "outputs": [],
      "source": []
    },
    {
      "cell_type": "markdown",
      "metadata": {
        "id": "FACq9-m4lk4X"
      },
      "source": [
        "Очікуваний результат:"
      ]
    },
    {
      "cell_type": "markdown",
      "metadata": {
        "id": "dE4ETItPlk4X"
      },
      "source": [
        "![](https://drive.google.com/uc?export=view&id=1IXVowBSH9-LtCR8gkMXcQHXWPinujkF5)"
      ]
    },
    {
      "cell_type": "markdown",
      "metadata": {
        "id": "PI1sNrqAlk4X"
      },
      "source": [
        "### Конвертація дат"
      ]
    },
    {
      "cell_type": "markdown",
      "metadata": {
        "id": "1jtiqHKclk4X"
      },
      "source": [
        "8.Конвертуйте дату колонки `invoicedate` у тип `datetime64[ns]`."
      ]
    },
    {
      "cell_type": "code",
      "execution_count": null,
      "metadata": {
        "id": "2oytJiPtlk4X"
      },
      "outputs": [],
      "source": []
    },
    {
      "cell_type": "markdown",
      "metadata": {
        "id": "HHqMPHRklk4X"
      },
      "source": [
        "Запустіть код нижче:"
      ]
    },
    {
      "cell_type": "code",
      "execution_count": null,
      "metadata": {
        "ExecuteTime": {
          "end_time": "2023-12-05T18:06:01.765252Z",
          "start_time": "2023-12-05T18:06:01.757679Z"
        },
        "id": "DuMbCDq1lk4X",
        "outputId": "28234382-9ebe-4a5d-aad9-6031c7f4315f"
      },
      "outputs": [
        {
          "data": {
            "text/plain": [
              "0   2010-12-01 08:26:00\n",
              "1   2010-12-01 08:26:00\n",
              "Name: invoicedate, dtype: datetime64[ns]"
            ]
          },
          "execution_count": 10,
          "metadata": {},
          "output_type": "execute_result"
        }
      ],
      "source": [
        "df.invoicedate[:2]"
      ]
    },
    {
      "cell_type": "markdown",
      "metadata": {
        "id": "FsTAjk2olk4Y"
      },
      "source": [
        "Очікуваний результат:"
      ]
    },
    {
      "cell_type": "markdown",
      "metadata": {
        "id": "z-3iVMuLlk4Y"
      },
      "source": [
        "![](https://drive.google.com/uc?export=view&id=1ds5CwdM5D50hlnk1zsDw7YT-aG_KErIg)"
      ]
    },
    {
      "cell_type": "markdown",
      "metadata": {
        "id": "nI7reejblk4Y"
      },
      "source": [
        "# Чистка даних"
      ]
    },
    {
      "cell_type": "markdown",
      "metadata": {
        "id": "quoW-Osxlk4Y"
      },
      "source": [
        "### Прибираємо пусті значення (NA)"
      ]
    },
    {
      "cell_type": "markdown",
      "metadata": {
        "id": "4gkHeABtlk4Z"
      },
      "source": [
        "9.Приберіть усі пусті значення з набору даних `df` і запишіть результат у нову змінну `df_new`."
      ]
    },
    {
      "cell_type": "code",
      "execution_count": null,
      "metadata": {
        "id": "fScI8K2Dlk4Z"
      },
      "outputs": [],
      "source": []
    },
    {
      "cell_type": "markdown",
      "metadata": {
        "ExecuteTime": {
          "end_time": "2023-03-01T20:22:10.281104Z",
          "start_time": "2023-03-01T20:22:10.253826Z"
        },
        "id": "Ppp8wSO-lk4Z"
      },
      "source": [
        "10.Виведіть кількість колонок і рядків в `df_new`."
      ]
    },
    {
      "cell_type": "code",
      "execution_count": null,
      "metadata": {
        "id": "5Jzz5CkElk4Z"
      },
      "outputs": [],
      "source": []
    },
    {
      "cell_type": "markdown",
      "metadata": {
        "id": "EIxshGdLlk4Z"
      },
      "source": [
        "11.Виведіть, який відсоток (від 0 до 100%) рядків ми видалили з `df`, коли прибрали пусті значення? Округліть результат до цілих відсотків."
      ]
    },
    {
      "cell_type": "code",
      "execution_count": null,
      "metadata": {
        "id": "c9k5M-JUlk4Z"
      },
      "outputs": [],
      "source": []
    },
    {
      "cell_type": "markdown",
      "metadata": {
        "id": "Si_JzJYwlk4Z"
      },
      "source": [
        "Очікуваний результат: `25%`"
      ]
    },
    {
      "cell_type": "markdown",
      "metadata": {
        "id": "jb1_yqM7lk4Z"
      },
      "source": [
        "### Приберемо негативні значення `quantity`"
      ]
    },
    {
      "cell_type": "markdown",
      "metadata": {
        "ExecuteTime": {
          "end_time": "2023-03-01T20:28:09.879644Z",
          "start_time": "2023-03-01T20:28:09.871420Z"
        },
        "id": "v2gsQD-Jlk4Z"
      },
      "source": [
        "12.Виведіть мінімальне, максимальне і середнє значення колонки `quantity`. Найкраще згадати, як це зробити одною командою, що дозволяє \"описати\" колонки в датафреймі :)"
      ]
    },
    {
      "cell_type": "code",
      "execution_count": null,
      "metadata": {
        "id": "0DWmj_Bnlk4g"
      },
      "outputs": [],
      "source": []
    },
    {
      "cell_type": "markdown",
      "metadata": {
        "id": "3Od-reAblk4g"
      },
      "source": [
        "13.Скажімо, нас не цікавлять записи з негативними quantity (бо це поверненння).   \n",
        "Приберіть всі рядки, де `quantity` менше 0 з набора даних `df_new` і запишіть в той самий набір даних `df_new`."
      ]
    },
    {
      "cell_type": "code",
      "execution_count": null,
      "metadata": {
        "id": "XuvzkjRklk4g"
      },
      "outputs": [],
      "source": []
    },
    {
      "cell_type": "markdown",
      "metadata": {
        "id": "YPrO0YQYlk4g"
      },
      "source": [
        "# Обробка даних"
      ]
    },
    {
      "cell_type": "markdown",
      "metadata": {
        "id": "Ezpb1dLTlk4g"
      },
      "source": [
        "### Зміна типу даних `custid`"
      ]
    },
    {
      "cell_type": "markdown",
      "metadata": {
        "id": "hB20z_kPlk4h"
      },
      "source": [
        "14.Ідентифікатор клієнта має мати тип \"рядок\" для простоти роботи з цією колонкою. Бо інакше пандас буде інтерпретувати цю колонку як число - а це логічно не правильно.\n",
        "Перетворіть тип даних колонки `custid`  спочатку на int, а потім на рядок. Або можете зробити ці перетворення в одній функції (лямбді)."
      ]
    },
    {
      "cell_type": "code",
      "execution_count": null,
      "metadata": {
        "id": "1YbdaXh4lk4h"
      },
      "outputs": [],
      "source": []
    },
    {
      "cell_type": "markdown",
      "metadata": {
        "id": "9atMPoIBlk4i"
      },
      "source": [
        "Запустіть код нижче:"
      ]
    },
    {
      "cell_type": "code",
      "execution_count": null,
      "metadata": {
        "ExecuteTime": {
          "end_time": "2023-12-05T18:06:02.221506Z",
          "start_time": "2023-12-05T18:06:02.216299Z"
        },
        "id": "Kye7Ch8Ylk4i",
        "outputId": "ead82f07-afc7-4692-fce1-fe28ee26da61"
      },
      "outputs": [
        {
          "data": {
            "text/plain": [
              "0    17850\n",
              "1    17850\n",
              "2    17850\n",
              "Name: custid, dtype: object"
            ]
          },
          "execution_count": 17,
          "metadata": {},
          "output_type": "execute_result"
        }
      ],
      "source": [
        "df_new['custid'][:3]"
      ]
    },
    {
      "cell_type": "markdown",
      "metadata": {
        "id": "EJuMZmBSlk4j"
      },
      "source": [
        "Очікуваний результат:"
      ]
    },
    {
      "cell_type": "markdown",
      "metadata": {
        "id": "PtXmjHnClk4j"
      },
      "source": [
        "![](https://drive.google.com/uc?export=view&id=1V5Mn0OC6hD-OmXGswe2N8CsIxsuBuoPE)"
      ]
    },
    {
      "cell_type": "markdown",
      "metadata": {
        "id": "0LJvcYBBlk4j"
      },
      "source": [
        "### Додамо колонку `amountspent`"
      ]
    },
    {
      "cell_type": "markdown",
      "metadata": {
        "id": "LQxLy_TDlk4j"
      },
      "source": [
        "15.Додайте в `df_new` колонку `amountspent`, яка є добутком колонок `quantity` і `unitprice`."
      ]
    },
    {
      "cell_type": "code",
      "execution_count": null,
      "metadata": {
        "id": "Vk8Bgq7llk4j"
      },
      "outputs": [],
      "source": []
    },
    {
      "cell_type": "markdown",
      "metadata": {
        "id": "ne_0J6NSlk4k"
      },
      "source": [
        "### Додавання колонок `month`, `day`, `hour`, `yearmonth` для інвойса."
      ]
    },
    {
      "cell_type": "markdown",
      "metadata": {
        "ExecuteTime": {
          "end_time": "2023-03-02T09:53:07.223570Z",
          "start_time": "2023-03-02T09:53:07.124132Z"
        },
        "id": "l2P5xpcylk4k"
      },
      "source": [
        "16.Використовуючи колонку invoicedate та те, що вона в нас вже має тип datetime, створіть 4 нових колонки в даних:\n",
        "- `yearmonth` - рік і місяць інвойсу разом у форматі \"2010-12\" - тобто 12 місяць 2010го року і тип цієї колонки має бути датою (підказка: просто робимо для колонки`invoicedate` `dt.to_period('M')` для того аби таке отримати)\n",
        "- `month` - місяць інвойсу\n",
        "- `day` - день тижня інвойсу (понеділок - це перший, неділя - останній)\n",
        "- `hour` - година інвойсу\n",
        "\n",
        "Зробіть також так, аби `yearmonth` була третьою (за рахунком) колонкою в датафреймі, `month` - четвертою, `day` - пʼятою, `hour` - шостою."
      ]
    },
    {
      "cell_type": "code",
      "execution_count": null,
      "metadata": {
        "id": "vvtxybEblk4k"
      },
      "outputs": [],
      "source": []
    },
    {
      "cell_type": "markdown",
      "metadata": {
        "id": "TzG5HyQqlk4k"
      },
      "source": [
        "Запустіть код нижче:"
      ]
    },
    {
      "cell_type": "code",
      "execution_count": null,
      "metadata": {
        "ExecuteTime": {
          "end_time": "2023-12-05T18:06:02.337019Z",
          "start_time": "2023-12-05T18:06:02.322481Z"
        },
        "_kg_hide-input": true,
        "execution": {
          "iopub.execute_input": "2023-03-01T16:10:45.982432Z",
          "iopub.status.busy": "2023-03-01T16:10:45.98201Z",
          "iopub.status.idle": "2023-03-01T16:10:48.071417Z",
          "shell.execute_reply": "2023-03-01T16:10:48.07023Z",
          "shell.execute_reply.started": "2023-03-01T16:10:45.982369Z"
        },
        "id": "GLjtvY3Vlk4l",
        "outputId": "1b8057ff-4ff4-4066-ceb6-8a9573aaf699"
      },
      "outputs": [
        {
          "data": {
            "text/html": [
              "<div>\n",
              "<style scoped>\n",
              "    .dataframe tbody tr th:only-of-type {\n",
              "        vertical-align: middle;\n",
              "    }\n",
              "\n",
              "    .dataframe tbody tr th {\n",
              "        vertical-align: top;\n",
              "    }\n",
              "\n",
              "    .dataframe thead th {\n",
              "        text-align: right;\n",
              "    }\n",
              "</style>\n",
              "<table border=\"1\" class=\"dataframe\">\n",
              "  <thead>\n",
              "    <tr style=\"text-align: right;\">\n",
              "      <th></th>\n",
              "      <th>invoiceno</th>\n",
              "      <th>stockcode</th>\n",
              "      <th>yearmonth</th>\n",
              "      <th>month</th>\n",
              "      <th>day</th>\n",
              "      <th>hour</th>\n",
              "      <th>description</th>\n",
              "      <th>quantity</th>\n",
              "      <th>invoicedate</th>\n",
              "      <th>unitprice</th>\n",
              "      <th>custid</th>\n",
              "      <th>country</th>\n",
              "      <th>amountspent</th>\n",
              "    </tr>\n",
              "  </thead>\n",
              "  <tbody>\n",
              "    <tr>\n",
              "      <th>0</th>\n",
              "      <td>536365</td>\n",
              "      <td>85123A</td>\n",
              "      <td>2010-12</td>\n",
              "      <td>12</td>\n",
              "      <td>3</td>\n",
              "      <td>8</td>\n",
              "      <td>WHITE HANGING HEART T-LIGHT HOLDER</td>\n",
              "      <td>6</td>\n",
              "      <td>2010-12-01 08:26:00</td>\n",
              "      <td>2.55</td>\n",
              "      <td>17850</td>\n",
              "      <td>United Kingdom</td>\n",
              "      <td>15.30</td>\n",
              "    </tr>\n",
              "    <tr>\n",
              "      <th>1</th>\n",
              "      <td>536365</td>\n",
              "      <td>71053</td>\n",
              "      <td>2010-12</td>\n",
              "      <td>12</td>\n",
              "      <td>3</td>\n",
              "      <td>8</td>\n",
              "      <td>WHITE METAL LANTERN</td>\n",
              "      <td>6</td>\n",
              "      <td>2010-12-01 08:26:00</td>\n",
              "      <td>3.39</td>\n",
              "      <td>17850</td>\n",
              "      <td>United Kingdom</td>\n",
              "      <td>20.34</td>\n",
              "    </tr>\n",
              "    <tr>\n",
              "      <th>2</th>\n",
              "      <td>536365</td>\n",
              "      <td>84406B</td>\n",
              "      <td>2010-12</td>\n",
              "      <td>12</td>\n",
              "      <td>3</td>\n",
              "      <td>8</td>\n",
              "      <td>CREAM CUPID HEARTS COAT HANGER</td>\n",
              "      <td>8</td>\n",
              "      <td>2010-12-01 08:26:00</td>\n",
              "      <td>2.75</td>\n",
              "      <td>17850</td>\n",
              "      <td>United Kingdom</td>\n",
              "      <td>22.00</td>\n",
              "    </tr>\n",
              "  </tbody>\n",
              "</table>\n",
              "</div>"
            ],
            "text/plain": [
              "  invoiceno stockcode yearmonth  month  day  hour  \\\n",
              "0    536365    85123A   2010-12     12    3     8   \n",
              "1    536365     71053   2010-12     12    3     8   \n",
              "2    536365    84406B   2010-12     12    3     8   \n",
              "\n",
              "                          description  quantity         invoicedate  \\\n",
              "0  WHITE HANGING HEART T-LIGHT HOLDER         6 2010-12-01 08:26:00   \n",
              "1                 WHITE METAL LANTERN         6 2010-12-01 08:26:00   \n",
              "2      CREAM CUPID HEARTS COAT HANGER         8 2010-12-01 08:26:00   \n",
              "\n",
              "   unitprice custid         country  amountspent  \n",
              "0       2.55  17850  United Kingdom        15.30  \n",
              "1       3.39  17850  United Kingdom        20.34  \n",
              "2       2.75  17850  United Kingdom        22.00  "
            ]
          },
          "execution_count": 20,
          "metadata": {},
          "output_type": "execute_result"
        }
      ],
      "source": [
        "df_new.head(3)"
      ]
    },
    {
      "cell_type": "code",
      "execution_count": null,
      "metadata": {
        "ExecuteTime": {
          "end_time": "2023-12-05T18:06:02.347853Z",
          "start_time": "2023-12-05T18:06:02.339841Z"
        },
        "id": "wH8so922lk4l",
        "outputId": "aad4a59d-64c3-45f7-b260-4474e62ae600"
      },
      "outputs": [
        {
          "data": {
            "text/plain": [
              "invoiceno              object\n",
              "stockcode              object\n",
              "yearmonth           period[M]\n",
              "month                   int32\n",
              "day                     int32\n",
              "hour                    int32\n",
              "description            object\n",
              "quantity                int64\n",
              "invoicedate    datetime64[ns]\n",
              "unitprice             float64\n",
              "custid                 object\n",
              "country                object\n",
              "amountspent           float64\n",
              "dtype: object"
            ]
          },
          "execution_count": 21,
          "metadata": {},
          "output_type": "execute_result"
        }
      ],
      "source": [
        "df_new.dtypes"
      ]
    },
    {
      "cell_type": "markdown",
      "metadata": {
        "id": "UikR6kY5lk4m"
      },
      "source": [
        "Очікуваний результат:"
      ]
    },
    {
      "cell_type": "markdown",
      "metadata": {
        "id": "aFbekPUClk4m"
      },
      "source": [
        "![](https://drive.google.com/uc?export=view&id=1Wn4tNmFOvqHk0VLpfwASKWiPpjJ5_Jgt)"
      ]
    },
    {
      "cell_type": "markdown",
      "source": [
        "![](https://drive.google.com/uc?export=view&id=1fYm7_uYhk14J51YkqJLtsQo_aqxz6jGZ)"
      ],
      "metadata": {
        "id": "k9yoeUjDn7ZS"
      }
    },
    {
      "cell_type": "markdown",
      "metadata": {
        "id": "kgNk7SFClk4m"
      },
      "source": [
        "# Базовий Exploratory Data Analysis (EDA)"
      ]
    },
    {
      "cell_type": "markdown",
      "metadata": {
        "ExecuteTime": {
          "end_time": "2023-03-02T10:16:59.344114Z",
          "start_time": "2023-03-02T10:16:59.323331Z"
        },
        "id": "H0hnOXFJlk4m"
      },
      "source": [
        "17.Побудуйте з допомогою методів візуалізації `pandas` датафрейму (ті що з категорії `df.plot()`) стовпчастий графік кількості унікальних продажів помісячно за весь наявний період в даних. Зробіть так, аби підписи дат були нахилені під кутом 45 градусів для зручнішого перегляду.\n",
        "Кількість унікальних продажів - це кількість унікальних інвойсів.\n",
        "\n",
        "Підказка: для візуалізації нам спочатку треба агреугувати дані помісячно."
      ]
    },
    {
      "cell_type": "code",
      "execution_count": null,
      "metadata": {
        "id": "AAr91rqvlk4m"
      },
      "outputs": [],
      "source": []
    },
    {
      "cell_type": "markdown",
      "metadata": {
        "id": "5Y2RGYqIlk4n"
      },
      "source": [
        "Очікуваний результат:"
      ]
    },
    {
      "cell_type": "markdown",
      "metadata": {
        "id": "mbzqZLV1lk4n"
      },
      "source": [
        "![](https://drive.google.com/uc?export=view&id=1xbjqTCroVKLgdRxFGA9LG1T6Xx9eWlO1)"
      ]
    },
    {
      "cell_type": "markdown",
      "metadata": {
        "ExecuteTime": {
          "end_time": "2023-03-02T15:19:08.598551Z",
          "start_time": "2023-03-02T15:19:08.584763Z"
        },
        "id": "9lIgcxf9lk4n"
      },
      "source": [
        "18.Побудуйте стовпчастий графік кількості унікальних інвойсів для топ 10 клієнтів за цим показником."
      ]
    },
    {
      "cell_type": "code",
      "execution_count": null,
      "metadata": {
        "id": "l1KlBgnHlk4n"
      },
      "outputs": [],
      "source": []
    },
    {
      "cell_type": "markdown",
      "metadata": {
        "id": "rGL-T3UVlk4n"
      },
      "source": [
        "Очікуваний результат:"
      ]
    },
    {
      "cell_type": "markdown",
      "metadata": {
        "id": "sFSq2CGdlk4n"
      },
      "source": [
        "![](https://drive.google.com/uc?export=view&id=1zGhcVaPZBqcKj8YG_P-0pOzGVAV8cJNr)"
      ]
    },
    {
      "cell_type": "markdown",
      "metadata": {
        "id": "UUzE_3NNlk4o"
      },
      "source": [
        "19.Створіть новий датафрейм, що містить сумарний `amountspent` по кожному ідентифікатору клієнта."
      ]
    },
    {
      "cell_type": "code",
      "execution_count": null,
      "metadata": {
        "id": "ITfMoIqLlk4o"
      },
      "outputs": [],
      "source": []
    },
    {
      "cell_type": "markdown",
      "metadata": {
        "id": "9ez98MTJlk4o"
      },
      "source": [
        "20.Використовуючи датафрейм з попереднього пункту, виведіть, якими є 10, 25, 50, 75 і 90 персентилі сумарних витрат клієнтів за розглянутий період:"
      ]
    },
    {
      "cell_type": "code",
      "execution_count": null,
      "metadata": {
        "id": "eW3sUvSJlk4p"
      },
      "outputs": [],
      "source": []
    },
    {
      "cell_type": "markdown",
      "metadata": {
        "id": "iY8-dm59lk4p"
      },
      "source": [
        "Очікуваний результат:"
      ]
    },
    {
      "cell_type": "markdown",
      "metadata": {
        "id": "_Wn8qUwklk4p"
      },
      "source": [
        "![](https://drive.google.com/uc?export=view&id=16h2lsEwR3GooNkzH0JLfJHRk5oyG3ZqE)"
      ]
    },
    {
      "cell_type": "markdown",
      "metadata": {
        "id": "j0rOupX_lk4p"
      },
      "source": [
        "21.Скільки унікальних клієнтів мають сумарні витрати вищі, ніж 90-тий персентиль в попередньому завдані?"
      ]
    },
    {
      "cell_type": "code",
      "execution_count": null,
      "metadata": {
        "id": "sMvkoQ63lk4q"
      },
      "outputs": [],
      "source": []
    },
    {
      "cell_type": "markdown",
      "metadata": {
        "id": "DUIHdwu-lk4q"
      },
      "source": [
        "22.Виведіть середню суму покупок в мережі по дням тижня. Дні тижня мають йти в звичному порядку Monday, Tuesday і т.д."
      ]
    },
    {
      "cell_type": "code",
      "execution_count": null,
      "metadata": {
        "id": "ZztKwmBXlk4q"
      },
      "outputs": [],
      "source": []
    },
    {
      "cell_type": "markdown",
      "metadata": {
        "id": "gWlWanoWlk4q"
      },
      "source": [
        "## Дослідимо продажі на суму 0 умовних одиниць"
      ]
    },
    {
      "cell_type": "markdown",
      "metadata": {
        "id": "rOM2dMB2lk4q"
      },
      "source": [
        "23.Можна було помітити вище, що в нас є продажі на суму 0. Дослідимо їх. Створіть новий датафрейм з тільки такими продажами."
      ]
    },
    {
      "cell_type": "code",
      "execution_count": null,
      "metadata": {
        "id": "yIYVLRmylk4r"
      },
      "outputs": [],
      "source": []
    },
    {
      "cell_type": "markdown",
      "metadata": {
        "id": "5ifdgVp4lk4r"
      },
      "source": [
        "### Динаміка продажів на суму 0"
      ]
    },
    {
      "cell_type": "markdown",
      "metadata": {
        "id": "KSKaDnbklk4r"
      },
      "source": [
        "24.Зобразіть у вигляді стовпчастої діаграми помісячну динаміку продажів на суму 0."
      ]
    },
    {
      "cell_type": "code",
      "execution_count": null,
      "metadata": {
        "id": "mPJEdJ1Ulk4r"
      },
      "outputs": [],
      "source": []
    },
    {
      "cell_type": "markdown",
      "metadata": {
        "id": "f9n3B1O3lk4r"
      },
      "source": [
        "Очікуваний результат:"
      ]
    },
    {
      "cell_type": "markdown",
      "metadata": {
        "id": "ZnAxdo5Blk4r"
      },
      "source": [
        "![](https://drive.google.com/uc?export=view&id=1RfpdWGqkOmwZ6RVUqQz-U-q3qkml5g88)"
      ]
    },
    {
      "cell_type": "markdown",
      "metadata": {
        "ExecuteTime": {
          "end_time": "2023-03-02T15:42:10.415462Z",
          "start_time": "2023-03-02T15:42:10.407147Z"
        },
        "id": "UBbs7r_ylk4s"
      },
      "source": [
        "25.Згрупуйте дані за країнами та підрахуйте кількість унікальних інвойсів з сумою 0 для кожної країни. Виведіть у вигляді датафрейму."
      ]
    },
    {
      "cell_type": "code",
      "execution_count": null,
      "metadata": {
        "id": "CReBvdlklk4s"
      },
      "outputs": [],
      "source": []
    },
    {
      "cell_type": "markdown",
      "metadata": {
        "id": "mMrXc3Yalk4s"
      },
      "source": [
        "Очікуваний результат:"
      ]
    },
    {
      "cell_type": "markdown",
      "metadata": {
        "id": "-RaU-l0Plk4s"
      },
      "source": [
        "![](https://drive.google.com/uc?export=view&id=1N9rcWby_Umc31Q7e-1p2bCb1nCpzadoz)"
      ]
    },
    {
      "cell_type": "markdown",
      "metadata": {
        "id": "LSLjAhrmlk4w"
      },
      "source": [
        "Велике питання, чого магазин так багато порівняно роздавав безкоштовних товарів в UK, але така політика фірми :)"
      ]
    },
    {
      "cell_type": "markdown",
      "metadata": {
        "id": "h9S7eZr5lk4x"
      },
      "source": [
        "Якщо у вас ще є натхнення, пропоную задати до цих даних ще 3 своїх питання."
      ]
    },
    {
      "cell_type": "code",
      "execution_count": null,
      "metadata": {
        "id": "TsabDDfilk4x"
      },
      "outputs": [],
      "source": []
    }
  ],
  "metadata": {
    "kernelspec": {
      "display_name": "Python 3 (ipykernel)",
      "language": "python",
      "name": "python3"
    },
    "language_info": {
      "codemirror_mode": {
        "name": "ipython",
        "version": 3
      },
      "file_extension": ".py",
      "mimetype": "text/x-python",
      "name": "python",
      "nbconvert_exporter": "python",
      "pygments_lexer": "ipython3",
      "version": "3.10.4"
    },
    "toc": {
      "base_numbering": 1,
      "nav_menu": {},
      "number_sections": true,
      "sideBar": true,
      "skip_h1_title": false,
      "title_cell": "Table of Contents",
      "title_sidebar": "Contents",
      "toc_cell": false,
      "toc_position": {},
      "toc_section_display": true,
      "toc_window_display": true
    },
    "colab": {
      "provenance": []
    }
  },
  "nbformat": 4,
  "nbformat_minor": 0
}