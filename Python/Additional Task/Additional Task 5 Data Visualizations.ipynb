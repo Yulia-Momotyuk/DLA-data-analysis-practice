{
  "cells": [
    {
      "cell_type": "markdown",
      "id": "cb15f7e9",
      "metadata": {
        "id": "cb15f7e9"
      },
      "source": [
        "# Додаткове завдання до модуля 4: візуалізація даних.\n",
        "В цьому ДЗ ми будемо багато працювати не тільки з візуалізаціями, а і з функціоналом pandas, адже візуалізація даних - це частина аналізу даних та працює спільно з агрегацією та фільтрацією наших даних. До того ж перед тим, як аналізувати дані, їх треба почистити. Чим ми і займемось.  "
      ]
    },
    {
      "cell_type": "markdown",
      "id": "b3c8ed6e",
      "metadata": {
        "id": "b3c8ed6e"
      },
      "source": [
        "0.Імпортуйте бібліотеки matplotlib.pyplot, seaborn та pandas."
      ]
    },
    {
      "cell_type": "code",
      "execution_count": null,
      "id": "96487a9a",
      "metadata": {
        "id": "96487a9a"
      },
      "outputs": [],
      "source": []
    },
    {
      "cell_type": "markdown",
      "id": "5fdcd79e",
      "metadata": {
        "id": "5fdcd79e"
      },
      "source": [
        "## Набір даних Taxis"
      ]
    },
    {
      "cell_type": "markdown",
      "id": "6bc659c8",
      "metadata": {
        "id": "6bc659c8"
      },
      "source": [
        "Використовуючи метод з бібліотеки `seaborn` `load_dataset` ми завантажимо перший набір даних для аналізу. Завантажимо дані так, бо це зручно + аби ви знали, що є і така можливість знайти собі набір даних для експериментів.  \n",
        "Набір даних містить поїздки таксі у Нью Йорку у 2019 році. Детальний опис на [сайті](https://www.nyc.gov/site/tlc/about/tlc-trip-record-data.page).  \n",
        "\n",
        "Які колонки мість набір даних:  \n",
        "- `pickup` - час початку поїздки  \n",
        "- `dropoff` - час закінчення поїздки  \n",
        "- `passengers` - кількість пасажирів у поїздці  \n",
        "- `distance` - відстань поіздки  \n",
        "- `fare` - базова плата за поїздку  \n",
        "- `tip` - розмір чайових  \n",
        "- `tolls` - плата за платні дороги (за це також платить пасажир)  \n",
        "- `total` - сумарна плата за поїздку  \n",
        "- `color` - колір авто, яке здійснювало поїздку  \n",
        "- `payment` - метод оплати  \n",
        "- `pickup_zone` - зона, у якій почалась поїздка  \n",
        "- `dropoff_zone` - зона, у якій закінчилась поїздка  \n",
        "- `pickup_borough` - район, у якому почалась поїздка  \n",
        "- `dropoff_borough` - район, у якому закінчилась поїздка  \n",
        "\n",
        "Назви ознак здбільшого говорять самі за себе. Слово borough перекладається з англійської як \"район\".\n",
        "\n",
        "Ми будемо працювати сами з тим шматочком даних, які наявні в seaborn.  \n",
        "Переглянути всі набори даних з seaborn можна [тут](https://github.com/mwaskom/seaborn-data).\n",
        "\n",
        "Спершу - завантажуємо дані - просто виконайте клітинку нижче."
      ]
    },
    {
      "cell_type": "code",
      "execution_count": null,
      "id": "ea306430",
      "metadata": {
        "ExecuteTime": {
          "end_time": "2022-11-09T10:19:44.211911Z",
          "start_time": "2022-11-09T10:19:44.167550Z"
        },
        "id": "ea306430"
      },
      "outputs": [],
      "source": [
        "df_taxi = sns.load_dataset('taxis')"
      ]
    },
    {
      "cell_type": "markdown",
      "id": "0d6b65ae",
      "metadata": {
        "id": "0d6b65ae"
      },
      "source": [
        "1.Виведіть\n",
        "- перші 3 записи з набору даних\n",
        "- типи даних в наборі даних df_taxi\n",
        "- розміри набору даних"
      ]
    },
    {
      "cell_type": "code",
      "execution_count": null,
      "id": "8ffe7ba2",
      "metadata": {
        "ExecuteTime": {
          "end_time": "2022-11-09T10:33:31.211709Z",
          "start_time": "2022-11-09T10:33:31.189098Z"
        },
        "id": "8ffe7ba2"
      },
      "outputs": [],
      "source": []
    },
    {
      "cell_type": "markdown",
      "id": "b721223b",
      "metadata": {
        "id": "b721223b"
      },
      "source": [
        "Очікуваний результат (можна вивести в окремих клітинках):"
      ]
    },
    {
      "cell_type": "markdown",
      "source": [
        "![](https://drive.google.com/uc?export=view&id=1rsgJvFEdXwGDTVl3CyyRL2ao8rzR_8P2)"
      ],
      "metadata": {
        "id": "ZXYtsVvg_PQN"
      },
      "id": "ZXYtsVvg_PQN"
    },
    {
      "cell_type": "markdown",
      "id": "7fe22cd6",
      "metadata": {
        "id": "7fe22cd6"
      },
      "source": [
        "2.Перевіримо, чи є в цьому наборі даних пропущені значення. Для цього можемо вивести кількість пропущених значень в кожній колонці наступним чином (це надзвичайно корисна команда, запамʼятайте її):"
      ]
    },
    {
      "cell_type": "code",
      "execution_count": null,
      "id": "fcf4a236",
      "metadata": {
        "ExecuteTime": {
          "end_time": "2022-11-09T10:19:53.765134Z",
          "start_time": "2022-11-09T10:19:53.750876Z"
        },
        "id": "fcf4a236"
      },
      "outputs": [],
      "source": [
        "df_taxi.isna().sum()"
      ]
    },
    {
      "cell_type": "markdown",
      "id": "f9ec0d11",
      "metadata": {
        "ExecuteTime": {
          "end_time": "2022-11-09T10:43:07.843299Z",
          "start_time": "2022-11-09T10:43:07.785393Z"
        },
        "id": "f9ec0d11"
      },
      "source": [
        "Цікаво, чому дані відсутні? Відповідь на це питання нам дасть розуміння, чи можна такі дані видалити, чи можливо їх треба якось заповнити. Виведіть на екран ті рядки, де колонка, яка має найбільше пропущених значень (або одна з тих, що має максимальну кількість пропущених), має пропущені значення.\n",
        "Подивіться на результат і напишіть свої думки щодо питань:\n",
        "- чому на ваш погляд в цих рядках є відстуні дані в кількох колонках? Чому ви так думаєте?\n",
        "- чому на ваш погляд є рядки з distance==0, а total!=0? Як ви до цього прйишли?\n",
        "Відповідь просто текстом. Можна використовувати будь-які допоміжні операції над датасетом чи джерела, які допоможуть вам відповісти на ці питання. Якщо щось використовуєте, то це треба зазначити у відповіді.  \n",
        "\n",
        "Ваша відповідь тут - це 70% виконання цього завдання."
      ]
    },
    {
      "cell_type": "code",
      "execution_count": null,
      "id": "71d26e9f",
      "metadata": {
        "ExecuteTime": {
          "end_time": "2022-11-09T10:38:04.734130Z",
          "start_time": "2022-11-09T10:38:04.663448Z"
        },
        "id": "71d26e9f"
      },
      "outputs": [],
      "source": []
    },
    {
      "cell_type": "markdown",
      "id": "804a4fd7",
      "metadata": {
        "id": "804a4fd7"
      },
      "source": [
        "3.Заповнимо пусті значення. Оскільки всі колонки набору даних мають пропущені значення в рядках з типом даних рядок, заповнимо пропущені значення рядком `NA`.\n",
        "Створіть набір даних `df_taxi_clean`, який містить дані `df_taxi` із заповненими пропущеними значеннями у всіх колонках (де ті значення відсутні) значенням `NA`.\n",
        "\n",
        "**УВАГА!** Надалі в роботі треба використовувати `df_taxi_clean`, ми ж його і створили для того, аби далі ним користуватись :)"
      ]
    },
    {
      "cell_type": "code",
      "execution_count": null,
      "id": "92f64207",
      "metadata": {
        "ExecuteTime": {
          "end_time": "2022-11-09T10:51:14.737125Z",
          "start_time": "2022-11-09T10:51:14.634111Z"
        },
        "id": "92f64207"
      },
      "outputs": [],
      "source": []
    },
    {
      "cell_type": "markdown",
      "id": "04952b42",
      "metadata": {
        "id": "04952b42"
      },
      "source": [
        "Після виконання завдання запустіть наступну клітинку:"
      ]
    },
    {
      "cell_type": "code",
      "execution_count": null,
      "id": "10236d65",
      "metadata": {
        "ExecuteTime": {
          "end_time": "2022-11-09T10:52:29.974409Z",
          "start_time": "2022-11-09T10:52:29.938402Z"
        },
        "id": "10236d65"
      },
      "outputs": [],
      "source": [
        "df_taxi_clean.isna().sum()"
      ]
    },
    {
      "cell_type": "markdown",
      "id": "601d53d6",
      "metadata": {
        "id": "601d53d6"
      },
      "source": [
        "Очікуваний результат виконання коду в попердній клітинці:"
      ]
    },
    {
      "cell_type": "markdown",
      "id": "8fdcd0a7",
      "metadata": {
        "id": "8fdcd0a7"
      },
      "source": [
        "![](https://drive.google.com/uc?export=view&id=1G5_k_jmtNFFRdn7Kcw_fEoJyrkTeOGP4)"
      ]
    },
    {
      "cell_type": "markdown",
      "id": "b7310912",
      "metadata": {
        "id": "b7310912"
      },
      "source": [
        "4.Хочеться подивитись на дані у динаміці. Перетворіть колонку `pickup` набору даних `df_taxi_clean` (нам нема чого працювати з \"брудними\" даними, якщо ми їх вже почистили, але хай будуть в окремій змінній про всяк випадок) у формат `datetime64[ns]`.\n",
        "Якщо у Вас при завантаженні набору даних колонка `pickup`- вже в форматі `datetime64[ns]` - можете пропустити це завдання, або спробувати все ж таки написат функцію для трансформації.\n",
        "\n",
        "Результат перетворення збережіть в тій самій колонці `pickup`."
      ]
    },
    {
      "cell_type": "code",
      "execution_count": null,
      "id": "8df40561",
      "metadata": {
        "ExecuteTime": {
          "end_time": "2022-11-09T10:56:31.618175Z",
          "start_time": "2022-11-09T10:56:31.607302Z"
        },
        "id": "8df40561"
      },
      "outputs": [],
      "source": []
    },
    {
      "cell_type": "markdown",
      "id": "44fde70c",
      "metadata": {
        "id": "44fde70c"
      },
      "source": [
        "Після виконання завдання запустіть наступну клітинку:"
      ]
    },
    {
      "cell_type": "code",
      "execution_count": null,
      "id": "602bdd64",
      "metadata": {
        "ExecuteTime": {
          "end_time": "2022-11-09T10:56:55.357057Z",
          "start_time": "2022-11-09T10:56:55.350006Z"
        },
        "id": "602bdd64"
      },
      "outputs": [],
      "source": [
        "df_taxi_clean.pickup.head(3)"
      ]
    },
    {
      "cell_type": "markdown",
      "id": "45c5f2ad",
      "metadata": {
        "id": "45c5f2ad"
      },
      "source": [
        "Очікуваний результат виконання коду в попердній клітинці:"
      ]
    },
    {
      "cell_type": "markdown",
      "id": "001679c7",
      "metadata": {
        "id": "001679c7"
      },
      "source": [
        "![](https://drive.google.com/uc?export=view&id=106hQKdEhLV3OIeFsP8yvXLo0cKk6Jmqo)"
      ]
    },
    {
      "cell_type": "markdown",
      "id": "5f019c84",
      "metadata": {
        "ExecuteTime": {
          "end_time": "2022-11-09T10:59:29.928470Z",
          "start_time": "2022-11-09T10:59:29.900101Z"
        },
        "id": "5f019c84"
      },
      "source": [
        "5.У нас колонка pickup зараз мість дані у форматі дата-час. Пропоную прибрати час і зробити аналітику по дням. Для цього виконайте клатинку нижче:"
      ]
    },
    {
      "cell_type": "code",
      "execution_count": null,
      "id": "a90ba5bf",
      "metadata": {
        "ExecuteTime": {
          "end_time": "2022-11-09T10:59:21.243243Z",
          "start_time": "2022-11-09T10:59:21.230953Z"
        },
        "id": "a90ba5bf"
      },
      "outputs": [],
      "source": [
        "df_taxi_clean['pickup_day'] = df_taxi_clean.pickup.dt.floor('d')"
      ]
    },
    {
      "cell_type": "markdown",
      "id": "b300125d",
      "metadata": {
        "id": "b300125d"
      },
      "source": [
        "А тепер згрупуйте дані по pickup_day та виведіть графік сумарних платежів по дням. УВАГА! Якщо хочете отримати підписи по осі ОХ як на прикладі, то графік необхідно будувати через `df.plot(...)`. Якщо у Вас будуть інші підписи осі ОХ - це ОК.\n",
        "\n",
        "Після виведення графіку скажіть, чи бачите щось дивне на ньому? Важливо написати відповідь в цьому завданні словами."
      ]
    },
    {
      "cell_type": "code",
      "execution_count": null,
      "id": "865f26d7",
      "metadata": {
        "ExecuteTime": {
          "end_time": "2022-11-09T11:00:17.225450Z",
          "start_time": "2022-11-09T11:00:16.759498Z"
        },
        "id": "865f26d7"
      },
      "outputs": [],
      "source": []
    },
    {
      "cell_type": "markdown",
      "id": "9f48d3c7",
      "metadata": {
        "id": "9f48d3c7"
      },
      "source": [
        "Приклад очікуваного графіку:"
      ]
    },
    {
      "cell_type": "markdown",
      "id": "9e9c0422",
      "metadata": {
        "id": "9e9c0422"
      },
      "source": [
        "![](https://drive.google.com/uc?export=view&id=1t8yb_NNO2tfwDFDrBNl0BLJoYB0BsUK_)"
      ]
    },
    {
      "cell_type": "markdown",
      "id": "6f8776f2",
      "metadata": {
        "id": "6f8776f2"
      },
      "source": [
        "6.Виведіть кількість рядків для кожного pickup_day."
      ]
    },
    {
      "cell_type": "code",
      "execution_count": null,
      "id": "84bb36be",
      "metadata": {
        "ExecuteTime": {
          "end_time": "2022-11-09T11:02:47.481904Z",
          "start_time": "2022-11-09T11:02:47.469304Z"
        },
        "id": "84bb36be"
      },
      "outputs": [],
      "source": []
    },
    {
      "cell_type": "markdown",
      "id": "a0150a06",
      "metadata": {
        "id": "a0150a06"
      },
      "source": [
        "Маєте побачити, що для дати 2019-02-28 є тільки один рядок. Це запис, який, схоже, потрапив сюди випадково, видаліть з набору даних df_taxi_clean рядок, що містить pickup_day рівний 2019-02-28. Та знову виведіть графік сумарних платежів по pickup_day."
      ]
    },
    {
      "cell_type": "code",
      "execution_count": null,
      "id": "895f9183",
      "metadata": {
        "id": "895f9183"
      },
      "outputs": [],
      "source": []
    },
    {
      "cell_type": "markdown",
      "id": "0313f9f7",
      "metadata": {
        "id": "0313f9f7"
      },
      "source": [
        "Очікуваний графік:"
      ]
    },
    {
      "cell_type": "markdown",
      "id": "993bb77d",
      "metadata": {
        "id": "993bb77d"
      },
      "source": [
        "![](https://drive.google.com/uc?export=view&id=1RfSjsgr5991dlz5bVbfXl8tCnUZhFJ8B)"
      ]
    },
    {
      "cell_type": "markdown",
      "id": "2d8b34cc",
      "metadata": {
        "id": "2d8b34cc"
      },
      "source": [
        "7.Давайте подивимось на динаміку сумарних платежів по районам. Для цього сформуйте на основі `df_taxi_clean` зводну таблицю, де рядками є `pickup_day`, колонками `pickup_borough`, а значенням - сума платежів. Запишіть зводну таблицю в змінну `borough_pivot`. Наостанок, вилучіть колонку зі значенням `pickup_borough` рівним `NA` - уявімо, що ці дані нас не цікавлять."
      ]
    },
    {
      "cell_type": "code",
      "execution_count": null,
      "id": "c6e638f9",
      "metadata": {
        "ExecuteTime": {
          "end_time": "2022-11-09T11:08:24.912994Z",
          "start_time": "2022-11-09T11:08:24.898743Z"
        },
        "id": "c6e638f9"
      },
      "outputs": [],
      "source": []
    },
    {
      "cell_type": "markdown",
      "id": "73c570a1",
      "metadata": {
        "id": "73c570a1"
      },
      "source": [
        "Далі запустіть наступну клітинку та дайте відповідь на питання, в якому районі найчастіше найбільша сума денних платежів за поїздки на таксі?   \n",
        "До речі, також рекомендую спробувати запустити команду `borough_pivot.plot()` та зрозуміти, навіщо нам тут частина `fillna(0)`."
      ]
    },
    {
      "cell_type": "code",
      "execution_count": null,
      "id": "e1213445",
      "metadata": {
        "ExecuteTime": {
          "end_time": "2022-11-09T11:09:28.740464Z",
          "start_time": "2022-11-09T11:09:28.396585Z"
        },
        "id": "e1213445"
      },
      "outputs": [],
      "source": [
        "borough_pivot.fillna(0).plot();"
      ]
    },
    {
      "cell_type": "markdown",
      "id": "e7d0b59b",
      "metadata": {
        "id": "e7d0b59b"
      },
      "source": [
        "Очікуваний графік :"
      ]
    },
    {
      "cell_type": "markdown",
      "id": "96905473",
      "metadata": {
        "id": "96905473"
      },
      "source": [
        "![](https://drive.google.com/uc?export=view&id=1zhLnMdPCg54j2yzU1hRWv6wseSNPT1Oy)"
      ]
    },
    {
      "cell_type": "markdown",
      "id": "c135fa0d",
      "metadata": {
        "ExecuteTime": {
          "end_time": "2022-11-09T11:14:40.876868Z",
          "start_time": "2022-11-09T11:14:40.791548Z"
        },
        "id": "c135fa0d"
      },
      "source": [
        "8.Виведіть будь-яким способом гістограми суми денних платежів за поїздки по кожному з районів. Має бути 4 гістограми, на 4ох різних фігурах, або на одній.   \n",
        "\n",
        "`Підказка:` Найпростіше це буде зробити, використавши `borough_pivot` та побудову графіку через `<назва датафрейму>.<назва графіку>()` - тобто методом датафрейму з пандаса. Але графік можна побудувати також використовуючи цикл. Для тих, хто хоче потренуватись, рекомендую зробити обома способами.\n",
        "\n",
        "Пограйтесь з кількістю бінів. Яка кількість бінів на ваш погляд тут є вдалою? Чому?"
      ]
    },
    {
      "cell_type": "code",
      "execution_count": null,
      "id": "5e877526",
      "metadata": {
        "ExecuteTime": {
          "end_time": "2022-11-09T11:15:23.155425Z",
          "start_time": "2022-11-09T11:15:22.834091Z"
        },
        "id": "5e877526"
      },
      "outputs": [],
      "source": []
    },
    {
      "cell_type": "markdown",
      "id": "3df18aa5",
      "metadata": {
        "id": "3df18aa5"
      },
      "source": [
        "Приклад одного з правильних виконань завдання:"
      ]
    },
    {
      "cell_type": "markdown",
      "id": "106ad1f0",
      "metadata": {
        "id": "106ad1f0"
      },
      "source": [
        "![](https://drive.google.com/uc?export=view&id=1AfkIgwUAtaDiYoiK6NBOqCHBdUngRz4z)"
      ]
    },
    {
      "cell_type": "markdown",
      "id": "21dad7f0",
      "metadata": {
        "id": "21dad7f0"
      },
      "source": [
        "9.Бачимо, що на окремих гістограмах у нас різні діапазони чеків. Припустимо, нам хочеться порівняти розподіли денних сум платежів по райнам. Давайте для цього виведемо 4 гістограми на одній фігурі. Вони звісно ж мають бути різного кольору і напівпрозорими для комфортного перегляду. Створіть гістограму максимально близьку до тої, що надана в очікуваному результаті.\n",
        "`Підказка:` ця візуалізація створена з допомогою pandas plotting."
      ]
    },
    {
      "cell_type": "code",
      "execution_count": null,
      "id": "1b2c5ee9",
      "metadata": {
        "ExecuteTime": {
          "end_time": "2022-11-09T11:27:38.750686Z",
          "start_time": "2022-11-09T11:27:38.560437Z"
        },
        "id": "1b2c5ee9"
      },
      "outputs": [],
      "source": []
    },
    {
      "cell_type": "markdown",
      "id": "b7cf2463",
      "metadata": {
        "id": "b7cf2463"
      },
      "source": [
        "Очікуваний результат:"
      ]
    },
    {
      "cell_type": "markdown",
      "id": "b4758821",
      "metadata": {
        "id": "b4758821"
      },
      "source": [
        "![](https://drive.google.com/uc?export=view&id=1J5PCLfVovNqeGxeeBGFUSS1Kqh6-UnwR)"
      ]
    },
    {
      "cell_type": "markdown",
      "id": "bcd7d182",
      "metadata": {
        "id": "bcd7d182"
      },
      "source": [
        "А ось приклад, як можна було сформувати щось подібне з допомогою функціоналу seaborn. Як на мене візуалізація за замовчанням не є зручною для розуміння.  \n",
        "\n",
        "`Опціональне завдання`: Пограйтесь з налаштуваннями і пошукайте варіант, за якого візуалізація розподілу суми денних платежів через seaborn є на ваш погляд зручною для аналізу."
      ]
    },
    {
      "cell_type": "code",
      "execution_count": null,
      "id": "5755bcdc",
      "metadata": {
        "ExecuteTime": {
          "end_time": "2022-11-09T11:31:12.555776Z",
          "start_time": "2022-11-09T11:31:12.280595Z"
        },
        "id": "5755bcdc"
      },
      "outputs": [],
      "source": [
        "sns.histplot(data=borough_pivot, bins=6);"
      ]
    },
    {
      "cell_type": "markdown",
      "id": "a412e684",
      "metadata": {
        "id": "a412e684"
      },
      "source": [
        "10.З допомогою seaborn виведіть гістограми суми щомісячних платежів по кольорам автомобілів (колонка `color`). На одній фігурі має бути кількість гістограм рівна кількості різних кольорів автомобілів в наборі даних. Встановіть розмір фігури (10,5) та знайдіть значення dots-per-inch для фігури за якого якість зображення буде хорошою (зображення не буде розмитим).\n",
        "`Підказки:`\n",
        "1. побудувати візуалізацію можна в один рядок коду, і ще один рядок - для встановлення розмірів і роздільної здатності фігури.\n",
        "2. для зміни порядку відображення гістограм кольорів автомобілів (аби менша гістограма була перед, а не за більшою) можна посортувати датафрейм за полем кольору так, аби отримати той порядок, який вам потрібен."
      ]
    },
    {
      "cell_type": "code",
      "execution_count": null,
      "id": "dcf09516",
      "metadata": {
        "ExecuteTime": {
          "end_time": "2022-11-10T13:43:09.960183Z",
          "start_time": "2022-11-10T13:43:08.853653Z"
        },
        "id": "dcf09516"
      },
      "outputs": [],
      "source": []
    },
    {
      "cell_type": "markdown",
      "id": "76bdbbe0",
      "metadata": {
        "ExecuteTime": {
          "end_time": "2022-11-10T13:48:28.504384Z",
          "start_time": "2022-11-10T13:48:28.438463Z"
        },
        "id": "76bdbbe0"
      },
      "source": [
        "Очікуваний результат:"
      ]
    },
    {
      "cell_type": "markdown",
      "id": "11f07640",
      "metadata": {
        "id": "11f07640"
      },
      "source": [
        "![](https://drive.google.com/uc?export=view&id=17j9hUAo0-65yEuCMHOHUlEW0nRqePOrW)"
      ]
    },
    {
      "cell_type": "markdown",
      "id": "a707ff8c",
      "metadata": {
        "id": "a707ff8c"
      },
      "source": [
        "11.Цікаво, а чи є залежність між дальністю поїздки і розміром чайових? Побудуйте діаграму розсіювання між дальністю поїздки і розміром чайових. Можна побудувати графік будь-яким методом, який вам до вподоби, чи хочеться потренувати.\n",
        "\n",
        "В очікуваному результаті я надаю графік, який би будувала я. На наведеному прикладі найскладніша частина - це зробити червоною цю лінію тренду (вона побудована з допомогою спеціального типу графіку в seaborn). Аби вказати колір лінії в тому типу графіку треба зазначити в параметрі `line_kws`, що ми хочемо лінію червоного кольору. Але якщо у вас не буде виходити лінія червоного кольору - нехай буде синього - це не критично :)"
      ]
    },
    {
      "cell_type": "code",
      "execution_count": null,
      "id": "96decb60",
      "metadata": {
        "ExecuteTime": {
          "end_time": "2022-11-10T15:02:38.509284Z",
          "start_time": "2022-11-10T15:02:38.028500Z"
        },
        "id": "96decb60"
      },
      "outputs": [],
      "source": []
    },
    {
      "cell_type": "markdown",
      "id": "1bdc8676",
      "metadata": {
        "id": "1bdc8676"
      },
      "source": [
        "Один з можливих результатів (побудовано з seaborn):"
      ]
    },
    {
      "cell_type": "markdown",
      "id": "64998efe",
      "metadata": {
        "id": "64998efe"
      },
      "source": [
        "![](https://drive.google.com/uc?export=view&id=19PtgLlPTJ1iR_AxcnBDZUw-U3Ulr6Cpy)"
      ]
    },
    {
      "cell_type": "markdown",
      "id": "375c4f4f",
      "metadata": {
        "id": "375c4f4f"
      },
      "source": [
        "12.Дайте відповідь на питання: що означає пряма лінія з точок, паралельна осі, за якою розташована дальність поїздки?"
      ]
    },
    {
      "cell_type": "code",
      "execution_count": null,
      "id": "4dbe7610",
      "metadata": {
        "id": "4dbe7610"
      },
      "outputs": [],
      "source": []
    },
    {
      "cell_type": "markdown",
      "id": "6d44f13d",
      "metadata": {
        "ExecuteTime": {
          "end_time": "2022-11-10T15:11:02.637392Z",
          "start_time": "2022-11-10T15:11:02.629407Z"
        },
        "id": "6d44f13d"
      },
      "source": [
        "13.Побудуйте поденну динаміку чайових по районам, в яких забрали пасажира. Можна побудувати графік будь-яким методом, який вам до вподоби, чи хочеться потренувати. Важливо, щоб на одному графіку було 4 лінії (всі райони, крім `NA`), які відображають динаміку чайових, була легенда і були підписи вісей. В очікуваному результаті я надаю графік, який би будувала я.\n",
        "\n",
        "Дайте відповіді на питання:\n",
        "- при початку поїздки в якому районі **найнижчий середній розмір** чайових?\n",
        "- а в поїздках з якого району **найвищий середній розмір** чайових?\n",
        "- при проїздках з його району розмір чайових найстабільніший (найменше змінюється з дня у день)?"
      ]
    },
    {
      "cell_type": "code",
      "execution_count": null,
      "id": "d26295c5",
      "metadata": {
        "ExecuteTime": {
          "end_time": "2022-11-10T15:15:57.837106Z",
          "start_time": "2022-11-10T15:15:55.217434Z"
        },
        "id": "d26295c5"
      },
      "outputs": [],
      "source": []
    },
    {
      "cell_type": "markdown",
      "id": "e22f15b0",
      "metadata": {
        "id": "e22f15b0"
      },
      "source": [
        "Один з можливих результатів (побудовано з seaborn):"
      ]
    },
    {
      "cell_type": "markdown",
      "id": "5b4078eb",
      "metadata": {
        "id": "5b4078eb"
      },
      "source": [
        "![](https://drive.google.com/uc?export=view&id=1yoEqYwNwyQmTTrkk_Mz6D-ruAvE-Sx8q)"
      ]
    },
    {
      "cell_type": "markdown",
      "id": "974b34b2",
      "metadata": {
        "id": "974b34b2"
      },
      "source": [
        "14.Побудуйте box-plot розміру чайових по району (всі райони, крім `NA`) старту поїздки. Можна побудувати графік будь-яким методом, який вам до вподоби, чи хочеться потренувати."
      ]
    },
    {
      "cell_type": "code",
      "execution_count": null,
      "id": "172e6462",
      "metadata": {
        "ExecuteTime": {
          "end_time": "2022-11-10T15:22:42.776518Z",
          "start_time": "2022-11-10T15:22:42.599124Z"
        },
        "id": "172e6462"
      },
      "outputs": [],
      "source": []
    },
    {
      "cell_type": "markdown",
      "id": "1c870b8b",
      "metadata": {
        "id": "1c870b8b"
      },
      "source": [
        "Один з можливих результатів (побудовано з seaborn):"
      ]
    },
    {
      "cell_type": "markdown",
      "id": "3155cbdc",
      "metadata": {
        "id": "3155cbdc"
      },
      "source": [
        "![](https://drive.google.com/uc?export=view&id=1o6dFRTSj0gLQ_DMWeb7upqvuPNsL0MQc)"
      ]
    },
    {
      "cell_type": "markdown",
      "id": "b2545add",
      "metadata": {
        "ExecuteTime": {
          "end_time": "2022-11-10T15:28:51.686760Z",
          "start_time": "2022-11-10T15:28:51.676955Z"
        },
        "id": "b2545add"
      },
      "source": [
        "15.Творче завдання. Створіть ТРИ інформативних візуалізації, які б допомогли в аналізі цих даних.   \n",
        "\n",
        "Що вам було б цікаво дізнатись про ці поїздки? Як це можна було б використати при прийнятті рішень бізнесом?\n",
        "Наприклад, якщо найбільше поїздок в певний час доби, значить, треба стимулювати водіїв працювати в ці години. Якщо найбільше поїздок з певного району - треба тримати там запас авто, які б могли взяти пасажирів і т.д.\n",
        "Не обмежуйте свою фантазію.\n",
        "\n",
        "Візуалізації мають бути не тими, на які ми вже побудували вище. Але можна створювати аналогічні, просто з використанням інших полів даних. І описати, що ви бачите з тих візуалізацій.\n",
        "Без виконання цього завдання ДЗ не приймаєтья. Якщо є питання щодо виконання - пишіть у чат."
      ]
    },
    {
      "cell_type": "code",
      "execution_count": null,
      "id": "a313686b",
      "metadata": {
        "id": "a313686b"
      },
      "outputs": [],
      "source": []
    }
  ],
  "metadata": {
    "kernelspec": {
      "display_name": "Python 3 (ipykernel)",
      "language": "python",
      "name": "python3"
    },
    "language_info": {
      "codemirror_mode": {
        "name": "ipython",
        "version": 3
      },
      "file_extension": ".py",
      "mimetype": "text/x-python",
      "name": "python",
      "nbconvert_exporter": "python",
      "pygments_lexer": "ipython3",
      "version": "3.10.4"
    },
    "toc": {
      "base_numbering": 1,
      "nav_menu": {},
      "number_sections": true,
      "sideBar": true,
      "skip_h1_title": false,
      "title_cell": "Table of Contents",
      "title_sidebar": "Contents",
      "toc_cell": false,
      "toc_position": {},
      "toc_section_display": true,
      "toc_window_display": false
    },
    "vscode": {
      "interpreter": {
        "hash": "a6511e6b41b26ba86cca7483749cf4dd15bf137a2672e550741a656e19bba82e"
      }
    },
    "colab": {
      "provenance": []
    }
  },
  "nbformat": 4,
  "nbformat_minor": 5
}