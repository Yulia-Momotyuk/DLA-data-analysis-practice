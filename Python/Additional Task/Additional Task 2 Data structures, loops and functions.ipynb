{
 "cells": [
  {
   "cell_type": "markdown",
   "id": "69f335e6",
   "metadata": {
    "id": "69f335e6"
   },
   "source": [
    "1.Створіть множину (set) з наведеного спиcку та виведіть результат на екран. Чим відрізняється множина від списку?"
   ]
  },
  {
   "cell_type": "code",
   "execution_count": 1,
   "id": "aaeecf7e",
   "metadata": {
    "ExecuteTime": {
     "end_time": "2023-02-16T17:21:34.172161Z",
     "start_time": "2023-02-16T17:21:34.150021Z"
    },
    "execution": {
     "iopub.execute_input": "2025-06-29T18:39:52.549476Z",
     "iopub.status.busy": "2025-06-29T18:39:52.548474Z",
     "iopub.status.idle": "2025-06-29T18:39:52.562479Z",
     "shell.execute_reply": "2025-06-29T18:39:52.558475Z",
     "shell.execute_reply.started": "2025-06-29T18:39:52.548474Z"
    },
    "id": "aaeecf7e"
   },
   "outputs": [],
   "source": [
    "input_list =  ['boat', 'bus', 'plane', 'train', 'boat', 'autobus', 'bus']"
   ]
  },
  {
   "cell_type": "code",
   "execution_count": 2,
   "id": "61d218e2",
   "metadata": {
    "execution": {
     "iopub.execute_input": "2025-06-29T18:39:52.575494Z",
     "iopub.status.busy": "2025-06-29T18:39:52.574493Z",
     "iopub.status.idle": "2025-06-29T18:39:52.595505Z",
     "shell.execute_reply": "2025-06-29T18:39:52.592503Z",
     "shell.execute_reply.started": "2025-06-29T18:39:52.575494Z"
    },
    "id": "61d218e2"
   },
   "outputs": [
    {
     "data": {
      "text/plain": [
       "{'autobus', 'boat', 'bus', 'plane', 'train'}"
      ]
     },
     "execution_count": 2,
     "metadata": {},
     "output_type": "execute_result"
    }
   ],
   "source": [
    "set(input_list)"
   ]
  },
  {
   "cell_type": "markdown",
   "id": "d2dd9987",
   "metadata": {
    "id": "d2dd9987"
   },
   "source": [
    "Множина містить невпорядковані унікальні елементи. Список - це спорядкований набір будь-яких елементів."
   ]
  },
  {
   "cell_type": "markdown",
   "id": "5c7babdc",
   "metadata": {
    "id": "5c7babdc"
   },
   "source": [
    "2.Виведіть окремо ключі та окремо значення двома окремими списками наступного словника:"
   ]
  },
  {
   "cell_type": "code",
   "execution_count": 3,
   "id": "a00df81d",
   "metadata": {
    "ExecuteTime": {
     "end_time": "2023-02-16T17:32:23.162298Z",
     "start_time": "2023-02-16T17:32:23.152250Z"
    },
    "execution": {
     "iopub.execute_input": "2025-06-29T18:39:52.742085Z",
     "iopub.status.busy": "2025-06-29T18:39:52.742085Z",
     "iopub.status.idle": "2025-06-29T18:39:52.773350Z",
     "shell.execute_reply": "2025-06-29T18:39:52.773350Z",
     "shell.execute_reply.started": "2025-06-29T18:39:52.742085Z"
    },
    "id": "a00df81d"
   },
   "outputs": [],
   "source": [
    "light_signals = {'green': 'go', 'yellow': 'get ready', 'red': 'stop'}"
   ]
  },
  {
   "cell_type": "code",
   "execution_count": 4,
   "id": "dc2cc322",
   "metadata": {
    "execution": {
     "iopub.execute_input": "2025-06-29T18:39:52.788962Z",
     "iopub.status.busy": "2025-06-29T18:39:52.788962Z",
     "iopub.status.idle": "2025-06-29T18:39:52.820227Z",
     "shell.execute_reply": "2025-06-29T18:39:52.820227Z",
     "shell.execute_reply.started": "2025-06-29T18:39:52.788962Z"
    },
    "id": "dc2cc322"
   },
   "outputs": [
    {
     "data": {
      "text/plain": [
       "dict_keys(['green', 'yellow', 'red'])"
      ]
     },
     "execution_count": 4,
     "metadata": {},
     "output_type": "execute_result"
    }
   ],
   "source": [
    "light_signals.keys()"
   ]
  },
  {
   "cell_type": "code",
   "execution_count": 5,
   "id": "65727df5-e262-4658-bc2c-0d14460d4246",
   "metadata": {
    "execution": {
     "iopub.execute_input": "2025-06-29T18:39:52.835847Z",
     "iopub.status.busy": "2025-06-29T18:39:52.835847Z",
     "iopub.status.idle": "2025-06-29T18:39:52.867099Z",
     "shell.execute_reply": "2025-06-29T18:39:52.867099Z",
     "shell.execute_reply.started": "2025-06-29T18:39:52.835847Z"
    }
   },
   "outputs": [
    {
     "data": {
      "text/plain": [
       "dict_values(['go', 'get ready', 'stop'])"
      ]
     },
     "execution_count": 5,
     "metadata": {},
     "output_type": "execute_result"
    }
   ],
   "source": [
    "light_signals.values()"
   ]
  },
  {
   "cell_type": "markdown",
   "id": "0883eb80",
   "metadata": {
    "ExecuteTime": {
     "end_time": "2023-02-16T16:25:21.907981Z",
     "start_time": "2023-02-16T16:25:21.902740Z"
    },
    "id": "0883eb80"
   },
   "source": [
    "3.Напишіть фрагмент коду, що формує список всіх чисел між 1200 і 2700 (обидва включаючи), які деляться на 7 АБО на 5 без остачі. Виведіть результуючий список на екран."
   ]
  },
  {
   "cell_type": "code",
   "execution_count": 6,
   "id": "e4587789",
   "metadata": {
    "execution": {
     "iopub.execute_input": "2025-06-29T18:39:52.945222Z",
     "iopub.status.busy": "2025-06-29T18:39:52.945222Z",
     "iopub.status.idle": "2025-06-29T18:39:52.992111Z",
     "shell.execute_reply": "2025-06-29T18:39:52.992111Z",
     "shell.execute_reply.started": "2025-06-29T18:39:52.945222Z"
    },
    "id": "e4587789"
   },
   "outputs": [
    {
     "name": "stdout",
     "output_type": "stream",
     "text": [
      "[1200, 1205, 1210, 1215, 1220, 1225, 1230, 1235, 1240, 1245, 1250, 1255, 1260, 1265, 1270, 1275, 1280, 1285, 1290, 1295, 1300, 1305, 1310, 1315, 1320, 1325, 1330, 1335, 1340, 1345, 1350, 1355, 1360, 1365, 1370, 1375, 1380, 1385, 1390, 1395, 1400, 1405, 1410, 1415, 1420, 1425, 1430, 1435, 1440, 1445, 1450, 1455, 1460, 1465, 1470, 1475, 1480, 1485, 1490, 1495, 1500, 1505, 1510, 1515, 1520, 1525, 1530, 1535, 1540, 1545, 1550, 1555, 1560, 1565, 1570, 1575, 1580, 1585, 1590, 1595, 1600, 1605, 1610, 1615, 1620, 1625, 1630, 1635, 1640, 1645, 1650, 1655, 1660, 1665, 1670, 1675, 1680, 1685, 1690, 1695, 1700, 1705, 1710, 1715, 1720, 1725, 1730, 1735, 1740, 1745, 1750, 1755, 1760, 1765, 1770, 1775, 1780, 1785, 1790, 1795, 1800, 1805, 1810, 1815, 1820, 1825, 1830, 1835, 1840, 1845, 1850, 1855, 1860, 1865, 1870, 1875, 1880, 1885, 1890, 1895, 1900, 1905, 1910, 1915, 1920, 1925, 1930, 1935, 1940, 1945, 1950, 1955, 1960, 1965, 1970, 1975, 1980, 1985, 1990, 1995, 2000, 2005, 2010, 2015, 2020, 2025, 2030, 2035, 2040, 2045, 2050, 2055, 2060, 2065, 2070, 2075, 2080, 2085, 2090, 2095, 2100, 2105, 2110, 2115, 2120, 2125, 2130, 2135, 2140, 2145, 2150, 2155, 2160, 2165, 2170, 2175, 2180, 2185, 2190, 2195, 2200, 2205, 2210, 2215, 2220, 2225, 2230, 2235, 2240, 2245, 2250, 2255, 2260, 2265, 2270, 2275, 2280, 2285, 2290, 2295, 2300, 2305, 2310, 2315, 2320, 2325, 2330, 2335, 2340, 2345, 2350, 2355, 2360, 2365, 2370, 2375, 2380, 2385, 2390, 2395, 2400, 2405, 2410, 2415, 2420, 2425, 2430, 2435, 2440, 2445, 2450, 2455, 2460, 2465, 2470, 2475, 2480, 2485, 2490, 2495, 2500, 2505, 2510, 2515, 2520, 2525, 2530, 2535, 2540, 2545, 2550, 2555, 2560, 2565, 2570, 2575, 2580, 2585, 2590, 2595, 2600, 2605, 2610, 2615, 2620, 2625, 2630, 2635, 2640, 2645, 2650, 2655, 2660, 2665, 2670, 2675, 2680, 2685, 2690, 2695, 2700]\n"
     ]
    }
   ],
   "source": [
    "numbers = []\n",
    "\n",
    "for num in range(1200, 2701):\n",
    "    if num / 7 == 0 or num % 5 == 0:\n",
    "        numbers.append(num)\n",
    "\n",
    "print(numbers)"
   ]
  },
  {
   "cell_type": "markdown",
   "id": "83ec4846",
   "metadata": {
    "ExecuteTime": {
     "end_time": "2023-02-16T16:28:06.826641Z",
     "start_time": "2023-02-16T16:28:06.822293Z"
    },
    "id": "83ec4846"
   },
   "source": [
    "4.Напишіть функцію, яка для заданого цілого числа виводить на екран наступну фігуру. Підказка - тут треба використати вкладені цикли for. Наприклад, для `n=5` фігура матиме наступний вигляд:\n",
    "\n",
    "```\n",
    "*\n",
    "* *\n",
    "* * *\n",
    "* * * *\n",
    "* * * * *\n",
    "* * * *\n",
    "* * *\n",
    "* *\n",
    "*\n",
    "```\n",
    "\n",
    "Запустіть фукнцію для значень n: 3, 5, 10."
   ]
  },
  {
   "cell_type": "code",
   "execution_count": 7,
   "id": "0bd87693",
   "metadata": {
    "execution": {
     "iopub.execute_input": "2025-06-29T18:39:53.070234Z",
     "iopub.status.busy": "2025-06-29T18:39:53.070234Z",
     "iopub.status.idle": "2025-06-29T18:39:53.101477Z",
     "shell.execute_reply": "2025-06-29T18:39:53.101477Z",
     "shell.execute_reply.started": "2025-06-29T18:39:53.070234Z"
    },
    "id": "0bd87693"
   },
   "outputs": [],
   "source": [
    "def figure(n):\n",
    "    for a in range(1, n + 1):\n",
    "        for b in range(a):\n",
    "            print(\"*\", end=\" \")\n",
    "        print()\n",
    "\n",
    "    for a in range(n - 1, 0, -1):\n",
    "        for b in range(a):\n",
    "            print(\"*\", end=\" \")\n",
    "        print()"
   ]
  },
  {
   "cell_type": "code",
   "execution_count": 8,
   "id": "91a92431-ba53-44ce-8fdf-ab52af5d8044",
   "metadata": {
    "execution": {
     "iopub.execute_input": "2025-06-29T18:39:53.101477Z",
     "iopub.status.busy": "2025-06-29T18:39:53.101477Z",
     "iopub.status.idle": "2025-06-29T18:39:53.132741Z",
     "shell.execute_reply": "2025-06-29T18:39:53.132741Z",
     "shell.execute_reply.started": "2025-06-29T18:39:53.101477Z"
    }
   },
   "outputs": [
    {
     "name": "stdout",
     "output_type": "stream",
     "text": [
      "* \n",
      "* * \n",
      "* * * \n",
      "* * \n",
      "* \n",
      "None\n",
      "* \n",
      "* * \n",
      "* * * \n",
      "* * * * \n",
      "* * * * * \n",
      "* * * * \n",
      "* * * \n",
      "* * \n",
      "* \n",
      "None\n",
      "* \n",
      "* * \n",
      "* * * \n",
      "* * * * \n",
      "* * * * * \n",
      "* * * * * * \n",
      "* * * * * * * \n",
      "* * * * * * * * \n",
      "* * * * * * * * * \n",
      "* * * * * * * * * * \n",
      "* * * * * * * * * \n",
      "* * * * * * * * \n",
      "* * * * * * * \n",
      "* * * * * * \n",
      "* * * * * \n",
      "* * * * \n",
      "* * * \n",
      "* * \n",
      "* \n",
      "None\n"
     ]
    }
   ],
   "source": [
    "n_list = (3, 5, 10)\n",
    "for i in n_list:\n",
    "    print(figure(i))"
   ]
  },
  {
   "cell_type": "markdown",
   "id": "ce6f1afc",
   "metadata": {
    "id": "ce6f1afc"
   },
   "source": [
    "5.Напишіть функцію, яка вертає кількість парних та непарних чисел у наданому масиві. Функція має вертати два числа, а після функції створіть повідомлення, яке прописує, скільки було парних та непарних чисел у масиві.\n",
    "Приклад: для наступного входу\n",
    "```\n",
    "numbers = (1, 2, 11, 12, 13, 22, 27, 29)\n",
    "```\n",
    "Функція має повернути результат: `3, 5`.\n",
    "І далі Вам необхідно сформувати повідомлення, яке виведе наступне, використовуючи результат функції:\n",
    "```\n",
    "Кількість парних чисел : 3\n",
    "Кількість непарних : 5\n",
    "```\n",
    "Запустіть алгоритм функція+друк повідомлення для трьох наведених списків. Найзручніше це зробити, пройшовши по спискам у циклі."
   ]
  },
  {
   "cell_type": "code",
   "execution_count": 9,
   "id": "ca9634e0",
   "metadata": {
    "ExecuteTime": {
     "end_time": "2023-02-16T17:12:55.787310Z",
     "start_time": "2023-02-16T17:12:55.779497Z"
    },
    "execution": {
     "iopub.execute_input": "2025-06-29T18:39:53.210870Z",
     "iopub.status.busy": "2025-06-29T18:39:53.210870Z",
     "iopub.status.idle": "2025-06-29T18:39:53.242114Z",
     "shell.execute_reply": "2025-06-29T18:39:53.242114Z",
     "shell.execute_reply.started": "2025-06-29T18:39:53.210870Z"
    },
    "id": "ca9634e0"
   },
   "outputs": [],
   "source": [
    "numbers_1 = {1, 2, 11, 12, 13, 22, 27, 29}\n",
    "numbers_2 = {1, 22, 412, 312, 73, 3421}\n",
    "numbers_3 = {12, 11, 94, 722, 0, 452}"
   ]
  },
  {
   "cell_type": "code",
   "execution_count": 10,
   "id": "42c3fd1e",
   "metadata": {
    "execution": {
     "iopub.execute_input": "2025-06-29T18:39:53.242114Z",
     "iopub.status.busy": "2025-06-29T18:39:53.242114Z",
     "iopub.status.idle": "2025-06-29T18:39:53.273360Z",
     "shell.execute_reply": "2025-06-29T18:39:53.273360Z",
     "shell.execute_reply.started": "2025-06-29T18:39:53.242114Z"
    },
    "id": "42c3fd1e"
   },
   "outputs": [],
   "source": [
    "def count_even_odd(numbers):\n",
    "    even_count = 0\n",
    "    odd_count = 0\n",
    "    \n",
    "    for num in numbers:\n",
    "        if num % 2 == 0:\n",
    "            even_count += 1\n",
    "        else:\n",
    "            odd_count += 1\n",
    "\n",
    "    print(f\"Кількість парних чисел : {even_count} \\nКількість непарних : {odd_count}\")\n",
    "    return even_count, odd_count"
   ]
  },
  {
   "cell_type": "code",
   "execution_count": 11,
   "id": "66f66964-2f40-4c9c-bc64-bb190528037f",
   "metadata": {
    "execution": {
     "iopub.execute_input": "2025-06-29T18:39:53.273360Z",
     "iopub.status.busy": "2025-06-29T18:39:53.273360Z",
     "iopub.status.idle": "2025-06-29T18:39:53.320252Z",
     "shell.execute_reply": "2025-06-29T18:39:53.320252Z",
     "shell.execute_reply.started": "2025-06-29T18:39:53.273360Z"
    }
   },
   "outputs": [
    {
     "name": "stdout",
     "output_type": "stream",
     "text": [
      "Кількість парних чисел : 3 \n",
      "Кількість непарних : 5\n"
     ]
    },
    {
     "data": {
      "text/plain": [
       "(3, 5)"
      ]
     },
     "execution_count": 11,
     "metadata": {},
     "output_type": "execute_result"
    }
   ],
   "source": [
    "numbers = (1, 2, 11, 12, 13, 22, 27, 29)\n",
    "count_even_odd(numbers)"
   ]
  },
  {
   "cell_type": "code",
   "execution_count": 12,
   "id": "9103e3fb-c39e-4cb6-98e0-2b7391a59dbc",
   "metadata": {
    "execution": {
     "iopub.execute_input": "2025-06-29T18:39:53.320252Z",
     "iopub.status.busy": "2025-06-29T18:39:53.320252Z",
     "iopub.status.idle": "2025-06-29T18:39:53.351488Z",
     "shell.execute_reply": "2025-06-29T18:39:53.351488Z",
     "shell.execute_reply.started": "2025-06-29T18:39:53.320252Z"
    }
   },
   "outputs": [
    {
     "name": "stdout",
     "output_type": "stream",
     "text": [
      "Кількість парних чисел : 3 \n",
      "Кількість непарних : 5\n",
      "Кількість парних чисел : 3 \n",
      "Кількість непарних : 3\n",
      "Кількість парних чисел : 5 \n",
      "Кількість непарних : 1\n"
     ]
    }
   ],
   "source": [
    "numbers_list = [numbers_1, numbers_2, numbers_3]\n",
    "for i in numbers_list:\n",
    "  count_even_odd(i)"
   ]
  },
  {
   "cell_type": "markdown",
   "id": "dad0c565",
   "metadata": {
    "ExecuteTime": {
     "end_time": "2023-02-16T16:55:03.692657Z",
     "start_time": "2023-02-16T16:55:03.646268Z"
    },
    "id": "dad0c565"
   },
   "source": [
    "6.Напишіть функцію, яка приймає на вхід список з назвами чогось та формує і виводить на екран повідомлення, у якому є всі елементи списку, а перед останнім елементом вставлено слово `and` (приклад - далі). Функція має працювати з будь-якими списками, довжина яких є більшою або рівною 2. Наприклад, для списку\n",
    "```\n",
    "cities = ['Budapest', 'Rome', 'Istanbul', 'Sydney', 'Kyiv']\n",
    "```\n",
    "функція має виводити на екран фразу:\n",
    "```\n",
    "'Budapest, Rome, Istanbul, Sydney and Kyiv'\n",
    "```\n",
    "Запустіть функцію на списках наведених нижче. Для останнього списку має виводитись помилка (exception) або повідомлення про те, що довжина списку має бути як мінімум 2."
   ]
  },
  {
   "cell_type": "code",
   "execution_count": 13,
   "id": "530c7eb0",
   "metadata": {
    "ExecuteTime": {
     "end_time": "2023-02-16T17:04:38.117972Z",
     "start_time": "2023-02-16T17:04:38.112979Z"
    },
    "execution": {
     "iopub.execute_input": "2025-06-29T18:39:53.429631Z",
     "iopub.status.busy": "2025-06-29T18:39:53.429631Z",
     "iopub.status.idle": "2025-06-29T18:39:53.460884Z",
     "shell.execute_reply": "2025-06-29T18:39:53.460884Z",
     "shell.execute_reply.started": "2025-06-29T18:39:53.429631Z"
    },
    "id": "530c7eb0"
   },
   "outputs": [],
   "source": [
    "list1 = ['Budapest', 'Rome', 'Istanbul', 'Sydney', 'Kyiv']\n",
    "list2 = ['USA', 'UK', 'Ukraine']\n",
    "list3 = ['apples', 'oranges']\n",
    "list4 = ['Titan']"
   ]
  },
  {
   "cell_type": "code",
   "execution_count": 14,
   "id": "e376d538",
   "metadata": {
    "execution": {
     "iopub.execute_input": "2025-06-29T18:39:53.460884Z",
     "iopub.status.busy": "2025-06-29T18:39:53.460884Z",
     "iopub.status.idle": "2025-06-29T18:39:53.492120Z",
     "shell.execute_reply": "2025-06-29T18:39:53.492120Z",
     "shell.execute_reply.started": "2025-06-29T18:39:53.460884Z"
    },
    "id": "e376d538"
   },
   "outputs": [],
   "source": [
    "cities_list = [list1, list2, list3, list4]\n",
    "\n",
    "def add_and(lists, word):\n",
    "    result = []\n",
    "    for sublist in lists:\n",
    "        sublist_copy = sublist[:]\n",
    "        if len(sublist) >= 2:\n",
    "            sublist.insert(-1, word)\n",
    "        result.append(sublist_copy)\n",
    "    return result\n",
    "    \n",
    "new_list = add_and(cities_list, 'and')"
   ]
  },
  {
   "cell_type": "code",
   "execution_count": 15,
   "id": "7f4ccfac-e49d-4add-8a8c-81ceb5719c83",
   "metadata": {
    "execution": {
     "iopub.execute_input": "2025-06-29T18:39:53.492120Z",
     "iopub.status.busy": "2025-06-29T18:39:53.492120Z",
     "iopub.status.idle": "2025-06-29T18:39:53.523380Z",
     "shell.execute_reply": "2025-06-29T18:39:53.523380Z",
     "shell.execute_reply.started": "2025-06-29T18:39:53.492120Z"
    }
   },
   "outputs": [
    {
     "name": "stdout",
     "output_type": "stream",
     "text": [
      "['Budapest', 'Rome', 'Istanbul', 'Sydney', 'Kyiv']\n",
      "['USA', 'UK', 'Ukraine']\n",
      "['apples', 'oranges']\n",
      "['Titan']\n"
     ]
    }
   ],
   "source": [
    "for i, sublist in enumerate(new_list, 1):\n",
    "    print(sublist)"
   ]
  },
  {
   "cell_type": "markdown",
   "id": "5093dbef",
   "metadata": {
    "id": "5093dbef"
   },
   "source": [
    "7.Уявіть, що Ви створюєте пригодницьку гру і використовуєте для зберігання предметів гравця словник, у якому ключі - це назви предметів, значення - кількість одиниць кожної із речей. Наприклад, словник може виглядати так: things = {'ключ': 3, 'булава': 1, 'монета': 24, 'ніж': 1, 'горішки': 10, 'бронежелет': 0}. Створіть фукнцію, яка виводить повідомлення про усі речі гравця у такому вигляді:\n",
    "\n",
    "```\n",
    "У гравця є:\n",
    "3 ключ\n",
    "1 булава\n",
    "24 монета\n",
    "1 ніж\n",
    "10 горішки\n",
    "0 бронежелет\n",
    "Загальна кількість речей: 39\n",
    "```\n",
    "\n",
    "Викличіть фукнцію для наступних гравців:"
   ]
  },
  {
   "cell_type": "code",
   "execution_count": 16,
   "id": "f77ec586",
   "metadata": {
    "ExecuteTime": {
     "end_time": "2023-02-16T17:29:01.280430Z",
     "start_time": "2023-02-16T17:29:01.236841Z"
    },
    "execution": {
     "iopub.execute_input": "2025-06-29T18:39:53.601512Z",
     "iopub.status.busy": "2025-06-29T18:39:53.601512Z",
     "iopub.status.idle": "2025-06-29T18:39:53.632758Z",
     "shell.execute_reply": "2025-06-29T18:39:53.632758Z",
     "shell.execute_reply.started": "2025-06-29T18:39:53.601512Z"
    },
    "id": "f77ec586"
   },
   "outputs": [],
   "source": [
    "player_1 = {'ключ': 3, 'булава': 1, 'монета': 24, 'ніж': 1, 'горішки': 10, 'бронежелет': 0}\n",
    "player_2 = {'ключ': 0, 'булава': 2, 'монета': 4, 'ніж': 3, 'горішки': 4, 'бронежелет': 1}\n",
    "player_3 = {'ключ': 0, 'булава': 0, 'монета': 30, 'ніж': 0, 'горішки': 2, 'бронежелет': 2}"
   ]
  },
  {
   "cell_type": "code",
   "execution_count": 17,
   "id": "94d669f9",
   "metadata": {
    "execution": {
     "iopub.execute_input": "2025-06-29T18:39:53.664016Z",
     "iopub.status.busy": "2025-06-29T18:39:53.664016Z",
     "iopub.status.idle": "2025-06-29T18:39:53.695266Z",
     "shell.execute_reply": "2025-06-29T18:39:53.695266Z",
     "shell.execute_reply.started": "2025-06-29T18:39:53.664016Z"
    },
    "id": "94d669f9"
   },
   "outputs": [],
   "source": [
    "def game_info(things):\n",
    "  total = sum(things.values())\n",
    "  print(\"У гравця є:\")\n",
    "  for key, value in things.items():\n",
    "    print(value, key)\n",
    "  print(f\"Загальна кількість речей: {total}\\n\")"
   ]
  },
  {
   "cell_type": "code",
   "execution_count": 18,
   "id": "1800ee6f-4ca9-451e-b018-d3ba6c838a39",
   "metadata": {
    "execution": {
     "iopub.execute_input": "2025-06-29T18:39:53.695266Z",
     "iopub.status.busy": "2025-06-29T18:39:53.695266Z",
     "iopub.status.idle": "2025-06-29T18:39:53.726506Z",
     "shell.execute_reply": "2025-06-29T18:39:53.726506Z",
     "shell.execute_reply.started": "2025-06-29T18:39:53.695266Z"
    }
   },
   "outputs": [
    {
     "name": "stdout",
     "output_type": "stream",
     "text": [
      "У гравця є:\n",
      "3 ключ\n",
      "1 булава\n",
      "24 монета\n",
      "1 ніж\n",
      "10 горішки\n",
      "0 бронежелет\n",
      "Загальна кількість речей: 39\n",
      "\n",
      "У гравця є:\n",
      "0 ключ\n",
      "2 булава\n",
      "4 монета\n",
      "3 ніж\n",
      "4 горішки\n",
      "1 бронежелет\n",
      "Загальна кількість речей: 14\n",
      "\n",
      "У гравця є:\n",
      "0 ключ\n",
      "0 булава\n",
      "30 монета\n",
      "0 ніж\n",
      "2 горішки\n",
      "2 бронежелет\n",
      "Загальна кількість речей: 34\n",
      "\n"
     ]
    }
   ],
   "source": [
    "players = [player_1, player_2, player_3]\n",
    "for player in players:\n",
    "  game_info(player)"
   ]
  },
  {
   "cell_type": "code",
   "execution_count": null,
   "id": "1a1e60bc-ad0a-4f2f-9e16-071e6befde58",
   "metadata": {},
   "outputs": [],
   "source": []
  }
 ],
 "metadata": {
  "colab": {
   "provenance": []
  },
  "kernelspec": {
   "display_name": "Python [conda env:base] *",
   "language": "python",
   "name": "conda-base-py"
  },
  "language_info": {
   "codemirror_mode": {
    "name": "ipython",
    "version": 3
   },
   "file_extension": ".py",
   "mimetype": "text/x-python",
   "name": "python",
   "nbconvert_exporter": "python",
   "pygments_lexer": "ipython3",
   "version": "3.12.7"
  },
  "toc": {
   "base_numbering": 1,
   "nav_menu": {},
   "number_sections": true,
   "sideBar": true,
   "skip_h1_title": false,
   "title_cell": "Table of Contents",
   "title_sidebar": "Contents",
   "toc_cell": false,
   "toc_position": {},
   "toc_section_display": true,
   "toc_window_display": false
  }
 },
 "nbformat": 4,
 "nbformat_minor": 5
}
