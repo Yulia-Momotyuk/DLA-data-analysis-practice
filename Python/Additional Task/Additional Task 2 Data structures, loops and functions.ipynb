{
  "cells": [
    {
      "cell_type": "markdown",
      "id": "69f335e6",
      "metadata": {
        "id": "69f335e6"
      },
      "source": [
        "1.Створіть множину (set) з наведеного спиcку та виведіть результат на екран. Чим відрізняється множина від списку?"
      ]
    },
    {
      "cell_type": "code",
      "execution_count": null,
      "id": "aaeecf7e",
      "metadata": {
        "ExecuteTime": {
          "end_time": "2023-02-16T17:21:34.172161Z",
          "start_time": "2023-02-16T17:21:34.150021Z"
        },
        "id": "aaeecf7e"
      },
      "outputs": [],
      "source": [
        "input_list =  ['boat', 'bus', 'plane', 'train', 'boat', 'autobus', 'bus']"
      ]
    },
    {
      "cell_type": "code",
      "execution_count": null,
      "id": "61d218e2",
      "metadata": {
        "id": "61d218e2"
      },
      "outputs": [],
      "source": []
    },
    {
      "cell_type": "markdown",
      "id": "d2dd9987",
      "metadata": {
        "id": "d2dd9987"
      },
      "source": [
        "Множина містить невпорядковані унікальні елементи. Список - це спорядкований набір будь-яких елементів."
      ]
    },
    {
      "cell_type": "markdown",
      "id": "5c7babdc",
      "metadata": {
        "id": "5c7babdc"
      },
      "source": [
        "2.Виведіть окремо ключі та окремо значення двома окремими списками наступного словника:"
      ]
    },
    {
      "cell_type": "code",
      "execution_count": null,
      "id": "a00df81d",
      "metadata": {
        "ExecuteTime": {
          "end_time": "2023-02-16T17:32:23.162298Z",
          "start_time": "2023-02-16T17:32:23.152250Z"
        },
        "id": "a00df81d"
      },
      "outputs": [],
      "source": [
        "light_signals = {'green': 'go', 'yellow': 'get ready', 'red': 'stop'}"
      ]
    },
    {
      "cell_type": "code",
      "execution_count": null,
      "id": "dc2cc322",
      "metadata": {
        "id": "dc2cc322"
      },
      "outputs": [],
      "source": []
    },
    {
      "cell_type": "markdown",
      "id": "0883eb80",
      "metadata": {
        "ExecuteTime": {
          "end_time": "2023-02-16T16:25:21.907981Z",
          "start_time": "2023-02-16T16:25:21.902740Z"
        },
        "id": "0883eb80"
      },
      "source": [
        "3.Напишіть фрагмент коду, що формує список всіх чисел між 1200 і 2700 (обидва включаючи), які деляться на 7 АБО на 5 без остачі. Виведіть результуючий список на екран."
      ]
    },
    {
      "cell_type": "code",
      "execution_count": null,
      "id": "e4587789",
      "metadata": {
        "id": "e4587789"
      },
      "outputs": [],
      "source": []
    },
    {
      "cell_type": "markdown",
      "id": "83ec4846",
      "metadata": {
        "ExecuteTime": {
          "end_time": "2023-02-16T16:28:06.826641Z",
          "start_time": "2023-02-16T16:28:06.822293Z"
        },
        "id": "83ec4846"
      },
      "source": [
        "4.Напишіть функцію, яка для заданого цілого числа виводить на екран наступну фігуру. Підказка - тут треба використати вкладені цикли for. Наприклад, для `n=5` фігура матиме наступний вигляд:\n",
        "\n",
        "```\n",
        "*\n",
        "* *\n",
        "* * *\n",
        "* * * *\n",
        "* * * * *\n",
        "* * * *\n",
        "* * *\n",
        "* *\n",
        "*\n",
        "```\n",
        "\n",
        "Запустіть фукнцію для значень n: 3, 5, 10."
      ]
    },
    {
      "cell_type": "code",
      "execution_count": null,
      "id": "0bd87693",
      "metadata": {
        "id": "0bd87693"
      },
      "outputs": [],
      "source": []
    },
    {
      "cell_type": "markdown",
      "id": "ce6f1afc",
      "metadata": {
        "id": "ce6f1afc"
      },
      "source": [
        "5.Напишіть функцію, яка вертає кількість парних та непарних чисел у наданому масиві. Функція має вертати два числа, а після функції створіть повідомлення, яке прописує, скільки було парних та непарних чисел у масиві.\n",
        "Приклад: для наступного входу\n",
        "```\n",
        "numbers = (1, 2, 11, 12, 13, 22, 27, 29)\n",
        "```\n",
        "Функція має повернути результат: `3, 5`.\n",
        "І далі Вам необхідно сформувати повідомлення, яке виведе наступне, використовуючи результат функції:\n",
        "```\n",
        "Кількість парних чисел : 3\n",
        "Кількість непарних : 5\n",
        "```\n",
        "Запустіть алгоритм функція+друк повідомлення для трьох наведених списків. Найзручніше це зробити, пройшовши по спискам у циклі."
      ]
    },
    {
      "cell_type": "code",
      "execution_count": null,
      "id": "ca9634e0",
      "metadata": {
        "ExecuteTime": {
          "end_time": "2023-02-16T17:12:55.787310Z",
          "start_time": "2023-02-16T17:12:55.779497Z"
        },
        "id": "ca9634e0"
      },
      "outputs": [],
      "source": [
        "numbers_1 = {1, 2, 11, 12, 13, 22, 27, 29}\n",
        "numbers_2 = {1, 22, 412, 312, 73, 3421}\n",
        "numbers_3 = {12, 11, 94, 722, 0, 452}"
      ]
    },
    {
      "cell_type": "code",
      "execution_count": null,
      "id": "42c3fd1e",
      "metadata": {
        "id": "42c3fd1e"
      },
      "outputs": [],
      "source": []
    },
    {
      "cell_type": "markdown",
      "id": "dad0c565",
      "metadata": {
        "ExecuteTime": {
          "end_time": "2023-02-16T16:55:03.692657Z",
          "start_time": "2023-02-16T16:55:03.646268Z"
        },
        "id": "dad0c565"
      },
      "source": [
        "6.Напишіть функцію, яка приймає на вхід список з назвами чогось та формує і виводить на екран повідомлення, у якому є всі елементи списку, а перед останнім елементом вставлено слово `and` (приклад - далі). Функція має працювати з будь-якими списками, довжина яких є більшою або рівною 2. Наприклад, для списку\n",
        "```\n",
        "cities = ['Budapest', 'Rome', 'Istanbul', 'Sydney', 'Kyiv']\n",
        "```\n",
        "функція має виводити на екран фразу:\n",
        "```\n",
        "'Budapest, Rome, Istanbul, Sydney and Kyiv'\n",
        "```\n",
        "Запустіть функцію на списках наведених нижче. Для останнього списку має виводитись помилка (exception) або повідомлення про те, що довжина списку має бути як мінімум 2."
      ]
    },
    {
      "cell_type": "code",
      "execution_count": null,
      "id": "530c7eb0",
      "metadata": {
        "ExecuteTime": {
          "end_time": "2023-02-16T17:04:38.117972Z",
          "start_time": "2023-02-16T17:04:38.112979Z"
        },
        "id": "530c7eb0"
      },
      "outputs": [],
      "source": [
        "list1 = ['Budapest', 'Rome', 'Istanbul', 'Sydney', 'Kyiv']\n",
        "list2 = ['USA', 'UK', 'Ukraine']\n",
        "list3 = ['apples', 'oranges']\n",
        "list4 = ['Titan']"
      ]
    },
    {
      "cell_type": "code",
      "execution_count": null,
      "id": "e376d538",
      "metadata": {
        "id": "e376d538"
      },
      "outputs": [],
      "source": []
    },
    {
      "cell_type": "markdown",
      "id": "5093dbef",
      "metadata": {
        "id": "5093dbef"
      },
      "source": [
        "7.Уявіть, що Ви створюєте пригодницьку гру і використовуєте для зберігання предметів гравця словник, у якому ключі - це назви предметів, значення - кількість одиниць кожної із речей. Наприклад, словник може виглядати так: things = {'ключ': 3, 'булава': 1, 'монета': 24, 'ніж': 1, 'горішки': 10, 'бронежелет': 0}. Створіть фукнцію, яка виводить повідомлення про усі речі гравця у такому вигляді:\n",
        "\n",
        "```\n",
        "У гравця є:\n",
        "3 ключ\n",
        "1 булава\n",
        "24 монета\n",
        "1 ніж\n",
        "10 горішки\n",
        "0 бронежелет\n",
        "Загальна кількість речей: 39\n",
        "```\n",
        "\n",
        "Викличіть фукнцію для наступних гравців:"
      ]
    },
    {
      "cell_type": "code",
      "execution_count": null,
      "id": "f77ec586",
      "metadata": {
        "ExecuteTime": {
          "end_time": "2023-02-16T17:29:01.280430Z",
          "start_time": "2023-02-16T17:29:01.236841Z"
        },
        "id": "f77ec586"
      },
      "outputs": [],
      "source": [
        "player_1 = {'ключ': 3, 'булава': 1, 'монета': 24, 'ніж': 1, 'горішки': 10, 'бронежелет': 0}\n",
        "player_2 = {'ключ': 0, 'булава': 2, 'монета': 4, 'ніж': 3, 'горішки': 4, 'бронежелет': 1}\n",
        "player_3 = {'ключ': 0, 'булава': 0, 'монета': 30, 'ніж': 0, 'горішки': 2, 'бронежелет': 2}"
      ]
    },
    {
      "cell_type": "code",
      "execution_count": null,
      "id": "94d669f9",
      "metadata": {
        "id": "94d669f9"
      },
      "outputs": [],
      "source": []
    }
  ],
  "metadata": {
    "kernelspec": {
      "display_name": "Python 3 (ipykernel)",
      "language": "python",
      "name": "python3"
    },
    "language_info": {
      "codemirror_mode": {
        "name": "ipython",
        "version": 3
      },
      "file_extension": ".py",
      "mimetype": "text/x-python",
      "name": "python",
      "nbconvert_exporter": "python",
      "pygments_lexer": "ipython3",
      "version": "3.10.4"
    },
    "toc": {
      "base_numbering": 1,
      "nav_menu": {},
      "number_sections": true,
      "sideBar": true,
      "skip_h1_title": false,
      "title_cell": "Table of Contents",
      "title_sidebar": "Contents",
      "toc_cell": false,
      "toc_position": {},
      "toc_section_display": true,
      "toc_window_display": false
    },
    "colab": {
      "provenance": []
    }
  },
  "nbformat": 4,
  "nbformat_minor": 5
}