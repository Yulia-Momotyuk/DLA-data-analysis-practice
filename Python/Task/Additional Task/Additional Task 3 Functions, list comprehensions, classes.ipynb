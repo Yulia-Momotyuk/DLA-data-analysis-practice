{
 "cells": [
  {
   "cell_type": "markdown",
   "id": "1846cdd5",
   "metadata": {
    "ExecuteTime": {
     "end_time": "2023-06-16T11:08:23.474987Z",
     "start_time": "2023-06-16T11:08:23.466341Z"
    },
    "id": "1846cdd5"
   },
   "source": [
    "В цьому наборі завдань попрацюємо з фукнціями, класами та list comprehensions.\n",
    "Нагадую синтаксис list comprehension\n",
    "- з умовою if:\n",
    "```\n",
    "newlist = [expression for item in iterable if condition == True]\n",
    "```\n",
    "\n",
    "- з умовою if...else:\n",
    "```\n",
    "newlist = [expression if condition == True else second_expression for item in iterable ]\n",
    "```"
   ]
  },
  {
   "cell_type": "markdown",
   "id": "306cbd4e",
   "metadata": {
    "ExecuteTime": {
     "end_time": "2023-06-15T10:01:54.759901Z",
     "start_time": "2023-06-15T10:01:54.754516Z"
    },
    "id": "306cbd4e"
   },
   "source": [
    "1.Задана функція `strange_func`.\n",
    "Запустіть цю функцію на обчислення всіх елементів зі списку `input_list`. Результат обчислень запишіть у `output_list` та виведіть `output_list` на екран.\n",
    "\n",
    "Реалізуйте прохід всіх елементів списку `input_list` через цикл та через `list comprehension` - двома способами окремо."
   ]
  },
  {
   "cell_type": "code",
   "execution_count": 1,
   "id": "b5bab760",
   "metadata": {
    "ExecuteTime": {
     "end_time": "2023-06-15T10:08:21.217301Z",
     "start_time": "2023-06-15T10:08:21.213956Z"
    },
    "execution": {
     "iopub.execute_input": "2025-06-30T08:51:13.912920Z",
     "iopub.status.busy": "2025-06-30T08:51:13.912920Z",
     "iopub.status.idle": "2025-06-30T08:51:13.928544Z",
     "shell.execute_reply": "2025-06-30T08:51:13.928544Z",
     "shell.execute_reply.started": "2025-06-30T08:51:13.912920Z"
    },
    "id": "b5bab760"
   },
   "outputs": [],
   "source": [
    "def strange_func(number: int) -> str:\n",
    "    if number < 0:\n",
    "        return \"слон\"\n",
    "    else:\n",
    "        return \"жираф\""
   ]
  },
  {
   "cell_type": "code",
   "execution_count": 2,
   "id": "61d82a3e",
   "metadata": {
    "ExecuteTime": {
     "end_time": "2023-06-15T10:11:23.708950Z",
     "start_time": "2023-06-15T10:11:23.703596Z"
    },
    "execution": {
     "iopub.execute_input": "2025-06-30T08:51:15.631969Z",
     "iopub.status.busy": "2025-06-30T08:51:15.631969Z",
     "iopub.status.idle": "2025-06-30T08:51:15.663206Z",
     "shell.execute_reply": "2025-06-30T08:51:15.663206Z",
     "shell.execute_reply.started": "2025-06-30T08:51:15.631969Z"
    },
    "id": "61d82a3e"
   },
   "outputs": [],
   "source": [
    "input_list = [14, -48, 26, 33, 50, 36, 47, -3, 32, -6, -39, -1, 14, -35, 31, -28, 32, 4, 33, 11, -7, 43, -5, 17, -33, -37, 45, -27, -29, 14]"
   ]
  },
  {
   "cell_type": "code",
   "execution_count": 8,
   "id": "8eb67fab",
   "metadata": {
    "execution": {
     "iopub.execute_input": "2025-06-30T08:56:09.741037Z",
     "iopub.status.busy": "2025-06-30T08:56:09.741037Z",
     "iopub.status.idle": "2025-06-30T08:56:09.772278Z",
     "shell.execute_reply": "2025-06-30T08:56:09.772278Z",
     "shell.execute_reply.started": "2025-06-30T08:56:09.741037Z"
    },
    "id": "8eb67fab"
   },
   "outputs": [
    {
     "name": "stdout",
     "output_type": "stream",
     "text": [
      "['жираф', 'слон', 'жираф', 'жираф', 'жираф', 'жираф', 'жираф', 'слон', 'жираф', 'слон', 'слон', 'слон', 'жираф', 'слон', 'жираф', 'слон', 'жираф', 'жираф', 'жираф', 'жираф', 'слон', 'жираф', 'слон', 'жираф', 'слон', 'слон', 'жираф', 'слон', 'слон', 'жираф']\n"
     ]
    }
   ],
   "source": [
    "output_list = []\n",
    "for num in input_list:\n",
    "  output_list.append(strange_func(num))\n",
    "print(output_list)"
   ]
  },
  {
   "cell_type": "code",
   "execution_count": 36,
   "id": "c3921bf1-c949-410e-9785-4ae036ab4129",
   "metadata": {
    "execution": {
     "iopub.execute_input": "2025-06-30T09:17:46.976967Z",
     "iopub.status.busy": "2025-06-30T09:17:46.976967Z",
     "iopub.status.idle": "2025-06-30T09:17:47.008205Z",
     "shell.execute_reply": "2025-06-30T09:17:47.008205Z",
     "shell.execute_reply.started": "2025-06-30T09:17:46.976967Z"
    }
   },
   "outputs": [
    {
     "name": "stdout",
     "output_type": "stream",
     "text": [
      "['жираф', 'жираф', 'жираф', 'жираф', 'жираф', 'жираф', 'жираф', 'жираф', 'жираф', 'жираф', 'жираф', 'жираф', 'жираф', 'жираф', 'жираф', 'жираф', 'жираф', 'жираф', 'жираф', 'жираф', 'жираф', 'жираф', 'жираф', 'жираф', 'жираф', 'жираф', 'жираф', 'жираф', 'жираф', 'жираф', 'жираф', 'жираф', 'жираф', 'жираф']\n"
     ]
    }
   ],
   "source": [
    "output_list_lc = [strange_func(num) for num in input_list]\n",
    "print(output_list_lc)"
   ]
  },
  {
   "cell_type": "markdown",
   "id": "39a81ffe",
   "metadata": {
    "ExecuteTime": {
     "end_time": "2023-06-15T10:11:44.344785Z",
     "start_time": "2023-06-15T10:11:44.338699Z"
    },
    "id": "39a81ffe"
   },
   "source": [
    "Очікуваний результат: ```['жираф', 'слон', 'жираф', 'жираф', 'жираф', 'жираф', 'жираф', 'слон', 'жираф', 'слон', 'слон', 'слон', 'жираф', 'слон', 'жираф', 'слон', 'жираф', 'жираф', 'жираф', 'жираф', 'слон', 'жираф', 'слон', 'жираф', 'слон', 'слон', 'жираф', 'слон', 'слон', 'жираф']```"
   ]
  },
  {
   "cell_type": "markdown",
   "id": "cd421b5b",
   "metadata": {
    "id": "cd421b5b"
   },
   "source": [
    "2.Напишіть функцію `custom_func`, яка приймає на вхід число, перевіряє, чи воно є цілочислельного типу, і якщо так, то перевіряє число на парність:\n",
    "- якщо парне - вертає це число в степені 3,\n",
    "- а якщо непарне - це число мінус 10.  \n",
    "\n",
    "Якщо ж число на вході не цілочисельного типу, функція вертає 0.  \n",
    "\n",
    "Запустіть цю функцію на обчислення всіх чисел зі списку `input_list`. Результат обчислень запишіть у `output_list` та виведіть `output_list` на екран.\n",
    "\n",
    "Реалізуйте прохід всіх чисел списку `input_list` через цикл та через `list comprehension` - двома способами окремо."
   ]
  },
  {
   "cell_type": "code",
   "execution_count": 19,
   "id": "c9ad467a-ae73-450d-94f1-82bed7319068",
   "metadata": {
    "execution": {
     "iopub.execute_input": "2025-06-30T09:13:04.548311Z",
     "iopub.status.busy": "2025-06-30T09:13:04.548311Z",
     "iopub.status.idle": "2025-06-30T09:13:04.579561Z",
     "shell.execute_reply": "2025-06-30T09:13:04.579561Z",
     "shell.execute_reply.started": "2025-06-30T09:13:04.548311Z"
    }
   },
   "outputs": [],
   "source": [
    "def custom_func(number):\n",
    "  if not isinstance(number, int):\n",
    "    return 0\n",
    "  elif number % 2 == 0:\n",
    "    return number**3\n",
    "  else:\n",
    "     return number-10"
   ]
  },
  {
   "cell_type": "code",
   "execution_count": 20,
   "id": "384b00e0",
   "metadata": {
    "ExecuteTime": {
     "end_time": "2023-06-15T10:10:34.758320Z",
     "start_time": "2023-06-15T10:10:34.754358Z"
    },
    "execution": {
     "iopub.execute_input": "2025-06-30T09:13:06.798687Z",
     "iopub.status.busy": "2025-06-30T09:13:06.798687Z",
     "iopub.status.idle": "2025-06-30T09:13:06.829938Z",
     "shell.execute_reply": "2025-06-30T09:13:06.829938Z",
     "shell.execute_reply.started": "2025-06-30T09:13:06.798687Z"
    },
    "id": "384b00e0"
   },
   "outputs": [],
   "source": [
    "input_list = [36, 11.1, 91, 93, 26, 12.3213, 69, 50, 58, 22, 77, 18, 24, 55, 11, 76, 10.111, 39, 49, 94, 34, 40, 13, 111.111, 26, 44, 11, 34, 30, 39, 84, 37, 16, 1]"
   ]
  },
  {
   "cell_type": "code",
   "execution_count": 21,
   "id": "a9220273",
   "metadata": {
    "execution": {
     "iopub.execute_input": "2025-06-30T09:13:07.486225Z",
     "iopub.status.busy": "2025-06-30T09:13:07.486225Z",
     "iopub.status.idle": "2025-06-30T09:13:07.517468Z",
     "shell.execute_reply": "2025-06-30T09:13:07.517468Z",
     "shell.execute_reply.started": "2025-06-30T09:13:07.486225Z"
    },
    "id": "a9220273"
   },
   "outputs": [
    {
     "name": "stdout",
     "output_type": "stream",
     "text": [
      "[46656, 0, 81, 83, 17576, 0, 59, 125000, 195112, 10648, 67, 5832, 13824, 45, 1, 438976, 0, 29, 39, 830584, 39304, 64000, 3, 0, 17576, 85184, 1, 39304, 27000, 29, 592704, 27, 4096, -9]\n"
     ]
    }
   ],
   "source": [
    "output_list = []\n",
    "for num in input_list:\n",
    "  output_list.append(custom_func(num))\n",
    "print(output_list)"
   ]
  },
  {
   "cell_type": "markdown",
   "id": "e2723875",
   "metadata": {
    "ExecuteTime": {
     "end_time": "2023-06-15T10:04:46.583145Z",
     "start_time": "2023-06-15T10:04:46.577899Z"
    },
    "id": "e2723875"
   },
   "source": [
    "Очікуваний результат:\n",
    "```[46656, 0, 81, 83, 17576, 0, 59, 125000, 195112, 10648, 67, 5832, 13824, 45, 1, 438976, 0, 29, 39, 830584, 39304, 64000, 3, 0, 17576, 85184, 1, 39304, 27000, 29, 592704, 27, 4096, -9]```"
   ]
  },
  {
   "cell_type": "code",
   "execution_count": 35,
   "id": "246b6d9c-f5ba-4920-aa7a-186039fe0ffa",
   "metadata": {
    "execution": {
     "iopub.execute_input": "2025-06-30T09:17:34.131130Z",
     "iopub.status.busy": "2025-06-30T09:17:34.115510Z",
     "iopub.status.idle": "2025-06-30T09:17:34.162385Z",
     "shell.execute_reply": "2025-06-30T09:17:34.162385Z",
     "shell.execute_reply.started": "2025-06-30T09:17:34.131130Z"
    }
   },
   "outputs": [
    {
     "name": "stdout",
     "output_type": "stream",
     "text": [
      "[46656, 0, 81, 83, 17576, 0, 59, 125000, 195112, 10648, 67, 5832, 13824, 45, 1, 438976, 0, 29, 39, 830584, 39304, 64000, 3, 0, 17576, 85184, 1, 39304, 27000, 29, 592704, 27, 4096, -9]\n"
     ]
    }
   ],
   "source": [
    "output_list = [custom_func(num) for num in input_list]\n",
    "print(output_list)"
   ]
  },
  {
   "cell_type": "markdown",
   "id": "12db4919",
   "metadata": {
    "ExecuteTime": {
     "end_time": "2023-06-15T10:06:39.204299Z",
     "start_time": "2023-06-15T10:06:39.198232Z"
    },
    "id": "12db4919"
   },
   "source": [
    "Аби програмно порівняти ваш результат за очікуваним - використайте код нижче:"
   ]
  },
  {
   "cell_type": "code",
   "execution_count": 23,
   "id": "84c13de2",
   "metadata": {
    "ExecuteTime": {
     "end_time": "2023-06-15T10:06:16.137271Z",
     "start_time": "2023-06-15T10:06:16.131305Z"
    },
    "execution": {
     "iopub.execute_input": "2025-06-30T09:13:25.161778Z",
     "iopub.status.busy": "2025-06-30T09:13:25.161778Z",
     "iopub.status.idle": "2025-06-30T09:13:25.208641Z",
     "shell.execute_reply": "2025-06-30T09:13:25.208641Z",
     "shell.execute_reply.started": "2025-06-30T09:13:25.161778Z"
    },
    "id": "84c13de2"
   },
   "outputs": [
    {
     "data": {
      "text/plain": [
       "True"
      ]
     },
     "execution_count": 23,
     "metadata": {},
     "output_type": "execute_result"
    }
   ],
   "source": [
    "output_list == [46656, 0, 81, 83, 17576, 0, 59, 125000, 195112, 10648, 67, 5832, 13824, 45, 1, 438976, 0, 29, 39, 830584, 39304, 64000, 3, 0, 17576, 85184, 1, 39304, 27000, 29, 592704, 27, 4096, -9]"
   ]
  },
  {
   "cell_type": "markdown",
   "id": "602e8fd8",
   "metadata": {
    "ExecuteTime": {
     "end_time": "2023-06-15T09:50:40.693543Z",
     "start_time": "2023-06-15T09:50:40.680059Z"
    },
    "id": "602e8fd8"
   },
   "source": [
    "3.Напишіть функцію, яка отримує список чисел і повертає інший список із квадратами чисел, які діляться на 2 із вихідного списку. Наприклад, якщо на вході список [1,2,3,4], то на виході буде список [4,16].\n",
    "\n",
    "Запустіть функцію на вхідних списках `numbers_1`, `numbers_2`, `numbers_3` та виведіть результат роботи фукнції на екран."
   ]
  },
  {
   "cell_type": "code",
   "execution_count": 24,
   "id": "e0e330fa-0a86-43cf-894d-d8cab582de56",
   "metadata": {
    "execution": {
     "iopub.execute_input": "2025-06-30T09:14:08.372538Z",
     "iopub.status.busy": "2025-06-30T09:14:08.356924Z",
     "iopub.status.idle": "2025-06-30T09:14:08.388161Z",
     "shell.execute_reply": "2025-06-30T09:14:08.388161Z",
     "shell.execute_reply.started": "2025-06-30T09:14:08.372538Z"
    }
   },
   "outputs": [],
   "source": [
    "def squared_num(numbers):\n",
    "  squared_num_list = []\n",
    "  for number in numbers:\n",
    "    if number % 2 == 0:\n",
    "      squared_num_list.append(number**2)\n",
    "  return squared_num_list"
   ]
  },
  {
   "cell_type": "code",
   "execution_count": 25,
   "id": "4ed96c9d",
   "metadata": {
    "ExecuteTime": {
     "end_time": "2023-06-15T10:17:52.021673Z",
     "start_time": "2023-06-15T10:17:52.016216Z"
    },
    "execution": {
     "iopub.execute_input": "2025-06-30T09:14:10.560397Z",
     "iopub.status.busy": "2025-06-30T09:14:10.544768Z",
     "iopub.status.idle": "2025-06-30T09:14:10.576021Z",
     "shell.execute_reply": "2025-06-30T09:14:10.576021Z",
     "shell.execute_reply.started": "2025-06-30T09:14:10.560397Z"
    },
    "id": "4ed96c9d"
   },
   "outputs": [],
   "source": [
    "numbers_1 = [1, 2, 3, 4, 5, 6, 7, 8, 9, 10]\n",
    "numbers_2 = [-18, 35, 50, 2, -39, 8, -39, -15, 14, -42]\n",
    "numbers_3 = [-3.1, 1.11, 3.48, 4.48, 4.68, -1.59, -1.8, 1.76, 4.7, 2.0]"
   ]
  },
  {
   "cell_type": "code",
   "execution_count": 26,
   "id": "d8b1a5d7",
   "metadata": {
    "execution": {
     "iopub.execute_input": "2025-06-30T09:14:18.389964Z",
     "iopub.status.busy": "2025-06-30T09:14:18.389964Z",
     "iopub.status.idle": "2025-06-30T09:14:18.421225Z",
     "shell.execute_reply": "2025-06-30T09:14:18.421225Z",
     "shell.execute_reply.started": "2025-06-30T09:14:18.389964Z"
    },
    "id": "d8b1a5d7"
   },
   "outputs": [
    {
     "name": "stdout",
     "output_type": "stream",
     "text": [
      "[4, 16, 36, 64, 100]\n",
      "[324, 2500, 4, 64, 196, 1764]\n",
      "[4.0]\n"
     ]
    }
   ],
   "source": [
    "numbers = [numbers_1, numbers_2, numbers_3]\n",
    "for n in numbers:\n",
    "  result = squared_num(n)\n",
    "  print(result)"
   ]
  },
  {
   "cell_type": "markdown",
   "id": "96fead27",
   "metadata": {
    "ExecuteTime": {
     "end_time": "2023-06-15T10:18:22.220464Z",
     "start_time": "2023-06-15T10:18:22.215833Z"
    },
    "id": "96fead27"
   },
   "source": [
    "Очікуваний результат:\n",
    "\n",
    "```\n",
    "    [4, 16, 36, 64, 100]\n",
    "    [324, 2500, 4, 64, 196, 1764]\n",
    "    [4.0]\n",
    "```"
   ]
  },
  {
   "cell_type": "code",
   "execution_count": 33,
   "id": "18941887-3882-454c-8b4a-0e45f999c2b8",
   "metadata": {
    "execution": {
     "iopub.execute_input": "2025-06-30T09:17:08.563981Z",
     "iopub.status.busy": "2025-06-30T09:17:08.563981Z",
     "iopub.status.idle": "2025-06-30T09:17:08.595231Z",
     "shell.execute_reply": "2025-06-30T09:17:08.595231Z",
     "shell.execute_reply.started": "2025-06-30T09:17:08.563981Z"
    }
   },
   "outputs": [
    {
     "data": {
      "text/plain": [
       "[[4, 16, 36, 64, 100], [324, 2500, 4, 64, 196, 1764], [4.0]]"
      ]
     },
     "execution_count": 33,
     "metadata": {},
     "output_type": "execute_result"
    }
   ],
   "source": [
    "numbers = [numbers_1, numbers_2, numbers_3]\n",
    "\n",
    "result = [squared_num(n) for n in numbers]\n",
    "result"
   ]
  },
  {
   "cell_type": "markdown",
   "id": "93830499",
   "metadata": {
    "id": "93830499"
   },
   "source": [
    "4. Наданий список фруктів. Запишіть у новий список лише ті фрукти, які містять у своїй назві літеру `a`. Виведіть фінальний список на екран.\n",
    "\n",
    "Виконайте завдання із використанням циклу, та через `list comprehension` - двома способами окремо.  \n",
    "Увага! В цьому завданні логіку перевірки чи містить рядок літеру можна винести у функцію. Але якщо не виносити, то реалізація з `list comprehension` буде цікавішою :)"
   ]
  },
  {
   "cell_type": "code",
   "execution_count": 30,
   "id": "9d52d585",
   "metadata": {
    "ExecuteTime": {
     "end_time": "2023-06-16T11:04:38.519497Z",
     "start_time": "2023-06-16T11:04:38.489031Z"
    },
    "execution": {
     "iopub.execute_input": "2025-06-30T09:16:30.435667Z",
     "iopub.status.busy": "2025-06-30T09:16:30.435667Z",
     "iopub.status.idle": "2025-06-30T09:16:30.466923Z",
     "shell.execute_reply": "2025-06-30T09:16:30.466923Z",
     "shell.execute_reply.started": "2025-06-30T09:16:30.435667Z"
    },
    "id": "9d52d585"
   },
   "outputs": [],
   "source": [
    "fruits = [\"apple\", \"banana\", \"cherry\", \"date\", \"elderberry\", \"fig\", \"grape\", \"honeydew\", \"indian prune\", \"jackfruit\", \"kiwi\", \"lemon\", \"mango\", \"nectarine\", \"orange\", \"pineapple\", \"quince\", \"raspberry\", \"strawberry\", \"tangerine\", \"ugli fruit\", \"victoria plum\", \"watermelon\", \"xigua\", \"yellow passionfruit\", \"zucchini\"]"
   ]
  },
  {
   "cell_type": "code",
   "execution_count": 31,
   "id": "2f1ac815-4a75-412f-90b4-d0349c1d4f57",
   "metadata": {
    "execution": {
     "iopub.execute_input": "2025-06-30T09:16:33.764483Z",
     "iopub.status.busy": "2025-06-30T09:16:33.764483Z",
     "iopub.status.idle": "2025-06-30T09:16:33.795746Z",
     "shell.execute_reply": "2025-06-30T09:16:33.795746Z",
     "shell.execute_reply.started": "2025-06-30T09:16:33.764483Z"
    },
    "scrolled": true
   },
   "outputs": [
    {
     "name": "stdout",
     "output_type": "stream",
     "text": [
      "['apple', 'banana', 'banana', 'banana', 'date', 'grape', 'indian prune', 'jackfruit', 'mango', 'nectarine', 'orange', 'pineapple', 'raspberry', 'strawberry', 'tangerine', 'victoria plum', 'watermelon', 'xigua', 'yellow passionfruit']\n"
     ]
    }
   ],
   "source": [
    " fruits_list = []\n",
    " for word in fruits:\n",
    "  for letter in word:\n",
    "    if letter  == \"a\":\n",
    "      fruits_list.append(word)\n",
    "print(fruits_list)"
   ]
  },
  {
   "cell_type": "code",
   "execution_count": 37,
   "id": "995f066d-a764-42da-918a-debfe30d2586",
   "metadata": {
    "execution": {
     "iopub.execute_input": "2025-06-30T09:18:04.154291Z",
     "iopub.status.busy": "2025-06-30T09:18:04.154291Z",
     "iopub.status.idle": "2025-06-30T09:18:04.185540Z",
     "shell.execute_reply": "2025-06-30T09:18:04.185540Z",
     "shell.execute_reply.started": "2025-06-30T09:18:04.154291Z"
    }
   },
   "outputs": [
    {
     "name": "stdout",
     "output_type": "stream",
     "text": [
      "['apple', 'banana', 'date', 'grape', 'indian prune', 'jackfruit', 'mango', 'nectarine', 'orange', 'pineapple', 'raspberry', 'strawberry', 'tangerine', 'victoria plum', 'watermelon', 'xigua', 'yellow passionfruit']\n"
     ]
    }
   ],
   "source": [
    "fruits_list = [word for word in fruits if \"a\" in word]\n",
    "print(fruits_list)"
   ]
  },
  {
   "cell_type": "markdown",
   "id": "6eba3ce5",
   "metadata": {
    "ExecuteTime": {
     "end_time": "2023-06-16T11:12:20.070099Z",
     "start_time": "2023-06-16T11:12:20.065489Z"
    },
    "id": "6eba3ce5"
   },
   "source": [
    "5.Заданий список чисел. Створіть новий список на основі заданоо за наступною логікою\n",
    "- якщо число більше або дорівнює 45, то в новий список додаємо це число + 5. Наприклад, для числа 50 вихідного списку, в новий ми додамо число 55\n",
    "- інакше - це число - 4. Наприклад, для числа 30 вихідного списку, в новий ми додамо число 26  \n",
    "\n",
    "Виведіть отриманий список на екран.\n",
    "\n",
    "Реалізуйте логіку через цикл та через `list comprehension` - двома способами окремо."
   ]
  },
  {
   "cell_type": "code",
   "execution_count": 38,
   "id": "64c30414",
   "metadata": {
    "ExecuteTime": {
     "end_time": "2023-06-16T11:13:01.047506Z",
     "start_time": "2023-06-16T11:13:01.044731Z"
    },
    "execution": {
     "iopub.execute_input": "2025-06-30T09:18:12.361602Z",
     "iopub.status.busy": "2025-06-30T09:18:12.361602Z",
     "iopub.status.idle": "2025-06-30T09:18:12.392847Z",
     "shell.execute_reply": "2025-06-30T09:18:12.392847Z",
     "shell.execute_reply.started": "2025-06-30T09:18:12.361602Z"
    },
    "id": "64c30414"
   },
   "outputs": [],
   "source": [
    "input_list = [22, 13, 45, 50, 98, 69, 43, 44, 1]"
   ]
  },
  {
   "cell_type": "code",
   "execution_count": 42,
   "id": "0e3a8bcd",
   "metadata": {
    "execution": {
     "iopub.execute_input": "2025-06-30T09:19:02.901587Z",
     "iopub.status.busy": "2025-06-30T09:19:02.901587Z",
     "iopub.status.idle": "2025-06-30T09:19:02.932833Z",
     "shell.execute_reply": "2025-06-30T09:19:02.932833Z",
     "shell.execute_reply.started": "2025-06-30T09:19:02.901587Z"
    },
    "id": "0e3a8bcd"
   },
   "outputs": [
    {
     "name": "stdout",
     "output_type": "stream",
     "text": [
      "[18, 9, 50, 55, 103, 74, 39, 40, -3]\n"
     ]
    }
   ],
   "source": [
    "output_list =[]\n",
    "for num in input_list:\n",
    "  if num >= 45:\n",
    "    output_list.append(num + 5)\n",
    "  else:\n",
    "    output_list.append(num - 4)\n",
    "print(output_list)"
   ]
  },
  {
   "cell_type": "code",
   "execution_count": 40,
   "id": "78bba21d-f0f7-43ce-b022-a4d89441f4fa",
   "metadata": {
    "execution": {
     "iopub.execute_input": "2025-06-30T09:18:47.992996Z",
     "iopub.status.busy": "2025-06-30T09:18:47.992996Z",
     "iopub.status.idle": "2025-06-30T09:18:48.024255Z",
     "shell.execute_reply": "2025-06-30T09:18:48.024255Z",
     "shell.execute_reply.started": "2025-06-30T09:18:47.992996Z"
    }
   },
   "outputs": [
    {
     "data": {
      "text/plain": [
       "[18, 9, 50, 55, 103, 74, 39, 40, -3]"
      ]
     },
     "execution_count": 40,
     "metadata": {},
     "output_type": "execute_result"
    }
   ],
   "source": [
    "output_list = [num + 5 if num >= 45 else num -4 for num in input_list]\n",
    "output_list"
   ]
  },
  {
   "cell_type": "markdown",
   "id": "3788acf1",
   "metadata": {
    "id": "3788acf1"
   },
   "source": [
    "6.Заданий список `input_list` з пропущеними значеннями. Напишіть логіку, за якою ми будемо створювати новий список такий, що якщо значення None, то ми замість нього вставляємо 0, інакше - елемент вихідного спику.\n",
    "Тобто зі списку [1, None, 2] за цією логікою ми отримаємо [1, 0, 2] у новому списку.\n",
    "\n",
    "Виведіть отриманий список на екран.\n",
    "\n",
    "Реалізуйте логіку через цикл та через list comprehension - двома способами окремо."
   ]
  },
  {
   "cell_type": "code",
   "execution_count": 43,
   "id": "7124a4c2",
   "metadata": {
    "ExecuteTime": {
     "end_time": "2023-06-16T11:17:59.925084Z",
     "start_time": "2023-06-16T11:17:59.922391Z"
    },
    "execution": {
     "iopub.execute_input": "2025-06-30T09:19:07.074304Z",
     "iopub.status.busy": "2025-06-30T09:19:07.074304Z",
     "iopub.status.idle": "2025-06-30T09:19:07.105546Z",
     "shell.execute_reply": "2025-06-30T09:19:07.105546Z",
     "shell.execute_reply.started": "2025-06-30T09:19:07.074304Z"
    },
    "id": "7124a4c2"
   },
   "outputs": [],
   "source": [
    "input_list = [22, None, 13, None, None, 45, 50, 98, None, 69, 43, 44, 1, None]"
   ]
  },
  {
   "cell_type": "code",
   "execution_count": 44,
   "id": "e7212a8c",
   "metadata": {
    "execution": {
     "iopub.execute_input": "2025-06-30T09:19:30.531146Z",
     "iopub.status.busy": "2025-06-30T09:19:30.531146Z",
     "iopub.status.idle": "2025-06-30T09:19:30.562398Z",
     "shell.execute_reply": "2025-06-30T09:19:30.562398Z",
     "shell.execute_reply.started": "2025-06-30T09:19:30.531146Z"
    },
    "id": "e7212a8c"
   },
   "outputs": [
    {
     "name": "stdout",
     "output_type": "stream",
     "text": [
      "[22, 0, 13, 0, 0, 45, 50, 98, 0, 69, 43, 44, 1, 0]\n"
     ]
    }
   ],
   "source": [
    "new_list =[]\n",
    "for item in input_list:\n",
    "  if item is None:\n",
    "    new_list.append(0)\n",
    "  else:\n",
    "    new_list.append(item)\n",
    "print(new_list)"
   ]
  },
  {
   "cell_type": "code",
   "execution_count": 45,
   "id": "ab76296c-f7e3-4079-a64c-9f284a4c6194",
   "metadata": {
    "execution": {
     "iopub.execute_input": "2025-06-30T09:19:45.096205Z",
     "iopub.status.busy": "2025-06-30T09:19:45.096205Z",
     "iopub.status.idle": "2025-06-30T09:19:45.127461Z",
     "shell.execute_reply": "2025-06-30T09:19:45.127461Z",
     "shell.execute_reply.started": "2025-06-30T09:19:45.096205Z"
    }
   },
   "outputs": [
    {
     "data": {
      "text/plain": [
       "[22, 0, 13, 0, 0, 45, 50, 98, 0, 69, 43, 44, 1, 0]"
      ]
     },
     "execution_count": 45,
     "metadata": {},
     "output_type": "execute_result"
    }
   ],
   "source": [
    "new_list = [0 if item is None else item for item in new_list]\n",
    "new_list"
   ]
  },
  {
   "cell_type": "markdown",
   "id": "6d491849",
   "metadata": {
    "id": "6d491849"
   },
   "source": [
    "7.Заданий клас, який описує коло та вміє рахувати площу кола по заданому радіусу. Створіть два кола з радіусами 5 і 11. Обчислість з допомогою функціоналу класу площі цих двох кіл і виведіть результати на екран."
   ]
  },
  {
   "cell_type": "code",
   "execution_count": 46,
   "id": "fa5b47ac",
   "metadata": {
    "ExecuteTime": {
     "end_time": "2023-06-16T11:36:33.504851Z",
     "start_time": "2023-06-16T11:36:33.498537Z"
    },
    "execution": {
     "iopub.execute_input": "2025-06-30T09:19:49.956343Z",
     "iopub.status.busy": "2025-06-30T09:19:49.940722Z",
     "iopub.status.idle": "2025-06-30T09:19:49.971968Z",
     "shell.execute_reply": "2025-06-30T09:19:49.971968Z",
     "shell.execute_reply.started": "2025-06-30T09:19:49.956343Z"
    },
    "id": "fa5b47ac"
   },
   "outputs": [],
   "source": [
    "import math\n",
    "\n",
    "class Circle:\n",
    "    def __init__(self, radius):\n",
    "        self.radius = radius\n",
    "\n",
    "    def calculate_area(self):\n",
    "        return round(math.pi * self.radius ** 2, 2)"
   ]
  },
  {
   "cell_type": "code",
   "execution_count": 47,
   "id": "2bcdc94a",
   "metadata": {
    "execution": {
     "iopub.execute_input": "2025-06-30T09:20:16.117180Z",
     "iopub.status.busy": "2025-06-30T09:20:16.117180Z",
     "iopub.status.idle": "2025-06-30T09:20:16.148429Z",
     "shell.execute_reply": "2025-06-30T09:20:16.148429Z",
     "shell.execute_reply.started": "2025-06-30T09:20:16.117180Z"
    },
    "id": "2bcdc94a"
   },
   "outputs": [
    {
     "name": "stdout",
     "output_type": "stream",
     "text": [
      "78.54\n",
      "380.13\n"
     ]
    }
   ],
   "source": [
    "circle_1 = Circle(5)\n",
    "circle_2 = Circle(11)\n",
    "print(circle_1.calculate_area())\n",
    "print(circle_2.calculate_area())"
   ]
  },
  {
   "cell_type": "markdown",
   "id": "430f698b",
   "metadata": {
    "id": "430f698b"
   },
   "source": [
    "8.Додайте в клас `Circle`, визначений в попередньому завданні, метод для обчислення периметра `calculate_perimeter` з округленням до двох цифр після коми. Периметр кола рахується за формулою `C = 2 · π · r`, де π - це значення числа Пі, яке ми можемо отримати з math.pi, а r - радіус кола. Спопіюйте визначення класу і додайте в нього новий метод. Після цього створіть нові кола з радіусами 5 і 11 та обчисліть їх периметри.   \n",
    "Увага: нам треба додати новий метод, але ми нічого не видаляємо :)"
   ]
  },
  {
   "cell_type": "code",
   "execution_count": 48,
   "id": "731544fd",
   "metadata": {
    "execution": {
     "iopub.execute_input": "2025-06-30T09:20:39.267079Z",
     "iopub.status.busy": "2025-06-30T09:20:39.251464Z",
     "iopub.status.idle": "2025-06-30T09:20:39.298328Z",
     "shell.execute_reply": "2025-06-30T09:20:39.298328Z",
     "shell.execute_reply.started": "2025-06-30T09:20:39.267079Z"
    },
    "id": "731544fd"
   },
   "outputs": [],
   "source": [
    "import math\n",
    "\n",
    "class Circle:\n",
    "    def __init__(self, radius):\n",
    "        self.radius = radius\n",
    "\n",
    "    def calculate_area(self):\n",
    "        return round(math.pi * self.radius ** 2, 2)\n",
    "\n",
    "    def calculate_perimeter(self):\n",
    "      return round(2 * math.pi * self.radius, 2)"
   ]
  },
  {
   "cell_type": "code",
   "execution_count": 51,
   "id": "381aabbe-ce02-4679-ac6e-0b6e7741b5e7",
   "metadata": {
    "execution": {
     "iopub.execute_input": "2025-06-30T09:21:13.906970Z",
     "iopub.status.busy": "2025-06-30T09:21:13.906970Z",
     "iopub.status.idle": "2025-06-30T09:21:13.938226Z",
     "shell.execute_reply": "2025-06-30T09:21:13.938226Z",
     "shell.execute_reply.started": "2025-06-30T09:21:13.906970Z"
    }
   },
   "outputs": [
    {
     "name": "stdout",
     "output_type": "stream",
     "text": [
      "31.42\n",
      "69.12\n"
     ]
    }
   ],
   "source": [
    "circle_1 = Circle(5)\n",
    "circle_2 = Circle(11)\n",
    "print(circle_1.calculate_perimeter())\n",
    "print(circle_2.calculate_perimeter())"
   ]
  },
  {
   "cell_type": "markdown",
   "id": "4a39e47f",
   "metadata": {
    "id": "4a39e47f"
   },
   "source": [
    "9.Створіть клас під назвою `Student`, який має два атрибути: `name` (ім'я) та `grade` (оцінка). Оцінкою може були літера - з набору  [\"F\", \"D\", \"C\", \"B\", \"A\"], де \"А\" - найвища оцінка, \"F\" - найнижча.  Клас повинен мати наступні функціональні можливості:\n",
    "\n",
    "1. Метод `__init__`, який ініціалізує `name` та `grade`.\n",
    "2. Метод `display_student()`, який відображає ім'я та оцінку студента з допомогою `print`. Форматування - на Ваш розсуд.\n",
    "3. Метод `upgrade_grade()`, який підвищує оцінку на 1 рівень (наприклад, з \"B\" на \"A\"), якщо вона вже не \"A\". Якщо вже \"А\", то необхідно вивести повідомлення про те, що оцінка не може бути підвищена, оскільки вона вже і так найвища.\n",
    "\n",
    "Після створення класу, створіть 2 екземпляри `Student` з вигаданими імʼями та оцінками, і перевірте роботу методів `display_student()` та `upgrade_grade()`. Виведіть результат перевірки на екран."
   ]
  },
  {
   "cell_type": "code",
   "execution_count": 52,
   "id": "51ef0571",
   "metadata": {
    "execution": {
     "iopub.execute_input": "2025-06-30T09:21:36.645255Z",
     "iopub.status.busy": "2025-06-30T09:21:36.645255Z",
     "iopub.status.idle": "2025-06-30T09:21:36.676492Z",
     "shell.execute_reply": "2025-06-30T09:21:36.676492Z",
     "shell.execute_reply.started": "2025-06-30T09:21:36.645255Z"
    },
    "id": "51ef0571"
   },
   "outputs": [],
   "source": [
    "class Student:\n",
    "  grades = [\"F\", \"D\", \"C\", \"B\", \"A\"]\n",
    "\n",
    "  def __init__(self, name, grade):\n",
    "    self.name = name\n",
    "    self.grade = grade\n",
    "\n",
    "  def display_student(self):\n",
    "    print(f\"Ім'я студента - {self.name} \\nОцінка студента - {self.grade}\")\n",
    "\n",
    "  def upgrade_grade(self):\n",
    "    grades = [\"F\", \"D\", \"C\", \"B\", \"A\"]\n",
    "    if self.grade == \"A\":\n",
    "      print(\"Оцінка не може бути підвищена, оскільки вона вже і так найвища.\")\n",
    "    else:\n",
    "      current_grade = grades.index(self.grade)\n",
    "      new_grade = grades[current_grade + 1]\n",
    "      print(\"Нова оцінка -\", new_grade)"
   ]
  },
  {
   "cell_type": "code",
   "execution_count": 54,
   "id": "4f2db3a5-d5e3-480d-8492-a0092f71f618",
   "metadata": {
    "execution": {
     "iopub.execute_input": "2025-06-30T09:23:35.495019Z",
     "iopub.status.busy": "2025-06-30T09:23:35.495019Z",
     "iopub.status.idle": "2025-06-30T09:23:35.526268Z",
     "shell.execute_reply": "2025-06-30T09:23:35.526268Z",
     "shell.execute_reply.started": "2025-06-30T09:23:35.495019Z"
    }
   },
   "outputs": [
    {
     "name": "stdout",
     "output_type": "stream",
     "text": [
      "Ім'я студента - Макарчук \n",
      "Оцінка студента - B\n",
      "Нова оцінка - A\n",
      "Ім'я студента - Хомич \n",
      "Оцінка студента - A\n",
      "Оцінка не може бути підвищена, оскільки вона вже і так найвища.\n"
     ]
    }
   ],
   "source": [
    "student1 = Student(\"Макарчук\", \"B\")\n",
    "student2 = Student(\"Хомич\", \"A\")\n",
    "\n",
    "student1.display_student()\n",
    "student1.upgrade_grade()\n",
    "student2.display_student()\n",
    "student2.upgrade_grade()"
   ]
  },
  {
   "cell_type": "markdown",
   "id": "fbf61911",
   "metadata": {
    "id": "fbf61911"
   },
   "source": [
    "10.Створіть клас з назвою `GraduateStudent`, який є нащадком класу `Student` з попереднього завдання.\n",
    "Клас `GraduateStudent` повинен мати додатковий атрибут `thesis_title` (назва дисертації - тип str). Тобто цей атрибут має зʼявитись при ініціації екземпляру класу.  \n",
    "Він також повинен мати метод `display_thesis()`, який виводить назву дисертації.\n",
    "\n",
    "Після створення класу, створіть екземпляр `GraduateStudent` і перевірте роботу методів `display_student()`, `upgrade_grade()`, та `display_thesis()`. Виведіть результат перевірки на екран.\n",
    "\n"
   ]
  },
  {
   "cell_type": "code",
   "execution_count": 55,
   "id": "aafe9159",
   "metadata": {
    "execution": {
     "iopub.execute_input": "2025-06-30T09:24:36.056645Z",
     "iopub.status.busy": "2025-06-30T09:24:36.056645Z",
     "iopub.status.idle": "2025-06-30T09:24:36.088055Z",
     "shell.execute_reply": "2025-06-30T09:24:36.088055Z",
     "shell.execute_reply.started": "2025-06-30T09:24:36.056645Z"
    },
    "id": "aafe9159"
   },
   "outputs": [],
   "source": [
    "class GraduateStudent(Student):\n",
    "  def __init__(self, name, grade, thesis_title):\n",
    "    super().__init__(name, grade)\n",
    "    self.thesis_title = thesis_title\n",
    "\n",
    "  def display_thesis(self):\n",
    "    print(self.thesis_title)"
   ]
  },
  {
   "cell_type": "code",
   "execution_count": 57,
   "id": "e0fcd94a-00f2-4b5a-8b17-86a71a3111d6",
   "metadata": {
    "execution": {
     "iopub.execute_input": "2025-06-30T09:26:45.444229Z",
     "iopub.status.busy": "2025-06-30T09:26:45.444229Z",
     "iopub.status.idle": "2025-06-30T09:26:45.475479Z",
     "shell.execute_reply": "2025-06-30T09:26:45.475479Z",
     "shell.execute_reply.started": "2025-06-30T09:26:45.444229Z"
    }
   },
   "outputs": [
    {
     "name": "stdout",
     "output_type": "stream",
     "text": [
      "Ім'я студента - Мельник \n",
      "Оцінка студента - C\n",
      "Нова оцінка - B\n",
      "Облік заробітньої плати на підприємстві\n"
     ]
    }
   ],
   "source": [
    "student3 = GraduateStudent(\"Мельник\", \"C\", \"Облік заробітньої плати на підприємстві\")\n",
    "\n",
    "student3.display_student()\n",
    "student3.upgrade_grade()\n",
    "student3.display_thesis()"
   ]
  },
  {
   "cell_type": "code",
   "execution_count": null,
   "id": "4a296a34-1832-426e-ac6a-56415d4d6cbd",
   "metadata": {},
   "outputs": [],
   "source": []
  }
 ],
 "metadata": {
  "colab": {
   "provenance": []
  },
  "kernelspec": {
   "display_name": "Python [conda env:base] *",
   "language": "python",
   "name": "conda-base-py"
  },
  "language_info": {
   "codemirror_mode": {
    "name": "ipython",
    "version": 3
   },
   "file_extension": ".py",
   "mimetype": "text/x-python",
   "name": "python",
   "nbconvert_exporter": "python",
   "pygments_lexer": "ipython3",
   "version": "3.12.7"
  },
  "toc": {
   "base_numbering": 1,
   "nav_menu": {},
   "number_sections": true,
   "sideBar": true,
   "skip_h1_title": false,
   "title_cell": "Table of Contents",
   "title_sidebar": "Contents",
   "toc_cell": false,
   "toc_position": {},
   "toc_section_display": true,
   "toc_window_display": false
  }
 },
 "nbformat": 4,
 "nbformat_minor": 5
}
