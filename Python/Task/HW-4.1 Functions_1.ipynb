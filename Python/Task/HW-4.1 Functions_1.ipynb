{
 "cells": [
  {
   "cell_type": "markdown",
   "metadata": {
    "id": "QtHabST6Ez_n"
   },
   "source": [
    "# Домашнє завдання до теми \"Functions\""
   ]
  },
  {
   "cell_type": "markdown",
   "metadata": {
    "id": "6pg_NzFq5_kO"
   },
   "source": [
    "1. Напишіть фукнцію `print_message`, яка виводить на екран \"Я програмую на Python💪\" і викличіть цю фукнцію 5 разів (найкраще це зробити в циклі).\n",
    "\n",
    "  **Увага**: фукнція має робити чітко лише зазначений функціонал. Наявність додаткового функціоналу і аргументів, які не потрібні для виконання безпосередньо завдання, буде вважатись помилкою."
   ]
  },
  {
   "cell_type": "code",
   "execution_count": 5,
   "metadata": {
    "execution": {
     "iopub.execute_input": "2025-06-13T08:37:00.039274Z",
     "iopub.status.busy": "2025-06-13T08:37:00.023650Z",
     "iopub.status.idle": "2025-06-13T08:37:00.054898Z",
     "shell.execute_reply": "2025-06-13T08:37:00.054898Z",
     "shell.execute_reply.started": "2025-06-13T08:37:00.039274Z"
    },
    "id": "RbXsfwI_D8ql"
   },
   "outputs": [
    {
     "name": "stdout",
     "output_type": "stream",
     "text": [
      "Я програмую на Python💪\n",
      "Я програмую на Python💪\n",
      "Я програмую на Python💪\n",
      "Я програмую на Python💪\n",
      "Я програмую на Python💪\n"
     ]
    }
   ],
   "source": [
    "# Method 1\n",
    "def print_message():\n",
    "    print(\"Я програмую на Python💪\")\n",
    "    \n",
    "for i in range (5):\n",
    "    print_message()"
   ]
  },
  {
   "cell_type": "code",
   "execution_count": 6,
   "metadata": {
    "execution": {
     "iopub.execute_input": "2025-06-13T08:37:02.227267Z",
     "iopub.status.busy": "2025-06-13T08:37:02.227267Z",
     "iopub.status.idle": "2025-06-13T08:37:02.258523Z",
     "shell.execute_reply": "2025-06-13T08:37:02.258523Z",
     "shell.execute_reply.started": "2025-06-13T08:37:02.227267Z"
    }
   },
   "outputs": [
    {
     "name": "stdout",
     "output_type": "stream",
     "text": [
      "Я програмую на Python💪\n",
      "Я програмую на Python💪\n",
      "Я програмую на Python💪\n",
      "Я програмую на Python💪\n",
      "Я програмую на Python💪\n"
     ]
    }
   ],
   "source": [
    "# Method 2\n",
    "def print_message():\n",
    "  i = 1\n",
    "  while i <= 5:\n",
    "    print(\"Я програмую на Python💪\")\n",
    "    i += 1\n",
    "print_message()"
   ]
  },
  {
   "cell_type": "markdown",
   "metadata": {
    "id": "oyRpWRXWBL9N"
   },
   "source": [
    "2. Напишіть функцію `calculation` яка приймає на вхід 4 аргументи типу int - `a`, `b`, `c`, `d` і вертає результат обчислення такої формули: $ (a + b - c) * d $.\n",
    "\n",
    "  Викличте функцію на наступному наборі аргументів і виведіть результат на екран:\n",
    "  ```\n",
    "  a = 16\n",
    "  b = 4\n",
    "  c = 9\n",
    "  d = 3\n",
    "  ```"
   ]
  },
  {
   "cell_type": "code",
   "execution_count": 2,
   "metadata": {
    "execution": {
     "iopub.execute_input": "2025-06-20T15:43:32.742475Z",
     "iopub.status.busy": "2025-06-20T15:43:32.742475Z",
     "iopub.status.idle": "2025-06-20T15:43:32.789339Z",
     "shell.execute_reply": "2025-06-20T15:43:32.789339Z",
     "shell.execute_reply.started": "2025-06-20T15:43:32.742475Z"
    },
    "id": "Ggt2tx6kD-LS"
   },
   "outputs": [
    {
     "name": "stdout",
     "output_type": "stream",
     "text": [
      "Result: 33\n"
     ]
    }
   ],
   "source": [
    "def calculation(a: int, b: int, c: int, d: int)->int:\n",
    "  return((a + b - c) * d)\n",
    "\n",
    "result = calculation(16, 4, 9, 3)\n",
    "print (f\"Result: {result}\")"
   ]
  },
  {
   "cell_type": "markdown",
   "metadata": {
    "id": "5hf1CbllDU_t"
   },
   "source": [
    "3. Напишіть функцію, яка додає до аргумента 15 і вертає результат додавання. Викличте функцію, передаючи в якості аргументів кожну з наступних змінних по черзі, і виведіть кожного разу результат на екран.\n",
    "```\n",
    "x = 9\n",
    "y = 14\n",
    "z = -19\n",
    "```"
   ]
  },
  {
   "cell_type": "code",
   "execution_count": 5,
   "metadata": {
    "execution": {
     "iopub.execute_input": "2025-06-20T15:50:21.123863Z",
     "iopub.status.busy": "2025-06-20T15:50:21.123863Z",
     "iopub.status.idle": "2025-06-20T15:50:21.170728Z",
     "shell.execute_reply": "2025-06-20T15:50:21.170728Z",
     "shell.execute_reply.started": "2025-06-20T15:50:21.123863Z"
    },
    "id": "GvEs_nUtD_Cd"
   },
   "outputs": [
    {
     "name": "stdout",
     "output_type": "stream",
     "text": [
      "Result: 24\n",
      "Result: 29\n",
      "Result: -4\n"
     ]
    }
   ],
   "source": [
    "def add_15(num):\n",
    "  \"\"\"\n",
    "    Adds 15 to the imput number.\n",
    "\n",
    "    Args:\n",
    "        number (int): The number to which 15 will be added\n",
    "    Returns:\n",
    "        int: The result of x + 15\n",
    "    \"\"\"\n",
    "  return num + 15\n",
    "\n",
    "x, y, z = 9, 14, -19\n",
    "y = 14\n",
    "z = -19\n",
    "\n",
    "print(f\"Result: {add_15(x)}\")\n",
    "print(f\"Result: {add_15(y)}\")\n",
    "print(f\"Result: {add_15(z)}\")"
   ]
  },
  {
   "cell_type": "markdown",
   "metadata": {
    "id": "bUuVBhie53uK"
   },
   "source": [
    "4. Напишіть функцію `multipy_numbers`, яка приймає два числа як аргументи і повертає їх добуток.\n",
    "\n",
    "  Викличіть функцію `multipy_numbers` на парах чисел\n",
    "- 10 і 2\n",
    "- 7 і 8\n",
    "- 1024 і 999.\n",
    "  \n",
    "  Виведіть результат кожного виклику.\n",
    "  При виконанні цього завдання з використанням циклу - отримаєте 2х балів за нього :)"
   ]
  },
  {
   "cell_type": "code",
   "execution_count": 7,
   "metadata": {
    "execution": {
     "iopub.execute_input": "2025-06-20T15:54:09.616555Z",
     "iopub.status.busy": "2025-06-20T15:54:09.616555Z",
     "iopub.status.idle": "2025-06-20T15:54:09.647811Z",
     "shell.execute_reply": "2025-06-20T15:54:09.647811Z",
     "shell.execute_reply.started": "2025-06-20T15:54:09.616555Z"
    },
    "id": "cDqrgZ4YEAKj"
   },
   "outputs": [
    {
     "name": "stdout",
     "output_type": "stream",
     "text": [
      "Result: 20\n",
      "Result: 56\n",
      "Result: 1022976\n"
     ]
    }
   ],
   "source": [
    "# Method 1\n",
    "def multiply_numbers(x, y):\n",
    "    \"\"\"\n",
    "    Multiplies two numbers and returns the result.\n",
    "    \n",
    "    Args:\n",
    "        x (int or float): The first number\n",
    "        y (int or float):: The second number\n",
    "    Returns:\n",
    "        int or float: The result of multiplying x by y\n",
    "    \"\"\"\n",
    "    return x * y\n",
    "\n",
    "# Pairs of numbers\n",
    "pairs = [(10, 2), (7, 8), (1024, 999)]\n",
    "\n",
    "for x, y in pairs:\n",
    "    print(f\"Result: {multiply_numbers(x, y)}\")"
   ]
  },
  {
   "cell_type": "code",
   "execution_count": 8,
   "metadata": {
    "execution": {
     "iopub.execute_input": "2025-06-20T15:54:54.520781Z",
     "iopub.status.busy": "2025-06-20T15:54:54.520781Z",
     "iopub.status.idle": "2025-06-20T15:54:54.567662Z",
     "shell.execute_reply": "2025-06-20T15:54:54.567662Z",
     "shell.execute_reply.started": "2025-06-20T15:54:54.520781Z"
    }
   },
   "outputs": [
    {
     "data": {
      "text/plain": [
       "20"
      ]
     },
     "metadata": {},
     "output_type": "display_data"
    },
    {
     "data": {
      "text/plain": [
       "56"
      ]
     },
     "metadata": {},
     "output_type": "display_data"
    },
    {
     "data": {
      "text/plain": [
       "1022976"
      ]
     },
     "metadata": {},
     "output_type": "display_data"
    }
   ],
   "source": [
    "# Method 2\n",
    "def multiply_numbers(x, y):\n",
    "  return x * y\n",
    "\n",
    "display((multiply_numbers(10, 2)), multiply_numbers(7, 8), multiply_numbers(1024, 999))"
   ]
  },
  {
   "cell_type": "markdown",
   "metadata": {
    "id": "I03t46k27dDZ"
   },
   "source": [
    "5. **Ділення з перевіркою типів.**  \n",
    "\n",
    "  1. Напишіть функцію `int_division` яка приймає на вхід два аргументи типу `int` - `a` і `b`, і виконує ділення першого аргумента на другий: `a/b`. При цьому функція перед діленням перевіряє, чи другий аргумент не дорівнює 0. Якщо другий аргумент не 0, фукнція вертає результат ділення, інакше - замість виконання ділення, вертає повідомлення на екран \"Не можу виконати ділення на 0\".\n",
    "\n",
    "    Якщо типи, надані у функцію, не `int` - функція виводить повідомлення \"Не працюю з такими типами даних.\".\n",
    "\n",
    "  2. Запустіть функцію на наступних парах чисел:\n",
    "- 12 і 6\n",
    "- 20 і 0\n",
    "- 112 і 10\n",
    "- 99 і 0\n",
    "- 11 i 1.1\n",
    "\n",
    "    і виведіть на екран повідомлення \"Результат роботи функції: \" - і далі те, що повернула функція.\n",
    "\n",
    "  3. Дайте відповідь на питання: \"Чому в деяких випадках функція повернула None?\""
   ]
  },
  {
   "cell_type": "code",
   "execution_count": 9,
   "metadata": {
    "execution": {
     "iopub.execute_input": "2025-06-20T15:59:12.876852Z",
     "iopub.status.busy": "2025-06-20T15:59:12.876852Z",
     "iopub.status.idle": "2025-06-20T15:59:12.923726Z",
     "shell.execute_reply": "2025-06-20T15:59:12.923726Z",
     "shell.execute_reply.started": "2025-06-20T15:59:12.876852Z"
    },
    "id": "1-EQhxrAEEAb"
   },
   "outputs": [
    {
     "name": "stdout",
     "output_type": "stream",
     "text": [
      "Function result: 2.0\n",
      "Function result: Cannot perform division by zero.\n",
      "Function result: 11.2\n",
      "Function result: Cannot perform division by zero.\n",
      "Function result: I don't work with these types of data.\n"
     ]
    }
   ],
   "source": [
    "# Method 1\n",
    "def int_division(a, b):\n",
    "    \"\"\"\n",
    "    Performs integer division of a by b with input validation.\n",
    "\n",
    "    Args:\n",
    "        a (int): The dividend.\n",
    "        b (int): The divisor.\n",
    "    Returns:\n",
    "        float or None: The result of the division if valid, otherwise prints an error message and returns None.\n",
    "    \"\"\"\n",
    "    if not isinstance(a, int) or not isinstance(b, int):\n",
    "        return \"I don't work with these types of data.\"\n",
    "    if b == 0:\n",
    "        return \"Cannot perform division by zero.\"\n",
    "    return a / b\n",
    "\n",
    "# Pairs for testing\n",
    "test_cases = [(12, 6), (20, 0), (112, 10), (99, 0), (11, 1.1)]\n",
    "\n",
    "for a, b in test_cases:\n",
    "    result = int_division(a, b)\n",
    "    print(f\"Function result: {result}\")"
   ]
  },
  {
   "cell_type": "markdown",
   "metadata": {},
   "source": [
    "The function returns None in the following cases:\n",
    "    1. A non-int type is used — for example, 1.1 — because we check isinstance(..., int). If the argument is not of type int, the function prints a message and does not return a value.\n",
    "    2. The second argument (the divisor) is 0 — division by zero is not allowed, so the function prints an error message and does not return a value. In both cases, since there is no return statement with a value, the function returns None by default."
   ]
  }
 ],
 "metadata": {
  "colab": {
   "provenance": []
  },
  "kernelspec": {
   "display_name": "Python [conda env:base] *",
   "language": "python",
   "name": "conda-base-py"
  },
  "language_info": {
   "codemirror_mode": {
    "name": "ipython",
    "version": 3
   },
   "file_extension": ".py",
   "mimetype": "text/x-python",
   "name": "python",
   "nbconvert_exporter": "python",
   "pygments_lexer": "ipython3",
   "version": "3.12.7"
  }
 },
 "nbformat": 4,
 "nbformat_minor": 4
}
