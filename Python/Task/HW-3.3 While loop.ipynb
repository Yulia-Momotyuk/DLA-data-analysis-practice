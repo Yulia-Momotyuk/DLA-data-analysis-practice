{
 "cells": [
  {
   "cell_type": "markdown",
   "metadata": {
    "id": "15XCoYr0awZ6"
   },
   "source": [
    "**Домашнє завдання до теми \"Цикл while\"**"
   ]
  },
  {
   "cell_type": "markdown",
   "metadata": {
    "id": "xgCDxF5YhQSa"
   },
   "source": [
    "1. **Лічильник до заданого числа.**\n",
    "   Завдання:\n",
    "     - Створіть цикл `while`, щоб він лічив від 1 до заданого числа в змінній `limit` (включно).\n",
    "     - Виведіть кожне число, яке проходить лічильник, на екран.\n",
    "     - В кінці виведіть повідомлення \"Кінець розрахунку!\".\n"
   ]
  },
  {
   "cell_type": "code",
   "execution_count": 1,
   "metadata": {
    "execution": {
     "iopub.execute_input": "2025-06-12T10:07:58.309430Z",
     "iopub.status.busy": "2025-06-12T10:07:58.309430Z",
     "iopub.status.idle": "2025-06-12T10:07:58.325056Z",
     "shell.execute_reply": "2025-06-12T10:07:58.325056Z",
     "shell.execute_reply.started": "2025-06-12T10:07:58.309430Z"
    },
    "id": "wwSqYFCmiJTt"
   },
   "outputs": [],
   "source": [
    "limit = 9  # Задане число"
   ]
  },
  {
   "cell_type": "code",
   "execution_count": 6,
   "metadata": {
    "execution": {
     "iopub.execute_input": "2025-06-12T10:11:38.977924Z",
     "iopub.status.busy": "2025-06-12T10:11:38.977924Z",
     "iopub.status.idle": "2025-06-12T10:11:39.009175Z",
     "shell.execute_reply": "2025-06-12T10:11:39.009175Z",
     "shell.execute_reply.started": "2025-06-12T10:11:38.977924Z"
    }
   },
   "outputs": [
    {
     "name": "stdout",
     "output_type": "stream",
     "text": [
      "1\n",
      "2\n",
      "3\n",
      "4\n",
      "5\n",
      "6\n",
      "7\n",
      "8\n",
      "9\n",
      "The end of calculation!\n"
     ]
    }
   ],
   "source": [
    "counter = 1\n",
    "while counter <= limit:\n",
    "    print(counter)\n",
    "    counter += 1\n",
    "print(\"The end of calculation!\")   "
   ]
  },
  {
   "cell_type": "markdown",
   "metadata": {
    "id": "DlqunQnphZ9s"
   },
   "source": [
    "2. **Пошук першого парного числа.** Завдання:\n",
    "     - Створіть цикл `while`, щоб знайти перше парне число після заданого числа `start`.\n",
    "     - Знайдіть та виведіть перше парне число.\n"
   ]
  },
  {
   "cell_type": "code",
   "execution_count": 24,
   "metadata": {
    "execution": {
     "iopub.execute_input": "2025-06-12T10:17:18.574489Z",
     "iopub.status.busy": "2025-06-12T10:17:18.574489Z",
     "iopub.status.idle": "2025-06-12T10:17:18.605742Z",
     "shell.execute_reply": "2025-06-12T10:17:18.605742Z",
     "shell.execute_reply.started": "2025-06-12T10:17:18.574489Z"
    },
    "id": "3CC3-gNJiW6X"
   },
   "outputs": [],
   "source": [
    "start = 7  # Задане число"
   ]
  },
  {
   "cell_type": "code",
   "execution_count": 26,
   "metadata": {
    "execution": {
     "iopub.execute_input": "2025-06-12T10:18:07.428486Z",
     "iopub.status.busy": "2025-06-12T10:18:07.428486Z",
     "iopub.status.idle": "2025-06-12T10:18:07.459737Z",
     "shell.execute_reply": "2025-06-12T10:18:07.459737Z",
     "shell.execute_reply.started": "2025-06-12T10:18:07.428486Z"
    },
    "id": "5M8Ly9_Lj4-t"
   },
   "outputs": [
    {
     "name": "stdout",
     "output_type": "stream",
     "text": [
      "The first even number after 7 is 8\n"
     ]
    }
   ],
   "source": [
    "while True:\n",
    "    start += 1\n",
    "    if start % 2 == 0:\n",
    "     print(f\"The first even number after 7 is {start}\")\n",
    "     break"
   ]
  },
  {
   "cell_type": "markdown",
   "metadata": {
    "id": "OlhKezZYiQJ2"
   },
   "source": [
    "\n",
    "3. **Обчислення факторіалу.**   \n",
    "  Факторіал числа - це добуток всіх натуральних чисел від 1 до цього числа включно. Наприклад, факторіал числа 5 (позначається як 5!) дорівнює `1 * 2 * 3 * 4 * 5 = 120`.\n",
    "\n",
    "  Завдання:  \n",
    "      - Обчисліть факторіал заданого числа, використовуючи цикл `while`.  \n",
    "      - Задайте деяке число для обчислення факторіалу у змінній `num`.  \n",
    "      - Виведіть обчислений факторіал на екран.  \n"
   ]
  },
  {
   "cell_type": "code",
   "execution_count": 31,
   "metadata": {
    "execution": {
     "iopub.execute_input": "2025-06-12T10:21:03.183174Z",
     "iopub.status.busy": "2025-06-12T10:21:03.183174Z",
     "iopub.status.idle": "2025-06-12T10:21:03.214423Z",
     "shell.execute_reply": "2025-06-12T10:21:03.214423Z",
     "shell.execute_reply.started": "2025-06-12T10:21:03.183174Z"
    },
    "id": "s0JKm0Wtj5s9"
   },
   "outputs": [
    {
     "name": "stdout",
     "output_type": "stream",
     "text": [
      "The factorial of 7 is 5040\n"
     ]
    }
   ],
   "source": [
    "num = 7\n",
    "factorial = 1\n",
    "counter = factorial\n",
    "\n",
    "while counter <= num:\n",
    "  factorial *= counter\n",
    "  counter += 1\n",
    "print(f\"The factorial of {num} is {factorial}\")"
   ]
  },
  {
   "cell_type": "code",
   "execution_count": null,
   "metadata": {},
   "outputs": [],
   "source": []
  }
 ],
 "metadata": {
  "colab": {
   "provenance": []
  },
  "kernelspec": {
   "display_name": "Python [conda env:base] *",
   "language": "python",
   "name": "conda-base-py"
  },
  "language_info": {
   "codemirror_mode": {
    "name": "ipython",
    "version": 3
   },
   "file_extension": ".py",
   "mimetype": "text/x-python",
   "name": "python",
   "nbconvert_exporter": "python",
   "pygments_lexer": "ipython3",
   "version": "3.12.7"
  }
 },
 "nbformat": 4,
 "nbformat_minor": 4
}
