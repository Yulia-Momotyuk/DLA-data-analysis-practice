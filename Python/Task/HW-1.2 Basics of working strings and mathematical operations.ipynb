{
 "cells": [
  {
   "cell_type": "markdown",
   "metadata": {
    "id": "9ngpqNFm8w1a"
   },
   "source": [
    "# Домашнє завдання до теми \"Основи роботи з рядками та математичні операції\""
   ]
  },
  {
   "cell_type": "markdown",
   "metadata": {
    "id": "DEkQSeSyTum-"
   },
   "source": [
    "1. Створіть змінні `a`, `b`, `c` та `d`, задайте їм значення відповідно 101, 210, 111, 402, та обчисліть з допомогою Python наступний вираз:  $$ \\frac{(a+b) * c}{d} $$\n",
    "\n",
    "**Важливо**: тут ми маємо обчислити значення саме з використанням змінних, а не просто чисел, як би ми робили у калькуряторі. Змінні потрібні аби за бажання ми могли змінити їх значення та не переписувати код обчислення виразу, бо він буде працювати для різних значень змінних."
   ]
  },
  {
   "cell_type": "code",
   "execution_count": 1,
   "metadata": {
    "execution": {
     "iopub.execute_input": "2025-06-20T15:10:23.034463Z",
     "iopub.status.busy": "2025-06-20T15:10:23.034463Z",
     "iopub.status.idle": "2025-06-20T15:10:23.065707Z",
     "shell.execute_reply": "2025-06-20T15:10:23.065707Z",
     "shell.execute_reply.started": "2025-06-20T15:10:23.034463Z"
    },
    "id": "u1ICQq5L3eKH"
   },
   "outputs": [
    {
     "data": {
      "text/plain": [
       "85.8731343283582"
      ]
     },
     "execution_count": 1,
     "metadata": {},
     "output_type": "execute_result"
    }
   ],
   "source": [
    "a, b, c, d = 101, 210, 111, 402\n",
    "\n",
    "(a + b) * c / d"
   ]
  },
  {
   "cell_type": "markdown",
   "metadata": {
    "id": "FnBVPt7G3bcR"
   },
   "source": [
    "Очікувана відповідь: 85.8731343283582"
   ]
  },
  {
   "cell_type": "markdown",
   "metadata": {
    "id": "HI3eEYZRT4Cn"
   },
   "source": [
    "2. Якою буде остача від ділення числа 11283 на 89? Обчисліть з допомогою Python."
   ]
  },
  {
   "cell_type": "code",
   "execution_count": 2,
   "metadata": {
    "execution": {
     "iopub.execute_input": "2025-06-20T15:10:35.824211Z",
     "iopub.status.busy": "2025-06-20T15:10:35.824211Z",
     "iopub.status.idle": "2025-06-20T15:10:35.839833Z",
     "shell.execute_reply": "2025-06-20T15:10:35.839833Z",
     "shell.execute_reply.started": "2025-06-20T15:10:35.824211Z"
    },
    "id": "ejZc3ng_TpgY"
   },
   "outputs": [],
   "source": [
    "a, b  = 11283, 89"
   ]
  },
  {
   "cell_type": "code",
   "execution_count": 3,
   "metadata": {
    "execution": {
     "iopub.execute_input": "2025-06-20T15:10:37.730733Z",
     "iopub.status.busy": "2025-06-20T15:10:37.730733Z",
     "iopub.status.idle": "2025-06-20T15:10:37.761998Z",
     "shell.execute_reply": "2025-06-20T15:10:37.761998Z",
     "shell.execute_reply.started": "2025-06-20T15:10:37.730733Z"
    }
   },
   "outputs": [
    {
     "data": {
      "text/plain": [
       "69"
      ]
     },
     "execution_count": 3,
     "metadata": {},
     "output_type": "execute_result"
    }
   ],
   "source": [
    "a % b"
   ]
  },
  {
   "cell_type": "markdown",
   "metadata": {
    "id": "RO02CqdqT9oG"
   },
   "source": [
    "3. Скільки цілих разів поміститься число 89 в 11283? (Або що те саме: який буде результат цілочисельного ділення 11283 на 89?)"
   ]
  },
  {
   "cell_type": "code",
   "execution_count": 4,
   "metadata": {
    "execution": {
     "iopub.execute_input": "2025-06-20T15:10:41.684401Z",
     "iopub.status.busy": "2025-06-20T15:10:41.684401Z",
     "iopub.status.idle": "2025-06-20T15:10:41.715667Z",
     "shell.execute_reply": "2025-06-20T15:10:41.715667Z",
     "shell.execute_reply.started": "2025-06-20T15:10:41.684401Z"
    },
    "id": "KEUb9lO5T_PI"
   },
   "outputs": [
    {
     "data": {
      "text/plain": [
       "126"
      ]
     },
     "execution_count": 4,
     "metadata": {},
     "output_type": "execute_result"
    }
   ],
   "source": [
    "a // b"
   ]
  },
  {
   "cell_type": "markdown",
   "metadata": {
    "id": "5fnIPumiT_rt"
   },
   "source": [
    "4. Запишіть у змінну `name` ваше імʼя."
   ]
  },
  {
   "cell_type": "code",
   "execution_count": 5,
   "metadata": {
    "execution": {
     "iopub.execute_input": "2025-06-20T15:10:53.661618Z",
     "iopub.status.busy": "2025-06-20T15:10:53.661618Z",
     "iopub.status.idle": "2025-06-20T15:10:53.692881Z",
     "shell.execute_reply": "2025-06-20T15:10:53.692881Z",
     "shell.execute_reply.started": "2025-06-20T15:10:53.661618Z"
    },
    "id": "xP7Mbq45UFlV"
   },
   "outputs": [],
   "source": [
    "name = 'Yuliia'"
   ]
  },
  {
   "cell_type": "markdown",
   "metadata": {
    "id": "fR9TqY79UNDL"
   },
   "source": [
    "5. Запишіть у змінну `surname` ваше прізвище."
   ]
  },
  {
   "cell_type": "code",
   "execution_count": 6,
   "metadata": {
    "execution": {
     "iopub.execute_input": "2025-06-20T15:10:55.505756Z",
     "iopub.status.busy": "2025-06-20T15:10:55.490143Z",
     "iopub.status.idle": "2025-06-20T15:10:55.521381Z",
     "shell.execute_reply": "2025-06-20T15:10:55.521381Z",
     "shell.execute_reply.started": "2025-06-20T15:10:55.505756Z"
    },
    "id": "0qHjyMyvUOM1"
   },
   "outputs": [],
   "source": [
    "surname = 'Kononchuk'"
   ]
  },
  {
   "cell_type": "markdown",
   "metadata": {
    "id": "zqKncQLwUOxh"
   },
   "source": [
    "6. Сконкатенуйте імʼя та прізвище в одну фразу через пробіл. Запишіть результат у нову змінну `name_surname` та виведіть результат на екран.  "
   ]
  },
  {
   "cell_type": "code",
   "execution_count": 7,
   "metadata": {
    "execution": {
     "iopub.execute_input": "2025-06-20T15:10:56.630990Z",
     "iopub.status.busy": "2025-06-20T15:10:56.630990Z",
     "iopub.status.idle": "2025-06-20T15:10:56.662234Z",
     "shell.execute_reply": "2025-06-20T15:10:56.662234Z",
     "shell.execute_reply.started": "2025-06-20T15:10:56.630990Z"
    },
    "id": "8E-blvN-UTPg"
   },
   "outputs": [
    {
     "data": {
      "text/plain": [
       "'Yuliia Kononchuk'"
      ]
     },
     "execution_count": 7,
     "metadata": {},
     "output_type": "execute_result"
    }
   ],
   "source": [
    "name_surname = name + \" \" + surname\n",
    "name_surname"
   ]
  },
  {
   "cell_type": "markdown",
   "metadata": {
    "id": "_Unl7EXlUgYn"
   },
   "source": [
    "Очікувана відповідь (тільки з вашими даними): 'Hanna Pylieva'"
   ]
  },
  {
   "cell_type": "markdown",
   "metadata": {
    "id": "z-3FI0IrUT0U"
   },
   "source": [
    "7. Зробіть усі літери змінної `name_surname` заглавними використовуючи метод рядків в Python:"
   ]
  },
  {
   "cell_type": "code",
   "execution_count": 8,
   "metadata": {
    "execution": {
     "iopub.execute_input": "2025-06-20T15:11:00.303508Z",
     "iopub.status.busy": "2025-06-20T15:11:00.303508Z",
     "iopub.status.idle": "2025-06-20T15:11:00.334761Z",
     "shell.execute_reply": "2025-06-20T15:11:00.334761Z",
     "shell.execute_reply.started": "2025-06-20T15:11:00.303508Z"
    },
    "id": "9ahIwyT5UblY"
   },
   "outputs": [
    {
     "data": {
      "text/plain": [
       "'YULIIA KONONCHUK'"
      ]
     },
     "execution_count": 8,
     "metadata": {},
     "output_type": "execute_result"
    }
   ],
   "source": [
    "name_surname.upper()"
   ]
  },
  {
   "cell_type": "markdown",
   "metadata": {
    "id": "6PDcqfmdUcLo"
   },
   "source": [
    "Очікувана відповідь (тільки з вашими даними): 'HANNA PYLIEVA'"
   ]
  },
  {
   "cell_type": "markdown",
   "metadata": {
    "id": "qNl8KxeXUtnL"
   },
   "source": [
    "8. Виведіть третю літеру вашого `name_surname`. Тут уважно, треба саме третя літера. Згадайте, з якого значення починається індексування значень в Python."
   ]
  },
  {
   "cell_type": "code",
   "execution_count": 9,
   "metadata": {
    "execution": {
     "iopub.execute_input": "2025-06-20T15:11:05.882580Z",
     "iopub.status.busy": "2025-06-20T15:11:05.882580Z",
     "iopub.status.idle": "2025-06-20T15:11:05.913831Z",
     "shell.execute_reply": "2025-06-20T15:11:05.913831Z",
     "shell.execute_reply.started": "2025-06-20T15:11:05.882580Z"
    },
    "id": "Tp7stqAhUvJz"
   },
   "outputs": [
    {
     "data": {
      "text/plain": [
       "'l'"
      ]
     },
     "execution_count": 9,
     "metadata": {},
     "output_type": "execute_result"
    }
   ],
   "source": [
    "name_surname[2]"
   ]
  },
  {
   "cell_type": "markdown",
   "metadata": {
    "id": "GYWHqb3UUvqk"
   },
   "source": [
    "Очікувана відповідь (тільки з вашими даними): 'n'"
   ]
  },
  {
   "cell_type": "markdown",
   "metadata": {
    "id": "1f3cc1a7",
    "pycharm": {
     "name": "#%% md\n"
    }
   },
   "source": [
    "9. Виведіть першу та останню літеру вашого прізвища."
   ]
  },
  {
   "cell_type": "code",
   "execution_count": 14,
   "metadata": {
    "execution": {
     "iopub.execute_input": "2025-06-20T15:12:30.173587Z",
     "iopub.status.busy": "2025-06-20T15:12:30.173587Z",
     "iopub.status.idle": "2025-06-20T15:12:30.204838Z",
     "shell.execute_reply": "2025-06-20T15:12:30.204838Z",
     "shell.execute_reply.started": "2025-06-20T15:12:30.173587Z"
    },
    "id": "s1ZgN3xuUyB8"
   },
   "outputs": [
    {
     "name": "stdout",
     "output_type": "stream",
     "text": [
      "First letter is K\n",
      "Last letter is k\n"
     ]
    }
   ],
   "source": [
    "print(f\"First letter is {surname[0]}\")\n",
    "print(f\"Last letter is {surname[-1]}\")"
   ]
  },
  {
   "cell_type": "markdown",
   "metadata": {
    "id": "KjlFjjhHVAt2"
   },
   "source": [
    "Очікувана відповідь (тільки з вашими даними): ('P', 'a')"
   ]
  },
  {
   "cell_type": "markdown",
   "metadata": {
    "id": "UYLoho3DVMt2"
   },
   "source": [
    "10. Виведіть довжину вашого прізвища."
   ]
  },
  {
   "cell_type": "code",
   "execution_count": 15,
   "metadata": {
    "execution": {
     "iopub.execute_input": "2025-06-20T15:12:37.753103Z",
     "iopub.status.busy": "2025-06-20T15:12:37.753103Z",
     "iopub.status.idle": "2025-06-20T15:12:37.784348Z",
     "shell.execute_reply": "2025-06-20T15:12:37.784348Z",
     "shell.execute_reply.started": "2025-06-20T15:12:37.753103Z"
    },
    "id": "0TPJBh0LVA8q"
   },
   "outputs": [
    {
     "data": {
      "text/plain": [
       "9"
      ]
     },
     "execution_count": 15,
     "metadata": {},
     "output_type": "execute_result"
    }
   ],
   "source": [
    "len(surname)"
   ]
  },
  {
   "cell_type": "markdown",
   "metadata": {
    "id": "9FaxqvVgVRYW"
   },
   "source": [
    "Очікувана відповідь (тільки з вашими даними): 7\n"
   ]
  },
  {
   "cell_type": "markdown",
   "metadata": {
    "id": "JN2wxSlGVVAj"
   },
   "source": [
    "11. Виведіть кількість літер `a` у столиці Мадагаскару `Antananarivo`. Важливо врахувати всі літери, як великі, так і маленькі."
   ]
  },
  {
   "cell_type": "code",
   "execution_count": 16,
   "metadata": {
    "execution": {
     "iopub.execute_input": "2025-06-20T15:12:57.998155Z",
     "iopub.status.busy": "2025-06-20T15:12:57.998155Z",
     "iopub.status.idle": "2025-06-20T15:12:58.029413Z",
     "shell.execute_reply": "2025-06-20T15:12:58.029413Z",
     "shell.execute_reply.started": "2025-06-20T15:12:57.998155Z"
    },
    "id": "LCeHHz9bVUgL"
   },
   "outputs": [
    {
     "name": "stdout",
     "output_type": "stream",
     "text": [
      "The number of latters 'a' is 4\n"
     ]
    }
   ],
   "source": [
    "capital = 'Antananarivo'\n",
    "count_a = capital.lower().count ('a')\n",
    "print(f\"The number of latters 'a' is {(count_a)}\")"
   ]
  },
  {
   "cell_type": "markdown",
   "metadata": {
    "id": "Ux4SQiuSVo92"
   },
   "source": [
    "Очікувана відповідь: 4"
   ]
  },
  {
   "cell_type": "markdown",
   "metadata": {
    "id": "mwEs0xnmVtes"
   },
   "source": [
    "12. Створіть рядок `my_string` зі значенням: \"The quick brown fox jumps over the lazy dog!!!\".   \n",
    "Перевірте, чи починається рядок `my_string` з \"The\" і чи закінчується він \"dog!\". Виведіть результати на екран."
   ]
  },
  {
   "cell_type": "code",
   "execution_count": 17,
   "metadata": {
    "execution": {
     "iopub.execute_input": "2025-06-20T15:13:12.521130Z",
     "iopub.status.busy": "2025-06-20T15:13:12.521130Z",
     "iopub.status.idle": "2025-06-20T15:13:12.552381Z",
     "shell.execute_reply": "2025-06-20T15:13:12.552381Z",
     "shell.execute_reply.started": "2025-06-20T15:13:12.521130Z"
    },
    "id": "VlXDNpXcVs59"
   },
   "outputs": [
    {
     "name": "stdout",
     "output_type": "stream",
     "text": [
      "True\n",
      "False\n"
     ]
    }
   ],
   "source": [
    "my_string = \"The quick brown fox jumps over the lazy dog!!!\"\n",
    "print(my_string.startswith('The'))\n",
    "print(my_string.endswith('dog!'))"
   ]
  },
  {
   "cell_type": "markdown",
   "metadata": {
    "id": "Yc-UwtqvV_h0"
   },
   "source": [
    "13. Розділіть рядок `my_string` на список окремих слів, а потім з'єднайте всі слова через нижнє підкреслювання. Виведіть результат на екран."
   ]
  },
  {
   "cell_type": "code",
   "execution_count": 19,
   "metadata": {
    "execution": {
     "iopub.execute_input": "2025-06-20T15:13:30.718039Z",
     "iopub.status.busy": "2025-06-20T15:13:30.718039Z",
     "iopub.status.idle": "2025-06-20T15:13:30.749293Z",
     "shell.execute_reply": "2025-06-20T15:13:30.749293Z",
     "shell.execute_reply.started": "2025-06-20T15:13:30.718039Z"
    },
    "id": "m5I48Ii-WDSK"
   },
   "outputs": [
    {
     "name": "stdout",
     "output_type": "stream",
     "text": [
      "['The', 'quick', 'brown', 'fox', 'jumps', 'over', 'the', 'lazy', 'dog!!!']\n",
      "The_quick_brown_fox_jumps_over_the_lazy_dog!!!\n"
     ]
    }
   ],
   "source": [
    "my_string_s = my_string.split()\n",
    "print(my_string_s)\n",
    "print('_'.join(my_string_s))"
   ]
  },
  {
   "cell_type": "markdown",
   "metadata": {
    "id": "UqvD1_jIXRhx"
   },
   "source": [
    "Очікуваний результат: `The_quick_brown_fox_jumps_over_the_lazy_dog!!!`"
   ]
  }
 ],
 "metadata": {
  "colab": {
   "provenance": []
  },
  "kernelspec": {
   "display_name": "Python [conda env:base] *",
   "language": "python",
   "name": "conda-base-py"
  },
  "language_info": {
   "codemirror_mode": {
    "name": "ipython",
    "version": 3
   },
   "file_extension": ".py",
   "mimetype": "text/x-python",
   "name": "python",
   "nbconvert_exporter": "python",
   "pygments_lexer": "ipython3",
   "version": "3.12.7"
  }
 },
 "nbformat": 4,
 "nbformat_minor": 4
}
