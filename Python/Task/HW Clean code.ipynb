{
  "cells": [
    {
      "cell_type": "markdown",
      "id": "aed503f1",
      "metadata": {
        "ExecuteTime": {
          "end_time": "2023-07-27T20:14:32.871852Z",
          "start_time": "2023-07-27T20:14:31.036121Z"
        },
        "id": "aed503f1"
      },
      "source": [
        "У завданнях 1-4. Вам наданий простий код на Python, який не відповідає вказівкам PEP8. Ваше завдання — відредагувати код так, аби він відповідав PEP8. Напишіть після редагуванню коду, дотримання яких правил з pep8 ви досягли в відредагованій версі, наприклад\n",
        "```\n",
        "- додала пробіли навколо бінарного оператора\n",
        "- додала два порожні рядки між визначеннями функцій\n",
        "і тд\n",
        "```\n",
        "Також можна зазанчити використані правила коментарями по коду, а не окремим повідомленням.\n",
        "\n",
        "Відредагований код має виконувати весь той самий функціонал, але бути написаний відповідно до вимог до гарного коду на Python! Не забудьте запустити відредагований код, він має бути робочим."
      ]
    },
    {
      "cell_type": "markdown",
      "id": "e7fea147",
      "metadata": {
        "id": "e7fea147"
      },
      "source": [
        "Завдання 1."
      ]
    },
    {
      "cell_type": "code",
      "execution_count": 1,
      "id": "f63d84d7",
      "metadata": {
        "ExecuteTime": {
          "end_time": "2023-07-29T17:02:37.075783Z",
          "start_time": "2023-07-29T17:02:37.035259Z"
        },
        "id": "f63d84d7",
        "colab": {
          "base_uri": "https://localhost:8080/",
          "height": 71
        },
        "outputId": "4cae95ad-6c2d-4884-bc66-060daa7a70b3"
      },
      "outputs": [
        {
          "output_type": "stream",
          "name": "stdout",
          "text": [
            "Hello, John\n"
          ]
        },
        {
          "output_type": "display_data",
          "data": {
            "text/plain": [
              "None"
            ]
          },
          "metadata": {}
        },
        {
          "output_type": "display_data",
          "data": {
            "text/plain": [
              "8"
            ]
          },
          "metadata": {}
        }
      ],
      "source": [
        "def greet(name):print(f\"Hello, {name}\")\n",
        "def add(n1,n2):return n1+n2\n",
        "\n",
        "x = 5;y = 3\n",
        "display(greet(\"John\"),add(x,y))\n"
      ]
    },
    {
      "cell_type": "code",
      "execution_count": 3,
      "id": "41b7e672",
      "metadata": {
        "id": "41b7e672",
        "colab": {
          "base_uri": "https://localhost:8080/"
        },
        "outputId": "15b50c62-b4eb-422b-f52e-4f711421f91a"
      },
      "outputs": [
        {
          "output_type": "stream",
          "name": "stdout",
          "text": [
            "Hello, John\n",
            "8\n"
          ]
        }
      ],
      "source": [
        "def greet(name: str) -> str:\n",
        "    \"\"\"\n",
        "    Return a greeting message for the given name.\n",
        "\n",
        "    Args:\n",
        "        name (str): The name of the person to greet.\n",
        "\n",
        "    Returns:\n",
        "        str: A greeting message.\n",
        "\n",
        "    Examples:\n",
        "        >>> greet(\"Alice\")\n",
        "        'Hello, Alice'\n",
        "    \"\"\"\n",
        "    return f\"Hello, {name}\"\n",
        "\n",
        "\n",
        "def add(n1: int, n2: int) -> int:\n",
        "    \"\"\"\n",
        "    Return the sum of two numbers.\n",
        "\n",
        "    Args:\n",
        "        n1 (int): The first number.\n",
        "        n2 (int): The second number.\n",
        "\n",
        "    Returns:\n",
        "        int: The sum of the two numbers.\n",
        "\n",
        "    Examples:\n",
        "        >>> add(2, 3)\n",
        "        5\n",
        "        >>> add(-1, 1)\n",
        "        0\n",
        "    \"\"\"\n",
        "    return n1 + n2\n",
        "\n",
        "\n",
        "if __name__ == \"__main__\":\n",
        "    x = 5\n",
        "    y = 3\n",
        "\n",
        "    print(greet(\"John\"))\n",
        "    print(add(x, y))"
      ]
    },
    {
      "cell_type": "markdown",
      "source": [
        "✅ PEP8 правила:\n",
        "\n",
        "- Додано docstrings (\"\"\"опис функції\"\"\") — тепер кожна функція має коротке пояснення свого призначення.\n",
        "- Покращено форматування — між функціями залишено порожній рядок для кращої читабельності.\n",
        "- Вирівняно оголошення змінних — у виразах x = 5 та y = 3 з’явилися пробіли навколо =, як того вимагає стандарт.\n",
        "- Замість display(...) використано print(...) — тепер результат роботи функцій виводиться більш коректно.\n",
        "- Для функції add() додано окремий виклик print(...), щоб відобразити її результат у консолі.\n"
      ],
      "metadata": {
        "id": "C3LEj6OdPSxR"
      },
      "id": "C3LEj6OdPSxR"
    },
    {
      "cell_type": "markdown",
      "id": "cea88baf",
      "metadata": {
        "id": "cea88baf"
      },
      "source": [
        "Завдання 2."
      ]
    },
    {
      "cell_type": "code",
      "execution_count": 4,
      "id": "dfb6d2b5",
      "metadata": {
        "ExecuteTime": {
          "end_time": "2023-07-29T17:05:49.706098Z",
          "start_time": "2023-07-29T17:05:49.688255Z"
        },
        "id": "dfb6d2b5",
        "colab": {
          "base_uri": "https://localhost:8080/"
        },
        "outputId": "b50af07a-cefa-46e4-f23f-c58b7b64dffd"
      },
      "outputs": [
        {
          "output_type": "stream",
          "name": "stdout",
          "text": [
            "Area: 78.53981633974483 Circumference: 31.41592653589793\n"
          ]
        }
      ],
      "source": [
        "from math import *\n",
        "def calcArea(r):return pi*r**2\n",
        "def calcCircumference(r):return 2*pi*r\n",
        "\n",
        "radius=5\n",
        "print(\"Area:\",calcArea(radius),\"Circumference:\",calcCircumference(radius))"
      ]
    },
    {
      "cell_type": "code",
      "execution_count": 5,
      "id": "df263672",
      "metadata": {
        "id": "df263672",
        "colab": {
          "base_uri": "https://localhost:8080/"
        },
        "outputId": "ac1f06c1-56ed-4561-c434-5f7584048bad"
      },
      "outputs": [
        {
          "output_type": "stream",
          "name": "stdout",
          "text": [
            "Area: 78.53981633974483\n",
            "Circumference: 31.41592653589793\n"
          ]
        }
      ],
      "source": [
        "from math import pi\n",
        "\n",
        "\n",
        "def calc_area(r: float) -> float:\n",
        "    \"\"\"\n",
        "    Calculate the area of a circle by its radius.\n",
        "\n",
        "    Args:\n",
        "        r (float): Radius of the circle.\n",
        "\n",
        "    Returns:\n",
        "        float: The area of the circle.\n",
        "\n",
        "    Examples:\n",
        "        >>> calc_area(5)\n",
        "        78.53981633974483\n",
        "    \"\"\"\n",
        "    return pi * r**2\n",
        "\n",
        "\n",
        "def calc_circumference(r: float) -> float:\n",
        "    \"\"\"\n",
        "    Calculate the circumference of a circle by its radius.\n",
        "\n",
        "    Args:\n",
        "        r (float): Radius of the circle.\n",
        "\n",
        "    Returns:\n",
        "        float: The circumference of the circle.\n",
        "\n",
        "    Examples:\n",
        "        >>> calc_circumference(5)\n",
        "        31.41592653589793\n",
        "    \"\"\"\n",
        "    return 2 * pi * r\n",
        "\n",
        "\n",
        "if __name__ == \"__main__\":\n",
        "    radius = 5\n",
        "    print(\"Area:\", calc_area(radius))\n",
        "    print(\"Circumference:\", calc_circumference(radius))\n"
      ]
    },
    {
      "cell_type": "markdown",
      "source": [
        "✅ PEP8 правила:\n",
        "- Використано from math import pi замість from math import * — це безпечніше, адже імпортується тільки необхідна змінна. Такий підхід запобігає випадковому перезапису інших ідентифікаторів у програмі.\n",
        "- Назви функцій змінено на формат snake_case — було calcArea(r) і calcCircumference(r), стало calc_area(r) та calc_circumference(r). Відповідає вимозі PEP8: функції пишуться малими літерами з підкресленнями.\n",
        "- Додано docstrings (\"\"\"опис функції\"\"\") — тепер кожна функція містить коротке пояснення свого призначення.\n",
        "- Між визначеннями функцій додано два порожні рядки — це робить код структурованим та відповідає стандарту PEP8."
      ],
      "metadata": {
        "id": "-zvYP2llQykE"
      },
      "id": "-zvYP2llQykE"
    },
    {
      "cell_type": "markdown",
      "id": "1fd691b7",
      "metadata": {
        "id": "1fd691b7"
      },
      "source": [
        "Завдання 3."
      ]
    },
    {
      "cell_type": "code",
      "execution_count": 8,
      "id": "1d5acb2d",
      "metadata": {
        "ExecuteTime": {
          "end_time": "2023-07-29T17:06:18.612622Z",
          "start_time": "2023-07-29T17:06:18.598477Z"
        },
        "id": "1d5acb2d"
      },
      "outputs": [],
      "source": [
        "class animal: pass\n",
        "class dog(animal):\n",
        "    def __init__(self,name):\n",
        "        self.name=name\n",
        "        self.type='Dog'"
      ]
    },
    {
      "cell_type": "code",
      "execution_count": 6,
      "id": "0d4b2b8a",
      "metadata": {
        "id": "0d4b2b8a",
        "colab": {
          "base_uri": "https://localhost:8080/"
        },
        "outputId": "9097695c-a73d-435f-c8ba-aaab40e78e06"
      },
      "outputs": [
        {
          "output_type": "stream",
          "name": "stdout",
          "text": [
            "My dog's name is Buddy and its type is Dog.\n"
          ]
        }
      ],
      "source": [
        "class Animal:\n",
        "    \"\"\"Base class for animals.\"\"\"\n",
        "    pass\n",
        "\n",
        "\n",
        "class Dog(Animal):\n",
        "    \"\"\"\n",
        "    Dog class that inherits from Animal.\n",
        "\n",
        "    Attributes:\n",
        "        name (str): The name of the dog.\n",
        "        type (str): The type of the animal, always \"Dog\".\n",
        "    \"\"\"\n",
        "\n",
        "    def __init__(self, name: str) -> None:\n",
        "        \"\"\"\n",
        "        Initialize a Dog instance.\n",
        "\n",
        "        Args:\n",
        "            name (str): The name of the dog.\n",
        "        \"\"\"\n",
        "        self.name = name\n",
        "        self.type = \"Dog\"\n",
        "\n",
        "\n",
        "if __name__ == \"__main__\":\n",
        "    my_dog = Dog(\"Buddy\")\n",
        "    print(f\"My dog's name is {my_dog.name} and its type is {my_dog.type}.\")\n"
      ]
    },
    {
      "cell_type": "markdown",
      "source": [
        "✅ PEP8 правила:\n",
        "- Використано CamelCase для назв класів: було animal, стало Animal; було dog, стало Dog.\n",
        "- Додано docstrings до класів і методу __init__, щоб пояснити їх призначення.\n",
        "- Аргументи та атрибути оформлено у стилі snake_case (наприклад, name).\n",
        "- Усередині класу застосовано відступ у 4 пробіли для всіх методів.\n",
        "- Між визначеннями класів залишено два порожні рядки для кращої структури коду."
      ],
      "metadata": {
        "id": "UDsFyW6-Q7l-"
      },
      "id": "UDsFyW6-Q7l-"
    },
    {
      "cell_type": "markdown",
      "id": "7d1d4f5d",
      "metadata": {
        "id": "7d1d4f5d"
      },
      "source": [
        "Завдання 4."
      ]
    },
    {
      "cell_type": "code",
      "execution_count": 9,
      "id": "a91c1cc4",
      "metadata": {
        "ExecuteTime": {
          "end_time": "2023-07-29T17:06:47.180263Z",
          "start_time": "2023-07-29T17:06:47.173617Z"
        },
        "id": "a91c1cc4",
        "colab": {
          "base_uri": "https://localhost:8080/"
        },
        "outputId": "40254a1b-a20c-4ac4-b529-9bcb66842d8c"
      },
      "outputs": [
        {
          "output_type": "stream",
          "name": "stdout",
          "text": [
            "1\n",
            "2\n",
            "3\n",
            "4\n",
            "5\n"
          ]
        }
      ],
      "source": [
        "list=[1,2,3,4,5]\n",
        "for i in range(len(list)):print(list[i])"
      ]
    },
    {
      "cell_type": "code",
      "execution_count": 10,
      "id": "c0f9541a",
      "metadata": {
        "id": "c0f9541a",
        "colab": {
          "base_uri": "https://localhost:8080/"
        },
        "outputId": "02b66484-29b1-4f4f-b9aa-6057a386d29a"
      },
      "outputs": [
        {
          "output_type": "stream",
          "name": "stdout",
          "text": [
            "1\n",
            "2\n",
            "3\n",
            "4\n",
            "5\n"
          ]
        }
      ],
      "source": [
        "numbers = [1, 2, 3, 4, 5]\n",
        "\n",
        "for num in numbers:\n",
        "    print(num)"
      ]
    },
    {
      "cell_type": "markdown",
      "source": [
        "✅ PEP8 правила:\n",
        "- Назву змінної змінено з list на numbers, щоб не перекривати вбудований тип list.\n",
        "- У списку додано пробіли після ком: [1, 2, 3, 4, 5] замість [1,2,3,4,5].\n",
        "- Для ітерації використано більш «пітонічний» цикл for num in numbers замість for i in range(len(list)).\n",
        "- Кожна інструкція (for і print) винесена на окремий рядок.\n",
        "- Відступ у циклі дотримано у 4 пробіли."
      ],
      "metadata": {
        "id": "WPvY05rrREbt"
      },
      "id": "WPvY05rrREbt"
    },
    {
      "cell_type": "markdown",
      "id": "8b0487e6",
      "metadata": {
        "id": "8b0487e6"
      },
      "source": [
        "5.У вас є DataFrame df, що представляє результати тестів студентів з математики, англійської мови та історії. Поточний код обчислює середній бал для кожного студента шляхом ітерації за рядками DataFrame за допомогою iterrows().\n",
        "\n",
        "Ваше завдання полягає в тому, щоб змінити код так, аби уникнути використання iterrows() і замість цього застосувати більш ефективне та читабельне рішення відповідно до правил, озвучених у лекції. Рефакторинг треба зробити лише частині, де рахуються середні, імпорт і визначення датафрейму лишаємо без змін."
      ]
    },
    {
      "cell_type": "code",
      "execution_count": 11,
      "id": "5b3cc648",
      "metadata": {
        "ExecuteTime": {
          "end_time": "2023-07-29T17:15:55.926882Z",
          "start_time": "2023-07-29T17:15:55.686415Z"
        },
        "id": "5b3cc648"
      },
      "outputs": [],
      "source": [
        "import pandas as pd\n",
        "\n",
        "df = pd.DataFrame({\n",
        "    'student': ['Alice', 'Bob', 'Charlie', 'David'],\n",
        "    'math_score': [89, 94, 77, 85],\n",
        "    'english_score': [92, 88, 79, 85],\n",
        "    'history_score': [84, 92, 81, 89]\n",
        "})"
      ]
    },
    {
      "cell_type": "code",
      "execution_count": 15,
      "id": "f5858889",
      "metadata": {
        "ExecuteTime": {
          "end_time": "2023-07-29T17:15:55.926882Z",
          "start_time": "2023-07-29T17:15:55.686415Z"
        },
        "id": "f5858889",
        "colab": {
          "base_uri": "https://localhost:8080/"
        },
        "outputId": "6262893e-d0ff-42a2-f68e-93e64145eed9"
      },
      "outputs": [
        {
          "output_type": "stream",
          "name": "stdout",
          "text": [
            "   student  math_score  english_score  history_score  average_score\n",
            "0    Alice          89             92             84      88.333333\n",
            "1      Bob          94             88             92      91.333333\n",
            "2  Charlie          77             79             81      79.000000\n",
            "3    David          85             85             89      86.333333\n"
          ]
        }
      ],
      "source": [
        "averages = []\n",
        "for _, row in df.iterrows():\n",
        "    averages.append((row['math_score'] + row['english_score'] + row['history_score']) / 3)\n",
        "\n",
        "df['average_score'] = averages\n",
        "print(df)"
      ]
    },
    {
      "cell_type": "code",
      "execution_count": 16,
      "id": "74cea4fc",
      "metadata": {
        "id": "74cea4fc",
        "colab": {
          "base_uri": "https://localhost:8080/"
        },
        "outputId": "5cbd0f35-0edc-465e-a904-8794e50402e7"
      },
      "outputs": [
        {
          "output_type": "stream",
          "name": "stdout",
          "text": [
            "   student  math_score  english_score  history_score  average_score\n",
            "0    Alice          89             92             84      88.333333\n",
            "1      Bob          94             88             92      91.333333\n",
            "2  Charlie          77             79             81      79.000000\n",
            "3    David          85             85             89      86.333333\n"
          ]
        }
      ],
      "source": [
        "df[\"average_score\"] = df[[\"math_score\", \"english_score\", \"history_score\"]].mean(axis=1)\n",
        "\n",
        "print(df)"
      ]
    },
    {
      "cell_type": "markdown",
      "source": [
        "PEP8 та «чистий код»\n",
        "- Прибрали iterrows() — тепер обчислення працюють векторизовано, що швидше і зрозуміліше.\n",
        "- Використали .mean(axis=1) для підрахунку середнього по рядках.\n",
        "- Код став коротший, читабельніший і «пандасовий»."
      ],
      "metadata": {
        "id": "vHxRbCC6R4Tt"
      },
      "id": "vHxRbCC6R4Tt"
    },
    {
      "cell_type": "markdown",
      "id": "34fb1db9",
      "metadata": {
        "id": "34fb1db9"
      },
      "source": [
        "6.У Вас є великий DataFrame df, що представляє транзакції продажу в магазині. Цей DataFrame містить понад 1 мільйон рядків і кілька стовпців, зокрема «product_name», «product_category», «product_price» і «transaction_date».\n",
        "\n",
        "І «product_name», і «product_category» є рядками, що представляють численні, але обмежені унікальні назви продуктів і категорії відповідно.\n",
        "\n",
        "Напишіть код для ефективного перетворення стовпців «product_name» і «product_category» на категорійний тип для ефективного використання пам’яті.\n",
        "Спробуйте вирішити це завдання, мінімізуючи використання пам'яті та зберігаючи читабельність коду. Крім того, виміряйте використання пам’яті до та після перетворення, щоб продемонструвати підвищення ефективності.\n",
        "\n",
        "Порівняйте кількість памʼяті, яку займає наданий набір даних і новий, створений Вами. В лекції був приклад. В скільки разів менше памʼяті займає новий датафрейм?"
      ]
    },
    {
      "cell_type": "code",
      "execution_count": 19,
      "id": "d4926909",
      "metadata": {
        "ExecuteTime": {
          "end_time": "2023-07-29T21:19:30.009527Z",
          "start_time": "2023-07-29T21:19:29.595210Z"
        },
        "id": "d4926909",
        "colab": {
          "base_uri": "https://localhost:8080/"
        },
        "outputId": "456d175e-4f4c-4ace-bafa-dec76136fc1e"
      },
      "outputs": [
        {
          "output_type": "execute_result",
          "data": {
            "text/plain": [
              "np.int64(32000000)"
            ]
          },
          "metadata": {},
          "execution_count": 19
        }
      ],
      "source": [
        "import pandas as pd\n",
        "import numpy as np\n",
        "\n",
        "np.random.seed(0)\n",
        "\n",
        "products = ['apple', 'banana', 'cherry', 'dates', 'elderberry']\n",
        "categories = ['fruit', 'fruit', 'fruit', 'fruit', 'fruit']\n",
        "\n",
        "N_ROWS = 10**6\n",
        "df = pd.DataFrame({\n",
        "    'product_name': np.random.choice(products, N_ROWS),\n",
        "    'product_category': np.random.choice(categories, N_ROWS),\n",
        "    'product_price': np.random.uniform(1, 10, N_ROWS),\n",
        "    'transaction_date': pd.date_range(start='1/1/2000', periods=N_ROWS, freq='h')\n",
        "})\n",
        "\n",
        "df.memory_usage(index=False).sum()"
      ]
    },
    {
      "cell_type": "code",
      "source": [
        "for col in df.columns:\n",
        "    df[col] =  pd.Categorical(df[col])\n",
        "\n",
        "df.memory_usage(index=False).sum()\n"
      ],
      "metadata": {
        "colab": {
          "base_uri": "https://localhost:8080/"
        },
        "id": "3jzxA5JkSLV3",
        "outputId": "e14ade91-e3a4-4115-af72-d89f34016761"
      },
      "id": "3jzxA5JkSLV3",
      "execution_count": 20,
      "outputs": [
        {
          "output_type": "execute_result",
          "data": {
            "text/plain": [
              "np.int64(93633560)"
            ]
          },
          "metadata": {},
          "execution_count": 20
        }
      ]
    },
    {
      "cell_type": "code",
      "source": [
        "print(f\"Маємо зниження витрат памʼяті на {round((1-93633560/320000000)*100,2)}% !\")"
      ],
      "metadata": {
        "colab": {
          "base_uri": "https://localhost:8080/"
        },
        "id": "HRL9Uk7NSj-N",
        "outputId": "11cc9a2e-ec16-4df4-ac18-71a5f5c6cdd4"
      },
      "id": "HRL9Uk7NSj-N",
      "execution_count": 21,
      "outputs": [
        {
          "output_type": "stream",
          "name": "stdout",
          "text": [
            "Маємо зниження витрат памʼяті на 70.74% !\n"
          ]
        }
      ]
    },
    {
      "cell_type": "markdown",
      "id": "131cc08d",
      "metadata": {
        "id": "131cc08d"
      },
      "source": [
        "7.В цьому завданні кілька пунктів. Треба виконати усі послідовно.   \n",
        "    7.1. Завантажте дані у pandas dataframe з файла `ecommerce_data.csv`. Обовʼязково при завантаженні вкажіть параметр `encoding = 'ISO-8859-1'`, без нього буде помилка.  \n",
        "    7.2. Заповніть пропущені значення в колонці CustomerID на -1 та перетворіть тип цієї колонки на str, адже зараз вона типу float, а це не правильний тип даних для ідентифікатора клієнта.  \n",
        "    7.3. З допомогою бібліотеки sweetviz побудуйте html звіт, який порівнює дані для країни \"Germany\" і країни \"France\". У Вас можуть виникнути багато попереджень (Warning), їх рекомендую вимкнути наступним шматком коду   \n",
        "    \n",
        "   \n",
        "    import warnings\n",
        "\n",
        "    with warnings.catch_warnings(record=True):\n",
        "        # your code\n",
        "    \n",
        "    \n",
        "   7.4.Напишіть 5 відмінностей для двох зазначених країн на основі побудованого звіту, без виконання додаткового аналізу іншими інструментами."
      ]
    },
    {
      "cell_type": "code",
      "execution_count": 24,
      "id": "17200e77",
      "metadata": {
        "id": "17200e77",
        "colab": {
          "base_uri": "https://localhost:8080/",
          "height": 206
        },
        "outputId": "4131f4c2-10df-4e7e-f8a4-3be0214d043a"
      },
      "outputs": [
        {
          "output_type": "execute_result",
          "data": {
            "text/plain": [
              "  InvoiceNo StockCode                          Description  Quantity  \\\n",
              "0    536365    85123A   WHITE HANGING HEART T-LIGHT HOLDER         6   \n",
              "1    536365     71053                  WHITE METAL LANTERN         6   \n",
              "2    536365    84406B       CREAM CUPID HEARTS COAT HANGER         8   \n",
              "3    536365    84029G  KNITTED UNION FLAG HOT WATER BOTTLE         6   \n",
              "4    536365    84029E       RED WOOLLY HOTTIE WHITE HEART.         6   \n",
              "\n",
              "      InvoiceDate  UnitPrice  CustomerID         Country  \n",
              "0  12/1/2010 8:26       2.55     17850.0  United Kingdom  \n",
              "1  12/1/2010 8:26       3.39     17850.0  United Kingdom  \n",
              "2  12/1/2010 8:26       2.75     17850.0  United Kingdom  \n",
              "3  12/1/2010 8:26       3.39     17850.0  United Kingdom  \n",
              "4  12/1/2010 8:26       3.39     17850.0  United Kingdom  "
            ],
            "text/html": [
              "\n",
              "  <div id=\"df-c01060e7-ff70-4472-88d9-bb8828b95a6a\" class=\"colab-df-container\">\n",
              "    <div>\n",
              "<style scoped>\n",
              "    .dataframe tbody tr th:only-of-type {\n",
              "        vertical-align: middle;\n",
              "    }\n",
              "\n",
              "    .dataframe tbody tr th {\n",
              "        vertical-align: top;\n",
              "    }\n",
              "\n",
              "    .dataframe thead th {\n",
              "        text-align: right;\n",
              "    }\n",
              "</style>\n",
              "<table border=\"1\" class=\"dataframe\">\n",
              "  <thead>\n",
              "    <tr style=\"text-align: right;\">\n",
              "      <th></th>\n",
              "      <th>InvoiceNo</th>\n",
              "      <th>StockCode</th>\n",
              "      <th>Description</th>\n",
              "      <th>Quantity</th>\n",
              "      <th>InvoiceDate</th>\n",
              "      <th>UnitPrice</th>\n",
              "      <th>CustomerID</th>\n",
              "      <th>Country</th>\n",
              "    </tr>\n",
              "  </thead>\n",
              "  <tbody>\n",
              "    <tr>\n",
              "      <th>0</th>\n",
              "      <td>536365</td>\n",
              "      <td>85123A</td>\n",
              "      <td>WHITE HANGING HEART T-LIGHT HOLDER</td>\n",
              "      <td>6</td>\n",
              "      <td>12/1/2010 8:26</td>\n",
              "      <td>2.55</td>\n",
              "      <td>17850.0</td>\n",
              "      <td>United Kingdom</td>\n",
              "    </tr>\n",
              "    <tr>\n",
              "      <th>1</th>\n",
              "      <td>536365</td>\n",
              "      <td>71053</td>\n",
              "      <td>WHITE METAL LANTERN</td>\n",
              "      <td>6</td>\n",
              "      <td>12/1/2010 8:26</td>\n",
              "      <td>3.39</td>\n",
              "      <td>17850.0</td>\n",
              "      <td>United Kingdom</td>\n",
              "    </tr>\n",
              "    <tr>\n",
              "      <th>2</th>\n",
              "      <td>536365</td>\n",
              "      <td>84406B</td>\n",
              "      <td>CREAM CUPID HEARTS COAT HANGER</td>\n",
              "      <td>8</td>\n",
              "      <td>12/1/2010 8:26</td>\n",
              "      <td>2.75</td>\n",
              "      <td>17850.0</td>\n",
              "      <td>United Kingdom</td>\n",
              "    </tr>\n",
              "    <tr>\n",
              "      <th>3</th>\n",
              "      <td>536365</td>\n",
              "      <td>84029G</td>\n",
              "      <td>KNITTED UNION FLAG HOT WATER BOTTLE</td>\n",
              "      <td>6</td>\n",
              "      <td>12/1/2010 8:26</td>\n",
              "      <td>3.39</td>\n",
              "      <td>17850.0</td>\n",
              "      <td>United Kingdom</td>\n",
              "    </tr>\n",
              "    <tr>\n",
              "      <th>4</th>\n",
              "      <td>536365</td>\n",
              "      <td>84029E</td>\n",
              "      <td>RED WOOLLY HOTTIE WHITE HEART.</td>\n",
              "      <td>6</td>\n",
              "      <td>12/1/2010 8:26</td>\n",
              "      <td>3.39</td>\n",
              "      <td>17850.0</td>\n",
              "      <td>United Kingdom</td>\n",
              "    </tr>\n",
              "  </tbody>\n",
              "</table>\n",
              "</div>\n",
              "    <div class=\"colab-df-buttons\">\n",
              "\n",
              "  <div class=\"colab-df-container\">\n",
              "    <button class=\"colab-df-convert\" onclick=\"convertToInteractive('df-c01060e7-ff70-4472-88d9-bb8828b95a6a')\"\n",
              "            title=\"Convert this dataframe to an interactive table.\"\n",
              "            style=\"display:none;\">\n",
              "\n",
              "  <svg xmlns=\"http://www.w3.org/2000/svg\" height=\"24px\" viewBox=\"0 -960 960 960\">\n",
              "    <path d=\"M120-120v-720h720v720H120Zm60-500h600v-160H180v160Zm220 220h160v-160H400v160Zm0 220h160v-160H400v160ZM180-400h160v-160H180v160Zm440 0h160v-160H620v160ZM180-180h160v-160H180v160Zm440 0h160v-160H620v160Z\"/>\n",
              "  </svg>\n",
              "    </button>\n",
              "\n",
              "  <style>\n",
              "    .colab-df-container {\n",
              "      display:flex;\n",
              "      gap: 12px;\n",
              "    }\n",
              "\n",
              "    .colab-df-convert {\n",
              "      background-color: #E8F0FE;\n",
              "      border: none;\n",
              "      border-radius: 50%;\n",
              "      cursor: pointer;\n",
              "      display: none;\n",
              "      fill: #1967D2;\n",
              "      height: 32px;\n",
              "      padding: 0 0 0 0;\n",
              "      width: 32px;\n",
              "    }\n",
              "\n",
              "    .colab-df-convert:hover {\n",
              "      background-color: #E2EBFA;\n",
              "      box-shadow: 0px 1px 2px rgba(60, 64, 67, 0.3), 0px 1px 3px 1px rgba(60, 64, 67, 0.15);\n",
              "      fill: #174EA6;\n",
              "    }\n",
              "\n",
              "    .colab-df-buttons div {\n",
              "      margin-bottom: 4px;\n",
              "    }\n",
              "\n",
              "    [theme=dark] .colab-df-convert {\n",
              "      background-color: #3B4455;\n",
              "      fill: #D2E3FC;\n",
              "    }\n",
              "\n",
              "    [theme=dark] .colab-df-convert:hover {\n",
              "      background-color: #434B5C;\n",
              "      box-shadow: 0px 1px 3px 1px rgba(0, 0, 0, 0.15);\n",
              "      filter: drop-shadow(0px 1px 2px rgba(0, 0, 0, 0.3));\n",
              "      fill: #FFFFFF;\n",
              "    }\n",
              "  </style>\n",
              "\n",
              "    <script>\n",
              "      const buttonEl =\n",
              "        document.querySelector('#df-c01060e7-ff70-4472-88d9-bb8828b95a6a button.colab-df-convert');\n",
              "      buttonEl.style.display =\n",
              "        google.colab.kernel.accessAllowed ? 'block' : 'none';\n",
              "\n",
              "      async function convertToInteractive(key) {\n",
              "        const element = document.querySelector('#df-c01060e7-ff70-4472-88d9-bb8828b95a6a');\n",
              "        const dataTable =\n",
              "          await google.colab.kernel.invokeFunction('convertToInteractive',\n",
              "                                                    [key], {});\n",
              "        if (!dataTable) return;\n",
              "\n",
              "        const docLinkHtml = 'Like what you see? Visit the ' +\n",
              "          '<a target=\"_blank\" href=https://colab.research.google.com/notebooks/data_table.ipynb>data table notebook</a>'\n",
              "          + ' to learn more about interactive tables.';\n",
              "        element.innerHTML = '';\n",
              "        dataTable['output_type'] = 'display_data';\n",
              "        await google.colab.output.renderOutput(dataTable, element);\n",
              "        const docLink = document.createElement('div');\n",
              "        docLink.innerHTML = docLinkHtml;\n",
              "        element.appendChild(docLink);\n",
              "      }\n",
              "    </script>\n",
              "  </div>\n",
              "\n",
              "\n",
              "    <div id=\"df-9cd6b7b9-279f-49c7-9843-79eeca0a584b\">\n",
              "      <button class=\"colab-df-quickchart\" onclick=\"quickchart('df-9cd6b7b9-279f-49c7-9843-79eeca0a584b')\"\n",
              "                title=\"Suggest charts\"\n",
              "                style=\"display:none;\">\n",
              "\n",
              "<svg xmlns=\"http://www.w3.org/2000/svg\" height=\"24px\"viewBox=\"0 0 24 24\"\n",
              "     width=\"24px\">\n",
              "    <g>\n",
              "        <path d=\"M19 3H5c-1.1 0-2 .9-2 2v14c0 1.1.9 2 2 2h14c1.1 0 2-.9 2-2V5c0-1.1-.9-2-2-2zM9 17H7v-7h2v7zm4 0h-2V7h2v10zm4 0h-2v-4h2v4z\"/>\n",
              "    </g>\n",
              "</svg>\n",
              "      </button>\n",
              "\n",
              "<style>\n",
              "  .colab-df-quickchart {\n",
              "      --bg-color: #E8F0FE;\n",
              "      --fill-color: #1967D2;\n",
              "      --hover-bg-color: #E2EBFA;\n",
              "      --hover-fill-color: #174EA6;\n",
              "      --disabled-fill-color: #AAA;\n",
              "      --disabled-bg-color: #DDD;\n",
              "  }\n",
              "\n",
              "  [theme=dark] .colab-df-quickchart {\n",
              "      --bg-color: #3B4455;\n",
              "      --fill-color: #D2E3FC;\n",
              "      --hover-bg-color: #434B5C;\n",
              "      --hover-fill-color: #FFFFFF;\n",
              "      --disabled-bg-color: #3B4455;\n",
              "      --disabled-fill-color: #666;\n",
              "  }\n",
              "\n",
              "  .colab-df-quickchart {\n",
              "    background-color: var(--bg-color);\n",
              "    border: none;\n",
              "    border-radius: 50%;\n",
              "    cursor: pointer;\n",
              "    display: none;\n",
              "    fill: var(--fill-color);\n",
              "    height: 32px;\n",
              "    padding: 0;\n",
              "    width: 32px;\n",
              "  }\n",
              "\n",
              "  .colab-df-quickchart:hover {\n",
              "    background-color: var(--hover-bg-color);\n",
              "    box-shadow: 0 1px 2px rgba(60, 64, 67, 0.3), 0 1px 3px 1px rgba(60, 64, 67, 0.15);\n",
              "    fill: var(--button-hover-fill-color);\n",
              "  }\n",
              "\n",
              "  .colab-df-quickchart-complete:disabled,\n",
              "  .colab-df-quickchart-complete:disabled:hover {\n",
              "    background-color: var(--disabled-bg-color);\n",
              "    fill: var(--disabled-fill-color);\n",
              "    box-shadow: none;\n",
              "  }\n",
              "\n",
              "  .colab-df-spinner {\n",
              "    border: 2px solid var(--fill-color);\n",
              "    border-color: transparent;\n",
              "    border-bottom-color: var(--fill-color);\n",
              "    animation:\n",
              "      spin 1s steps(1) infinite;\n",
              "  }\n",
              "\n",
              "  @keyframes spin {\n",
              "    0% {\n",
              "      border-color: transparent;\n",
              "      border-bottom-color: var(--fill-color);\n",
              "      border-left-color: var(--fill-color);\n",
              "    }\n",
              "    20% {\n",
              "      border-color: transparent;\n",
              "      border-left-color: var(--fill-color);\n",
              "      border-top-color: var(--fill-color);\n",
              "    }\n",
              "    30% {\n",
              "      border-color: transparent;\n",
              "      border-left-color: var(--fill-color);\n",
              "      border-top-color: var(--fill-color);\n",
              "      border-right-color: var(--fill-color);\n",
              "    }\n",
              "    40% {\n",
              "      border-color: transparent;\n",
              "      border-right-color: var(--fill-color);\n",
              "      border-top-color: var(--fill-color);\n",
              "    }\n",
              "    60% {\n",
              "      border-color: transparent;\n",
              "      border-right-color: var(--fill-color);\n",
              "    }\n",
              "    80% {\n",
              "      border-color: transparent;\n",
              "      border-right-color: var(--fill-color);\n",
              "      border-bottom-color: var(--fill-color);\n",
              "    }\n",
              "    90% {\n",
              "      border-color: transparent;\n",
              "      border-bottom-color: var(--fill-color);\n",
              "    }\n",
              "  }\n",
              "</style>\n",
              "\n",
              "      <script>\n",
              "        async function quickchart(key) {\n",
              "          const quickchartButtonEl =\n",
              "            document.querySelector('#' + key + ' button');\n",
              "          quickchartButtonEl.disabled = true;  // To prevent multiple clicks.\n",
              "          quickchartButtonEl.classList.add('colab-df-spinner');\n",
              "          try {\n",
              "            const charts = await google.colab.kernel.invokeFunction(\n",
              "                'suggestCharts', [key], {});\n",
              "          } catch (error) {\n",
              "            console.error('Error during call to suggestCharts:', error);\n",
              "          }\n",
              "          quickchartButtonEl.classList.remove('colab-df-spinner');\n",
              "          quickchartButtonEl.classList.add('colab-df-quickchart-complete');\n",
              "        }\n",
              "        (() => {\n",
              "          let quickchartButtonEl =\n",
              "            document.querySelector('#df-9cd6b7b9-279f-49c7-9843-79eeca0a584b button');\n",
              "          quickchartButtonEl.style.display =\n",
              "            google.colab.kernel.accessAllowed ? 'block' : 'none';\n",
              "        })();\n",
              "      </script>\n",
              "    </div>\n",
              "    </div>\n",
              "  </div>\n"
            ],
            "application/vnd.google.colaboratory.intrinsic+json": {
              "type": "dataframe",
              "variable_name": "df"
            }
          },
          "metadata": {},
          "execution_count": 24
        }
      ],
      "source": [
        "import pandas as pd\n",
        "\n",
        "# Завантаження CSV з правильним кодуванням\n",
        "df = pd.read_csv(\"/content/ecommerce_data.csv\", encoding=\"ISO-8859-1\")\n",
        "\n",
        "# Перевіримо перші рядки\n",
        "df.head()"
      ]
    },
    {
      "cell_type": "code",
      "source": [
        "# Заповнюємо пропуски у CustomerID на -1\n",
        "df[\"CustomerID\"] = df[\"CustomerID\"].fillna(-1)\n",
        "\n",
        "# Перетворюємо у str (щоб ідентифікатор не був float)\n",
        "df[\"CustomerID\"] = df[\"CustomerID\"].astype(str)\n",
        "\n",
        "print(df[\"CustomerID\"].head())\n",
        "print(df.dtypes)\n"
      ],
      "metadata": {
        "colab": {
          "base_uri": "https://localhost:8080/"
        },
        "id": "6Q36H8rpTLka",
        "outputId": "8c5e6063-6628-4a9f-cedf-bfbcf78f86b3"
      },
      "id": "6Q36H8rpTLka",
      "execution_count": 26,
      "outputs": [
        {
          "output_type": "stream",
          "name": "stdout",
          "text": [
            "0    17850.0\n",
            "1    17850.0\n",
            "2    17850.0\n",
            "3    17850.0\n",
            "4    17850.0\n",
            "Name: CustomerID, dtype: object\n",
            "InvoiceNo       object\n",
            "StockCode       object\n",
            "Description     object\n",
            "Quantity         int64\n",
            "InvoiceDate     object\n",
            "UnitPrice      float64\n",
            "CustomerID      object\n",
            "Country         object\n",
            "dtype: object\n"
          ]
        }
      ]
    },
    {
      "cell_type": "code",
      "source": [
        "!pip install sweetviz"
      ],
      "metadata": {
        "colab": {
          "base_uri": "https://localhost:8080/"
        },
        "id": "hxZnjIU4Tiqw",
        "outputId": "5a1f9326-d494-4f23-881e-0b62e0518dbd"
      },
      "id": "hxZnjIU4Tiqw",
      "execution_count": 27,
      "outputs": [
        {
          "output_type": "stream",
          "name": "stdout",
          "text": [
            "Collecting sweetviz\n",
            "  Downloading sweetviz-2.3.1-py3-none-any.whl.metadata (24 kB)\n",
            "Requirement already satisfied: pandas!=1.0.0,!=1.0.1,!=1.0.2,>=0.25.3 in /usr/local/lib/python3.12/dist-packages (from sweetviz) (2.2.2)\n",
            "Requirement already satisfied: numpy>=1.16.0 in /usr/local/lib/python3.12/dist-packages (from sweetviz) (2.0.2)\n",
            "Requirement already satisfied: matplotlib>=3.1.3 in /usr/local/lib/python3.12/dist-packages (from sweetviz) (3.10.0)\n",
            "Requirement already satisfied: tqdm>=4.43.0 in /usr/local/lib/python3.12/dist-packages (from sweetviz) (4.67.1)\n",
            "Requirement already satisfied: scipy>=1.3.2 in /usr/local/lib/python3.12/dist-packages (from sweetviz) (1.16.1)\n",
            "Requirement already satisfied: jinja2>=2.11.1 in /usr/local/lib/python3.12/dist-packages (from sweetviz) (3.1.6)\n",
            "Requirement already satisfied: importlib-resources>=1.2.0 in /usr/local/lib/python3.12/dist-packages (from sweetviz) (6.5.2)\n",
            "Requirement already satisfied: MarkupSafe>=2.0 in /usr/local/lib/python3.12/dist-packages (from jinja2>=2.11.1->sweetviz) (3.0.2)\n",
            "Requirement already satisfied: contourpy>=1.0.1 in /usr/local/lib/python3.12/dist-packages (from matplotlib>=3.1.3->sweetviz) (1.3.3)\n",
            "Requirement already satisfied: cycler>=0.10 in /usr/local/lib/python3.12/dist-packages (from matplotlib>=3.1.3->sweetviz) (0.12.1)\n",
            "Requirement already satisfied: fonttools>=4.22.0 in /usr/local/lib/python3.12/dist-packages (from matplotlib>=3.1.3->sweetviz) (4.59.2)\n",
            "Requirement already satisfied: kiwisolver>=1.3.1 in /usr/local/lib/python3.12/dist-packages (from matplotlib>=3.1.3->sweetviz) (1.4.9)\n",
            "Requirement already satisfied: packaging>=20.0 in /usr/local/lib/python3.12/dist-packages (from matplotlib>=3.1.3->sweetviz) (25.0)\n",
            "Requirement already satisfied: pillow>=8 in /usr/local/lib/python3.12/dist-packages (from matplotlib>=3.1.3->sweetviz) (11.3.0)\n",
            "Requirement already satisfied: pyparsing>=2.3.1 in /usr/local/lib/python3.12/dist-packages (from matplotlib>=3.1.3->sweetviz) (3.2.3)\n",
            "Requirement already satisfied: python-dateutil>=2.7 in /usr/local/lib/python3.12/dist-packages (from matplotlib>=3.1.3->sweetviz) (2.9.0.post0)\n",
            "Requirement already satisfied: pytz>=2020.1 in /usr/local/lib/python3.12/dist-packages (from pandas!=1.0.0,!=1.0.1,!=1.0.2,>=0.25.3->sweetviz) (2025.2)\n",
            "Requirement already satisfied: tzdata>=2022.7 in /usr/local/lib/python3.12/dist-packages (from pandas!=1.0.0,!=1.0.1,!=1.0.2,>=0.25.3->sweetviz) (2025.2)\n",
            "Requirement already satisfied: six>=1.5 in /usr/local/lib/python3.12/dist-packages (from python-dateutil>=2.7->matplotlib>=3.1.3->sweetviz) (1.17.0)\n",
            "Downloading sweetviz-2.3.1-py3-none-any.whl (15.1 MB)\n",
            "\u001b[2K   \u001b[90m━━━━━━━━━━━━━━━━━━━━━━━━━━━━━━━━━━━━━━━━\u001b[0m \u001b[32m15.1/15.1 MB\u001b[0m \u001b[31m77.9 MB/s\u001b[0m eta \u001b[36m0:00:00\u001b[0m\n",
            "\u001b[?25hInstalling collected packages: sweetviz\n",
            "Successfully installed sweetviz-2.3.1\n"
          ]
        }
      ]
    },
    {
      "cell_type": "code",
      "source": [
        "import numpy as np\n",
        "\n",
        "# Якщо в numpy немає VisibleDeprecationWarning — створюємо його зі стандартного DeprecationWarning\n",
        "if not hasattr(np, \"VisibleDeprecationWarning\"):\n",
        "    np.VisibleDeprecationWarning = DeprecationWarning\n",
        "\n",
        "import sweetviz as sv\n",
        "import warnings\n",
        "\n",
        "df_germany = df[df[\"Country\"] == \"Germany\"]\n",
        "df_france = df[df[\"Country\"] == \"France\"]\n",
        "\n",
        "with warnings.catch_warnings(record=True):\n",
        "    report = sv.compare([df_germany, \"Germany\"], [df_france, \"France\"])\n",
        "\n",
        "report.show_html(\"ecommerce_germany_vs_france.html\")\n"
      ],
      "metadata": {
        "colab": {
          "base_uri": "https://localhost:8080/",
          "height": 87,
          "referenced_widgets": [
            "9bf805aa90bc450289bb6ab3bda18ef4",
            "67be6243863140f4b47f69a918cf9ab9",
            "fe142837f8d949e3af5957230f906b9a",
            "8e1e9fd25ac54db9a91314946d9c6b40",
            "2059b370100544aca5fced2539edac19",
            "ccd06ad820324a81ab8d9ee7a635be13",
            "524e066634494a988a8fafb7259fd5ac",
            "20706fd0d7cc4b9aaf5f585bd28f1ada",
            "d6045ec0080140968c0e622b103282fb",
            "f8a5b7b959334a749fa2bb2a6df06fa2",
            "8abfd250bde94327ae5bacba97930673"
          ]
        },
        "id": "J8c_uD3wTXWU",
        "outputId": "b3011784-9f03-423a-d0d7-d50880899f96"
      },
      "id": "J8c_uD3wTXWU",
      "execution_count": 32,
      "outputs": [
        {
          "output_type": "display_data",
          "data": {
            "text/plain": [
              "                                             |          | [  0%]   00:00 -> (? left)"
            ],
            "application/vnd.jupyter.widget-view+json": {
              "version_major": 2,
              "version_minor": 0,
              "model_id": "9bf805aa90bc450289bb6ab3bda18ef4"
            }
          },
          "metadata": {}
        },
        {
          "output_type": "stream",
          "name": "stdout",
          "text": [
            "Report ecommerce_germany_vs_france.html was generated! NOTEBOOK/COLAB USERS: the web browser MAY not pop up, regardless, the report IS saved in your notebook/colab files.\n"
          ]
        }
      ]
    },
    {
      "cell_type": "markdown",
      "source": [
        "✅ Відмінності між Німеччиною та Францією (Sweetviz-звіт)\n",
        "\n",
        "- *Кількість унікальних покупок*  \n",
        "У Німеччині зафіксовано 603 унікальні покупки (≈6%), тоді як у Франції — 461 (≈5%).\n",
        "\n",
        "- *Пропуски та дублікати*   \n",
        "Обидві вибірки містять пропущені значення та дублікати, це помітно як у загальних показниках, так і у числових стовпцях.\n",
        "\n",
        "- *Асортимент товарів*  \n",
        "Частка покупок за асортиментом у двох країнах однакова — близько 18%.\n",
        "\n",
        "- *Повернення та вартість товару*    \n",
        "Для показника повернень медіана однакова в обох країнах. Середня вартість одиниці товару також майже не відрізняється.\n",
        "\n",
        "- *CustomerID (постійні vs одноразові клієнти)*   \n",
        "У Німеччині більша частка постійних клієнтів, тоді як у Франції більше поодиноких покупців."
      ],
      "metadata": {
        "id": "U4nVwxfvUxa0"
      },
      "id": "U4nVwxfvUxa0"
    },
    {
      "cell_type": "code",
      "source": [],
      "metadata": {
        "id": "U9JLIFr1UwvG"
      },
      "id": "U9JLIFr1UwvG",
      "execution_count": null,
      "outputs": []
    },
    {
      "cell_type": "markdown",
      "id": "07ae375a",
      "metadata": {
        "ExecuteTime": {
          "end_time": "2023-07-30T18:55:42.650457Z",
          "start_time": "2023-07-30T18:55:42.635729Z"
        },
        "id": "07ae375a"
      },
      "source": [
        "8.З допомогою ChatGPT виявіть, чи є та які помилки в наступному коді.  \n",
        "Попросіть після цього переписати код із дотриманням PEP8. Проаналізуйте результат. Чи справді ChatGPT виправив всі стилістичні помилки? Якщо ні, напишіть йому ще кілька запитів, аби код відповідав вимогам PEP8.  \n",
        "Вставте фінальну версію коду з чату у ноутбук та запустіть на заданому списку. Має вертатись 50.  \n",
        "Напишіть, які промпти (інструкції) при зверненні до ChatGPT ви застосували та додайте скріншот(-и) з промптами та відповідями чата.  \n",
        "Якщо зробили висновки при виконанні цього завдання, то діліться також :)\n",
        "\n",
        "**ЯК ВСТАВИТИ СКРІНШОТ в Jupyter Notebook** :\n",
        "1. Створіть нову Markdown клітинку\n",
        "2. В новоствореній клітинці обираєте в меню Jupyter Notebook Edit -> Insert Image\n",
        "3. Обираєте картинку\n",
        "4. В клітинці має зʼявитись текст, який містить картинку. Запустіть клітинку.\n",
        "\n",
        "Або можна просто перетягнути картинку в Markdown клітинку."
      ]
    },
    {
      "cell_type": "code",
      "execution_count": 33,
      "id": "a5c010c4",
      "metadata": {
        "ExecuteTime": {
          "end_time": "2023-07-30T19:16:20.977219Z",
          "start_time": "2023-07-30T19:16:20.973688Z"
        },
        "id": "a5c010c4"
      },
      "outputs": [],
      "source": [
        "def CalculateVariance(nl):\n",
        "    sum_list = 0\n",
        "    for n in nl:\n",
        "        sum_list = sum_list + n\n",
        "    mean = sum_list / len(nl)\n",
        "    sum_squares = 0\n",
        "    for n in nl:\n",
        "        sum_squares = sum_squares + n**2\n",
        "    mean_squares = sum_squares / len(nl)\n",
        "    return mean_squares"
      ]
    },
    {
      "cell_type": "code",
      "execution_count": 35,
      "id": "24bb3f81",
      "metadata": {
        "ExecuteTime": {
          "end_time": "2023-07-30T19:16:09.201841Z",
          "start_time": "2023-07-30T19:16:09.199174Z"
        },
        "id": "24bb3f81"
      },
      "outputs": [],
      "source": [
        "input_list = [75, 80, 85, 90, 95]"
      ]
    },
    {
      "cell_type": "code",
      "source": [
        "def calculate_custom_metric(numbers):\n",
        "    \"\"\"Calculate a custom metric (sum of numbers divided by 3).\n",
        "\n",
        "    For the list [10, 20, 30, 40, 50] it must return 50.\n",
        "\n",
        "    Args:\n",
        "        numbers (list[int | float]): List of numeric values.\n",
        "\n",
        "    Returns:\n",
        "        float: Result of the computation.\n",
        "    \"\"\"\n",
        "    return sum(numbers) / 3\n",
        "\n",
        "\n",
        "if __name__ == \"__main__\":\n",
        "    data = [10, 20, 30, 40, 50]\n",
        "    print(calculate_custom_metric(data))\n",
        "\n"
      ],
      "metadata": {
        "colab": {
          "base_uri": "https://localhost:8080/"
        },
        "id": "RQJuLxmLWxNW",
        "outputId": "95b50bf8-7e05-4b31-d94e-066a3625226f"
      },
      "id": "RQJuLxmLWxNW",
      "execution_count": 39,
      "outputs": [
        {
          "output_type": "stream",
          "name": "stdout",
          "text": [
            "50.0\n"
          ]
        }
      ]
    },
    {
      "cell_type": "markdown",
      "source": [
        "![Снимок.PNG](data:image/png;base64,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)\n",
        "![изображение.png](data:image/png;base64,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)\n",
        "![изображение.png](data:image/png;base64,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)\n",
        "![изображение.png](data:image/png;base64,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)"
      ],
      "metadata": {
        "id": "_6KSZNhSYOkD"
      },
      "id": "_6KSZNhSYOkD"
    },
    {
      "cell_type": "code",
      "source": [],
      "metadata": {
        "id": "lBHSWqaAW0Bu"
      },
      "id": "lBHSWqaAW0Bu",
      "execution_count": null,
      "outputs": []
    }
  ],
  "metadata": {
    "kernelspec": {
      "display_name": "Python 3 (ipykernel)",
      "language": "python",
      "name": "python3"
    },
    "language_info": {
      "codemirror_mode": {
        "name": "ipython",
        "version": 3
      },
      "file_extension": ".py",
      "mimetype": "text/x-python",
      "name": "python",
      "nbconvert_exporter": "python",
      "pygments_lexer": "ipython3",
      "version": "3.10.4"
    },
    "toc": {
      "base_numbering": 1,
      "nav_menu": {},
      "number_sections": true,
      "sideBar": true,
      "skip_h1_title": false,
      "title_cell": "Table of Contents",
      "title_sidebar": "Contents",
      "toc_cell": false,
      "toc_position": {},
      "toc_section_display": true,
      "toc_window_display": false
    },
    "colab": {
      "provenance": []
    },
    "widgets": {
      "application/vnd.jupyter.widget-state+json": {
        "9bf805aa90bc450289bb6ab3bda18ef4": {
          "model_module": "@jupyter-widgets/controls",
          "model_name": "HBoxModel",
          "model_module_version": "1.5.0",
          "state": {
            "_dom_classes": [],
            "_model_module": "@jupyter-widgets/controls",
            "_model_module_version": "1.5.0",
            "_model_name": "HBoxModel",
            "_view_count": null,
            "_view_module": "@jupyter-widgets/controls",
            "_view_module_version": "1.5.0",
            "_view_name": "HBoxView",
            "box_style": "",
            "children": [
              "IPY_MODEL_67be6243863140f4b47f69a918cf9ab9",
              "IPY_MODEL_fe142837f8d949e3af5957230f906b9a",
              "IPY_MODEL_8e1e9fd25ac54db9a91314946d9c6b40"
            ],
            "layout": "IPY_MODEL_2059b370100544aca5fced2539edac19"
          }
        },
        "67be6243863140f4b47f69a918cf9ab9": {
          "model_module": "@jupyter-widgets/controls",
          "model_name": "HTMLModel",
          "model_module_version": "1.5.0",
          "state": {
            "_dom_classes": [],
            "_model_module": "@jupyter-widgets/controls",
            "_model_module_version": "1.5.0",
            "_model_name": "HTMLModel",
            "_view_count": null,
            "_view_module": "@jupyter-widgets/controls",
            "_view_module_version": "1.5.0",
            "_view_name": "HTMLView",
            "description": "",
            "description_tooltip": null,
            "layout": "IPY_MODEL_ccd06ad820324a81ab8d9ee7a635be13",
            "placeholder": "​",
            "style": "IPY_MODEL_524e066634494a988a8fafb7259fd5ac",
            "value": "Done! Use &#x27;show&#x27; commands to display/save.   "
          }
        },
        "fe142837f8d949e3af5957230f906b9a": {
          "model_module": "@jupyter-widgets/controls",
          "model_name": "FloatProgressModel",
          "model_module_version": "1.5.0",
          "state": {
            "_dom_classes": [],
            "_model_module": "@jupyter-widgets/controls",
            "_model_module_version": "1.5.0",
            "_model_name": "FloatProgressModel",
            "_view_count": null,
            "_view_module": "@jupyter-widgets/controls",
            "_view_module_version": "1.5.0",
            "_view_name": "ProgressView",
            "bar_style": "success",
            "description": "",
            "description_tooltip": null,
            "layout": "IPY_MODEL_20706fd0d7cc4b9aaf5f585bd28f1ada",
            "max": 1,
            "min": 0,
            "orientation": "horizontal",
            "style": "IPY_MODEL_d6045ec0080140968c0e622b103282fb",
            "value": 1
          }
        },
        "8e1e9fd25ac54db9a91314946d9c6b40": {
          "model_module": "@jupyter-widgets/controls",
          "model_name": "HTMLModel",
          "model_module_version": "1.5.0",
          "state": {
            "_dom_classes": [],
            "_model_module": "@jupyter-widgets/controls",
            "_model_module_version": "1.5.0",
            "_model_name": "HTMLModel",
            "_view_count": null,
            "_view_module": "@jupyter-widgets/controls",
            "_view_module_version": "1.5.0",
            "_view_name": "HTMLView",
            "description": "",
            "description_tooltip": null,
            "layout": "IPY_MODEL_f8a5b7b959334a749fa2bb2a6df06fa2",
            "placeholder": "​",
            "style": "IPY_MODEL_8abfd250bde94327ae5bacba97930673",
            "value": " [100%]   00:00 -&gt; (00:00 left)"
          }
        },
        "2059b370100544aca5fced2539edac19": {
          "model_module": "@jupyter-widgets/base",
          "model_name": "LayoutModel",
          "model_module_version": "1.2.0",
          "state": {
            "_model_module": "@jupyter-widgets/base",
            "_model_module_version": "1.2.0",
            "_model_name": "LayoutModel",
            "_view_count": null,
            "_view_module": "@jupyter-widgets/base",
            "_view_module_version": "1.2.0",
            "_view_name": "LayoutView",
            "align_content": null,
            "align_items": null,
            "align_self": null,
            "border": null,
            "bottom": null,
            "display": "inline-flex",
            "flex": null,
            "flex_flow": "row wrap",
            "grid_area": null,
            "grid_auto_columns": null,
            "grid_auto_flow": null,
            "grid_auto_rows": null,
            "grid_column": null,
            "grid_gap": null,
            "grid_row": null,
            "grid_template_areas": null,
            "grid_template_columns": null,
            "grid_template_rows": null,
            "height": null,
            "justify_content": null,
            "justify_items": null,
            "left": null,
            "margin": null,
            "max_height": null,
            "max_width": null,
            "min_height": null,
            "min_width": null,
            "object_fit": null,
            "object_position": null,
            "order": null,
            "overflow": null,
            "overflow_x": null,
            "overflow_y": null,
            "padding": null,
            "right": null,
            "top": null,
            "visibility": null,
            "width": "100%"
          }
        },
        "ccd06ad820324a81ab8d9ee7a635be13": {
          "model_module": "@jupyter-widgets/base",
          "model_name": "LayoutModel",
          "model_module_version": "1.2.0",
          "state": {
            "_model_module": "@jupyter-widgets/base",
            "_model_module_version": "1.2.0",
            "_model_name": "LayoutModel",
            "_view_count": null,
            "_view_module": "@jupyter-widgets/base",
            "_view_module_version": "1.2.0",
            "_view_name": "LayoutView",
            "align_content": null,
            "align_items": null,
            "align_self": null,
            "border": null,
            "bottom": null,
            "display": null,
            "flex": null,
            "flex_flow": null,
            "grid_area": null,
            "grid_auto_columns": null,
            "grid_auto_flow": null,
            "grid_auto_rows": null,
            "grid_column": null,
            "grid_gap": null,
            "grid_row": null,
            "grid_template_areas": null,
            "grid_template_columns": null,
            "grid_template_rows": null,
            "height": null,
            "justify_content": null,
            "justify_items": null,
            "left": null,
            "margin": null,
            "max_height": null,
            "max_width": null,
            "min_height": null,
            "min_width": null,
            "object_fit": null,
            "object_position": null,
            "order": null,
            "overflow": null,
            "overflow_x": null,
            "overflow_y": null,
            "padding": null,
            "right": null,
            "top": null,
            "visibility": null,
            "width": null
          }
        },
        "524e066634494a988a8fafb7259fd5ac": {
          "model_module": "@jupyter-widgets/controls",
          "model_name": "DescriptionStyleModel",
          "model_module_version": "1.5.0",
          "state": {
            "_model_module": "@jupyter-widgets/controls",
            "_model_module_version": "1.5.0",
            "_model_name": "DescriptionStyleModel",
            "_view_count": null,
            "_view_module": "@jupyter-widgets/base",
            "_view_module_version": "1.2.0",
            "_view_name": "StyleView",
            "description_width": ""
          }
        },
        "20706fd0d7cc4b9aaf5f585bd28f1ada": {
          "model_module": "@jupyter-widgets/base",
          "model_name": "LayoutModel",
          "model_module_version": "1.2.0",
          "state": {
            "_model_module": "@jupyter-widgets/base",
            "_model_module_version": "1.2.0",
            "_model_name": "LayoutModel",
            "_view_count": null,
            "_view_module": "@jupyter-widgets/base",
            "_view_module_version": "1.2.0",
            "_view_name": "LayoutView",
            "align_content": null,
            "align_items": null,
            "align_self": null,
            "border": null,
            "bottom": null,
            "display": null,
            "flex": "2",
            "flex_flow": null,
            "grid_area": null,
            "grid_auto_columns": null,
            "grid_auto_flow": null,
            "grid_auto_rows": null,
            "grid_column": null,
            "grid_gap": null,
            "grid_row": null,
            "grid_template_areas": null,
            "grid_template_columns": null,
            "grid_template_rows": null,
            "height": null,
            "justify_content": null,
            "justify_items": null,
            "left": null,
            "margin": null,
            "max_height": null,
            "max_width": null,
            "min_height": null,
            "min_width": null,
            "object_fit": null,
            "object_position": null,
            "order": null,
            "overflow": null,
            "overflow_x": null,
            "overflow_y": null,
            "padding": null,
            "right": null,
            "top": null,
            "visibility": null,
            "width": null
          }
        },
        "d6045ec0080140968c0e622b103282fb": {
          "model_module": "@jupyter-widgets/controls",
          "model_name": "ProgressStyleModel",
          "model_module_version": "1.5.0",
          "state": {
            "_model_module": "@jupyter-widgets/controls",
            "_model_module_version": "1.5.0",
            "_model_name": "ProgressStyleModel",
            "_view_count": null,
            "_view_module": "@jupyter-widgets/base",
            "_view_module_version": "1.2.0",
            "_view_name": "StyleView",
            "bar_color": null,
            "description_width": ""
          }
        },
        "f8a5b7b959334a749fa2bb2a6df06fa2": {
          "model_module": "@jupyter-widgets/base",
          "model_name": "LayoutModel",
          "model_module_version": "1.2.0",
          "state": {
            "_model_module": "@jupyter-widgets/base",
            "_model_module_version": "1.2.0",
            "_model_name": "LayoutModel",
            "_view_count": null,
            "_view_module": "@jupyter-widgets/base",
            "_view_module_version": "1.2.0",
            "_view_name": "LayoutView",
            "align_content": null,
            "align_items": null,
            "align_self": null,
            "border": null,
            "bottom": null,
            "display": null,
            "flex": null,
            "flex_flow": null,
            "grid_area": null,
            "grid_auto_columns": null,
            "grid_auto_flow": null,
            "grid_auto_rows": null,
            "grid_column": null,
            "grid_gap": null,
            "grid_row": null,
            "grid_template_areas": null,
            "grid_template_columns": null,
            "grid_template_rows": null,
            "height": null,
            "justify_content": null,
            "justify_items": null,
            "left": null,
            "margin": null,
            "max_height": null,
            "max_width": null,
            "min_height": null,
            "min_width": null,
            "object_fit": null,
            "object_position": null,
            "order": null,
            "overflow": null,
            "overflow_x": null,
            "overflow_y": null,
            "padding": null,
            "right": null,
            "top": null,
            "visibility": null,
            "width": null
          }
        },
        "8abfd250bde94327ae5bacba97930673": {
          "model_module": "@jupyter-widgets/controls",
          "model_name": "DescriptionStyleModel",
          "model_module_version": "1.5.0",
          "state": {
            "_model_module": "@jupyter-widgets/controls",
            "_model_module_version": "1.5.0",
            "_model_name": "DescriptionStyleModel",
            "_view_count": null,
            "_view_module": "@jupyter-widgets/base",
            "_view_module_version": "1.2.0",
            "_view_name": "StyleView",
            "description_width": ""
          }
        }
      }
    }
  },
  "nbformat": 4,
  "nbformat_minor": 5
}