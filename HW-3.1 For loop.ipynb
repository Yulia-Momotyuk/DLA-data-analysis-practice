{
 "cells": [
  {
   "cell_type": "markdown",
   "metadata": {
    "id": "W8lqt6zd9axA"
   },
   "source": [
    "#Домашнє завдання до теми \"Цикл for\""
   ]
  },
  {
   "cell_type": "markdown",
   "metadata": {
    "id": "iXzoNTu604kH"
   },
   "source": [
    "0. Розігрів. Напишіть цикл, який виводить на екран числа від 1 до 10 включно."
   ]
  },
  {
   "cell_type": "code",
   "execution_count": 4,
   "metadata": {
    "execution": {
     "iopub.execute_input": "2025-06-12T09:23:30.042951Z",
     "iopub.status.busy": "2025-06-12T09:23:30.042951Z",
     "iopub.status.idle": "2025-06-12T09:23:30.074343Z",
     "shell.execute_reply": "2025-06-12T09:23:30.074343Z",
     "shell.execute_reply.started": "2025-06-12T09:23:30.042951Z"
    },
    "id": "zpwypSSp0MVm"
   },
   "outputs": [
    {
     "name": "stdout",
     "output_type": "stream",
     "text": [
      "0\n",
      "1\n",
      "2\n",
      "3\n",
      "4\n",
      "5\n",
      "6\n",
      "7\n",
      "8\n",
      "9\n",
      "10\n"
     ]
    }
   ],
   "source": [
    "for numb in range(11):\n",
    "  print(numb)"
   ]
  },
  {
   "cell_type": "markdown",
   "metadata": {
    "id": "JmWR8uze094H"
   },
   "source": [
    "**Початок покладено!**"
   ]
  },
  {
   "cell_type": "markdown",
   "metadata": {
    "id": "OJX3yG-Blplu"
   },
   "source": [
    "1. Задайте список `numbers`, який містить значення від 0 до 9 включно. Використовуючи цикл `for`, обчисліть суму елементів в створеному списку та виведіть фінальну суму на екран."
   ]
  },
  {
   "cell_type": "code",
   "execution_count": 8,
   "metadata": {
    "execution": {
     "iopub.execute_input": "2025-06-12T09:24:55.617039Z",
     "iopub.status.busy": "2025-06-12T09:24:55.617039Z",
     "iopub.status.idle": "2025-06-12T09:24:55.648291Z",
     "shell.execute_reply": "2025-06-12T09:24:55.648291Z",
     "shell.execute_reply.started": "2025-06-12T09:24:55.617039Z"
    },
    "id": "sSX30A5yuvUQ"
   },
   "outputs": [
    {
     "data": {
      "text/plain": [
       "[0, 1, 2, 3, 4, 5, 6, 7, 8, 9]"
      ]
     },
     "execution_count": 8,
     "metadata": {},
     "output_type": "execute_result"
    }
   ],
   "source": [
    "# Create the list\n",
    "numbers = list(range(10))\n",
    "numbers"
   ]
  },
  {
   "cell_type": "code",
   "execution_count": 9,
   "metadata": {
    "execution": {
     "iopub.execute_input": "2025-06-12T09:26:43.077712Z",
     "iopub.status.busy": "2025-06-12T09:26:43.077712Z",
     "iopub.status.idle": "2025-06-12T09:26:43.108943Z",
     "shell.execute_reply": "2025-06-12T09:26:43.108943Z",
     "shell.execute_reply.started": "2025-06-12T09:26:43.077712Z"
    }
   },
   "outputs": [
    {
     "name": "stdout",
     "output_type": "stream",
     "text": [
      "45\n"
     ]
    }
   ],
   "source": [
    "# Create a for loop to calculate a final sum of elements by use the in-place addition assignment operator:\n",
    "total = 0\n",
    "for num in numbers:\n",
    "    total += num\n",
    "print(total)"
   ]
  },
  {
   "cell_type": "markdown",
   "metadata": {
    "id": "6Tb2Kx_jmD5b"
   },
   "source": [
    "2. Використовуючи цикл  `for` виведіть для кожного елементу списку `numbers`,який ми створили в завданні 1, чи цей елемент дорівнює 5. Тобто після виконання циклу на екрані має бути 10 bool значень."
   ]
  },
  {
   "cell_type": "code",
   "execution_count": 14,
   "metadata": {
    "execution": {
     "iopub.execute_input": "2025-06-12T09:30:20.912066Z",
     "iopub.status.busy": "2025-06-12T09:30:20.912066Z",
     "iopub.status.idle": "2025-06-12T09:30:20.943312Z",
     "shell.execute_reply": "2025-06-12T09:30:20.943312Z",
     "shell.execute_reply.started": "2025-06-12T09:30:20.912066Z"
    },
    "id": "Ls8ZW8DWuwHC"
   },
   "outputs": [
    {
     "name": "stdout",
     "output_type": "stream",
     "text": [
      "False\n",
      "False\n",
      "False\n",
      "False\n",
      "False\n",
      "True\n",
      "False\n",
      "False\n",
      "False\n",
      "False\n",
      "0 False\n",
      "1 False\n",
      "2 False\n",
      "3 False\n",
      "4 False\n",
      "5 True\n",
      "6 False\n",
      "7 False\n",
      "8 False\n",
      "9 False\n"
     ]
    }
   ],
   "source": [
    "# Method 1\n",
    "for num in numbers:\n",
    "    print(num == 5)\n",
    "\n",
    "# Method 2\n",
    "for num in numbers:\n",
    "  if num == 5:\n",
    "    current_value = True\n",
    "  else:\n",
    "    current_value = False\n",
    "  print(num, current_value)"
   ]
  },
  {
   "cell_type": "markdown",
   "metadata": {
    "id": "ddFE1naOmp7Q"
   },
   "source": [
    "3. Використовуючи цикл  `for` для кожного елементу списку `numbers`, який ми створили в завданні 1, виявіть, чи цей елемент ділиться на 2 без остачі, та запишіть результат у новий список `numbers_divisible_by_2`.\n",
    "\n",
    "Увага! Виконання завдання відрізняється від попереднього тим, що тепер ми результат обчислення на кожній ітерації записуємо у новий список. До того ж ми тут виконуємо іншу математичну операцію.\n",
    "\n",
    "Виведіть фільнальний список `numbers_divisible_by_2` на екран."
   ]
  },
  {
   "cell_type": "code",
   "execution_count": 18,
   "metadata": {
    "execution": {
     "iopub.execute_input": "2025-06-12T09:34:16.101743Z",
     "iopub.status.busy": "2025-06-12T09:34:16.101743Z",
     "iopub.status.idle": "2025-06-12T09:34:16.132978Z",
     "shell.execute_reply": "2025-06-12T09:34:16.132978Z",
     "shell.execute_reply.started": "2025-06-12T09:34:16.101743Z"
    },
    "id": "S2Pk_W12uyDo"
   },
   "outputs": [
    {
     "name": "stdout",
     "output_type": "stream",
     "text": [
      "[True, False, True, False, True, False, True, False, True, False]\n",
      "[True, False, True, False, True, False, True, False, True, False]\n"
     ]
    }
   ],
   "source": [
    "# Method 1\n",
    "numbers_divisible_by_2 = list()\n",
    "\n",
    "for num in numbers:\n",
    "  if num % 2 == 0:\n",
    "    numbers_divisible_by_2.append(True)\n",
    "  else:\n",
    "    numbers_divisible_by_2.append(False)\n",
    "print(numbers_divisible_by_2)\n",
    "\n",
    "# Method 2\n",
    "numbers_divisible_by_2 = list()\n",
    "\n",
    "for num in numbers:\n",
    "     numbers_divisible_by_2.append(num % 2 == 0)\n",
    "print(numbers_divisible_by_2)"
   ]
  },
  {
   "cell_type": "markdown",
   "metadata": {
    "id": "cwvpWeVGnUGB"
   },
   "source": [
    "Очікуваний результат: `[True, False, True, False, True, False, True, False, True, False]`"
   ]
  },
  {
   "cell_type": "markdown",
   "metadata": {
    "id": "0rgeGpJ3utVN"
   },
   "source": [
    "4. Задано два списки в клітинці нижче - `a` і `b`. Створіть цикл, результатом якого буде список `result`, що містить елементи типу bool і який фактично каже,\n",
    "\"чи на цьому індексі елементи наших двох списків співпадають\". Приклад:\n",
    "```\n",
    "a = [1, 2, 3, 6]\n",
    "b = [1, 7, 3, 6]\n",
    "# ми виконали поелементне порівняння двох списків і отримали новий список result\n",
    "# result містить наступний результат -> [True, False, True, True]\n",
    "```\n",
    "В кінці виведіть вміст result на екран.\n",
    "\n",
    "<details>\n",
    "<summary>Підказка</summary>\n",
    "\n",
    "Аби порівняти елементи в циклі - треба створити цикл по індексам елементів. Зважаючи, що наші списки - одної довжини, цей підхід дозволить нам отримати чітко те, що треба.\n",
    "\n",
    "**Просунутий варіант.** Альтернативно можна створити цикл, який на кожній ітерації має доступ до двох елементів - по одному з кожного списка, для цього треба скористатись функцією `zip` - приклад [тут](https://realpython.com/python-zip-function/#traversing-lists-in-parallel)\n",
    "</details>\n"
   ]
  },
  {
   "cell_type": "code",
   "execution_count": 19,
   "metadata": {
    "execution": {
     "iopub.execute_input": "2025-06-12T09:34:36.245603Z",
     "iopub.status.busy": "2025-06-12T09:34:36.245603Z",
     "iopub.status.idle": "2025-06-12T09:34:36.276842Z",
     "shell.execute_reply": "2025-06-12T09:34:36.276842Z",
     "shell.execute_reply.started": "2025-06-12T09:34:36.245603Z"
    },
    "id": "IIYG41pWdJiG"
   },
   "outputs": [],
   "source": [
    "a = [64, 93, 60, 95, 66, 9, 15, 55, 77, 28, 74, 100, 13, 1, 85, 48, 66, 65, 59, 32]\n",
    "b = [64, 93, 60, 95, 66, 9, 15, 56, 77, 28, 74, 100, 13, 1, 85, 48, 67, 65, 59, 32]"
   ]
  },
  {
   "cell_type": "code",
   "execution_count": 24,
   "metadata": {
    "execution": {
     "iopub.execute_input": "2025-06-12T09:40:00.244644Z",
     "iopub.status.busy": "2025-06-12T09:40:00.244644Z",
     "iopub.status.idle": "2025-06-12T09:40:00.275889Z",
     "shell.execute_reply": "2025-06-12T09:40:00.275889Z",
     "shell.execute_reply.started": "2025-06-12T09:40:00.244644Z"
    },
    "id": "XgZwTwr4u2lA"
   },
   "outputs": [
    {
     "name": "stdout",
     "output_type": "stream",
     "text": [
      "[True, True, True, True, True, True, True, False, True, True, True, True, True, True, True, True, False, True, True, True]\n",
      "[True, True, True, True, True, True, True, False, True, True, True, True, True, True, True, True, False, True, True, True]\n"
     ]
    }
   ],
   "source": [
    "# Method 1\n",
    "result = []\n",
    "for num in range(len(a)):\n",
    "      result.append(a[num] == b[num])\n",
    "print(result)\n",
    "\n",
    "# Method 2: with zip() function\n",
    "result_2 = [x == y for x, y in zip(a, b)]\n",
    "print(result_2)"
   ]
  },
  {
   "cell_type": "markdown",
   "metadata": {
    "id": "0Z2cObcTutVO"
   },
   "source": [
    "5. Нижче задано список `numbers`. Виконайте клітинку з його заданням.\n",
    "\n",
    "  Давайте знайдемо середнє арифметичне значення елементів списку `numbers` округлене до 2 цифр після коми та запишемо його у змінну `numbers_mean`. Для цього виконаємо два простих кроки.\n",
    "\n",
    "  1) Знайдіть суму всіх елементів списку `numbers` та запишіть її у змінну `numbers_sum`. Можна з використанням циклу, а можна і без.\n",
    "\n",
    "  2) Обчисліть `numbers_mean` шляхом ділення суми елементів у списку на їх кількість. Кількість елементів в списку - це його довжина.\n",
    "\n",
    "  Виведіть `numbers_mean`, округлений до 2 цифр після коми, на екран.\n",
    "\n",
    "  **Підказка**: округлити число можна з використанням вбудованої функції Python [round()](https://docs.python.org/3/library/functions.html#round)."
   ]
  },
  {
   "cell_type": "code",
   "execution_count": 25,
   "metadata": {
    "execution": {
     "iopub.execute_input": "2025-06-12T09:40:14.746958Z",
     "iopub.status.busy": "2025-06-12T09:40:14.731319Z",
     "iopub.status.idle": "2025-06-12T09:40:14.762583Z",
     "shell.execute_reply": "2025-06-12T09:40:14.762583Z",
     "shell.execute_reply.started": "2025-06-12T09:40:14.746958Z"
    },
    "id": "TwuOmLpeutVO"
   },
   "outputs": [],
   "source": [
    "numbers = [42, 51, 29, 2, 13, 44, 80, 66, 16]"
   ]
  },
  {
   "cell_type": "code",
   "execution_count": 28,
   "metadata": {
    "execution": {
     "iopub.execute_input": "2025-06-12T09:45:20.747941Z",
     "iopub.status.busy": "2025-06-12T09:45:20.747941Z",
     "iopub.status.idle": "2025-06-12T09:45:20.794818Z",
     "shell.execute_reply": "2025-06-12T09:45:20.794818Z",
     "shell.execute_reply.started": "2025-06-12T09:45:20.747941Z"
    },
    "id": "R-qDvKVcu6e1"
   },
   "outputs": [
    {
     "name": "stdout",
     "output_type": "stream",
     "text": [
      "38.11\n",
      "38.11\n",
      "38.11\n"
     ]
    }
   ],
   "source": [
    "# Method 1\n",
    "numbers_sum = 0\n",
    "for num in numbers:\n",
    "  numbers_sum += num\n",
    "  numbers_mean = numbers_sum / len(numbers)\n",
    "print(round(numbers_mean, 2))\n",
    "\n",
    "# Method 2\n",
    "numbers_sum = sum(numbers)\n",
    "numbers_mean = round(numbers_sum / len(numbers), 2)\n",
    "print(numbers_mean)\n",
    "\n",
    "# Method 3: by Numpy\n",
    "import numpy as np\n",
    "\n",
    "mean = np.mean(numbers)\n",
    "print(round(mean, 2))"
   ]
  },
  {
   "cell_type": "markdown",
   "metadata": {
    "id": "pSdssHuuutVQ"
   },
   "source": [
    "Очікуваний результат: `38.11`"
   ]
  },
  {
   "cell_type": "markdown",
   "metadata": {
    "id": "JsevSvVtutVQ"
   },
   "source": [
    "6. Задано список `a` і елемент `element`. Перевірте програмно чи є в списку `a` елемент `element` з допомогою інструкцій `if ... else`. Виведіть на екран відповідь \"Так, є\", якщо цей елемент в списку присутній, або \"Ні, нема\", якщо його там немає.\n",
    "Важливо це зробити без використання імпортів будь-яких бібліотек.\n",
    "\n",
    "  Тут цикла немає :) Але це завдання - підготовче до наступного."
   ]
  },
  {
   "cell_type": "code",
   "execution_count": 29,
   "metadata": {
    "execution": {
     "iopub.execute_input": "2025-06-12T09:45:30.984246Z",
     "iopub.status.busy": "2025-06-12T09:45:30.984246Z",
     "iopub.status.idle": "2025-06-12T09:45:30.999872Z",
     "shell.execute_reply": "2025-06-12T09:45:30.999872Z",
     "shell.execute_reply.started": "2025-06-12T09:45:30.984246Z"
    },
    "id": "TqkTdlN_utVQ"
   },
   "outputs": [],
   "source": [
    "a = [64, 93, 60, 95, 66, 9, 15, 55, 77, 28, 74, 100, 13, 1, 85, 48, 66, 65, 59, 32]\n",
    "element = 33"
   ]
  },
  {
   "cell_type": "code",
   "execution_count": 30,
   "metadata": {
    "execution": {
     "iopub.execute_input": "2025-06-12T09:45:54.994639Z",
     "iopub.status.busy": "2025-06-12T09:45:54.994639Z",
     "iopub.status.idle": "2025-06-12T09:45:55.025890Z",
     "shell.execute_reply": "2025-06-12T09:45:55.025890Z",
     "shell.execute_reply.started": "2025-06-12T09:45:54.994639Z"
    },
    "id": "aL_76T8pu7fp"
   },
   "outputs": [
    {
     "name": "stdout",
     "output_type": "stream",
     "text": [
      "No, there is not\n"
     ]
    }
   ],
   "source": [
    "if element in a:\n",
    "  print(\"Yes, there is\")\n",
    "else:\n",
    "  print(\"No, there is not\")"
   ]
  },
  {
   "cell_type": "markdown",
   "metadata": {
    "id": "QKjmv4j0utVR"
   },
   "source": [
    "7. Тепер у нас не один елемент, а кілька. Вони наведені в змінній `elements`. За допомогою циклу і інструкцій `if ... else` для кожного елемента списку `elements` перевірте, чи він є в списку `a`.\n",
    "Виведіть на екран відповідь \"Так, є елемент <вставити значення елемента>\", якщо елемент в списку присутній, або \"Ні, нема елемента <вставити значення елемента>\", якщо його там немає."
   ]
  },
  {
   "cell_type": "code",
   "execution_count": 31,
   "metadata": {
    "execution": {
     "iopub.execute_input": "2025-06-12T09:46:00.573714Z",
     "iopub.status.busy": "2025-06-12T09:46:00.573714Z",
     "iopub.status.idle": "2025-06-12T09:46:00.589327Z",
     "shell.execute_reply": "2025-06-12T09:46:00.589327Z",
     "shell.execute_reply.started": "2025-06-12T09:46:00.573714Z"
    },
    "id": "TF3nT5TMutVR"
   },
   "outputs": [],
   "source": [
    "elements = [44, 66, 77, 100]"
   ]
  },
  {
   "cell_type": "code",
   "execution_count": 34,
   "metadata": {
    "execution": {
     "iopub.execute_input": "2025-06-12T09:47:21.978740Z",
     "iopub.status.busy": "2025-06-12T09:47:21.978740Z",
     "iopub.status.idle": "2025-06-12T09:47:22.009992Z",
     "shell.execute_reply": "2025-06-12T09:47:22.009992Z",
     "shell.execute_reply.started": "2025-06-12T09:47:21.978740Z"
    },
    "id": "pQD5InOQvG1d"
   },
   "outputs": [
    {
     "name": "stdout",
     "output_type": "stream",
     "text": [
      "No, there is not element 44 in a.\n",
      "Yes, there is element 66 in a !\n",
      "Yes, there is element 77 in a !\n",
      "Yes, there is element 100 in a !\n"
     ]
    }
   ],
   "source": [
    "for el in elements:\n",
    "  if el in a:\n",
    "    print(f\"Yes, there is element {el} in a !\")\n",
    "  else:\n",
    "    print(f\"No, there is not element {el} in a.\")"
   ]
  },
  {
   "cell_type": "code",
   "execution_count": null,
   "metadata": {},
   "outputs": [],
   "source": []
  }
 ],
 "metadata": {
  "colab": {
   "provenance": []
  },
  "kernelspec": {
   "display_name": "Python [conda env:base] *",
   "language": "python",
   "name": "conda-base-py"
  },
  "language_info": {
   "codemirror_mode": {
    "name": "ipython",
    "version": 3
   },
   "file_extension": ".py",
   "mimetype": "text/x-python",
   "name": "python",
   "nbconvert_exporter": "python",
   "pygments_lexer": "ipython3",
   "version": "3.12.7"
  }
 },
 "nbformat": 4,
 "nbformat_minor": 4
}
