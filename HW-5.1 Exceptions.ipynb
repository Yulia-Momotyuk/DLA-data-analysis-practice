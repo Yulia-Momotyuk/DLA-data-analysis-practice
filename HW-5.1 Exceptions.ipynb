{
 "cells": [
  {
   "cell_type": "markdown",
   "id": "1561554f",
   "metadata": {
    "id": "1561554f"
   },
   "source": [
    "# Домашнє завдання до теми \"Модулі. Винятки (Exceptions)\"\n",
    "\n"
   ]
  },
  {
   "cell_type": "markdown",
   "id": "c094769a",
   "metadata": {
    "ExecuteTime": {
     "end_time": "2022-10-22T04:15:21.939494Z",
     "start_time": "2022-10-22T04:15:21.933981Z"
    },
    "id": "c094769a"
   },
   "source": [
    "Почнемо з закріплення матеріалу щодо фукнцій і віпрацювання роботи з модулем `random`.\n",
    "\n",
    "1. Напишіть функцію `get_random_int_list`, яка приймає один аргумент - кількість чисел `n`, і повертає список, що містить `n` випадкових цілих чисел з діапазону від 0 до 100 включно. Для генерації випадкових чисел використовуйте модуль `random`.\n",
    "\n",
    "  **Вимоги до реалізації:**\n",
    "\n",
    "  - Функція повинна приймати один аргумент `n` - кількість чисел у списку.\n",
    "  - Для генерації випадкових чисел використовуйте функцію `random.randint(0, 100)`.\n",
    "  - Повернутий список має містити рівно `n` випадкових чисел.\n",
    "\n",
    "  **Приклади виклику функції та очікувані результати:**\n",
    "\n",
    "  1. **Приклад 1:**\n",
    "    - Виклик функції: `get_random_int_list(5)`\n",
    "    - Очікуваний результат: Список з 5 випадковими числами, наприклад, `[23, 77, 45, 8, 91]`. Кожен запуск може повертати різні числа через випадковість.\n",
    "\n",
    "  2. **Приклад 2:**\n",
    "    - Виклик функції: `get_random_int_list(3)`\n",
    "    - Очікуваний результат: Список з 3 випадковими числами, наприклад, `[64, 20, 37]`.\n",
    "\n",
    "  3. **Приклад 3:**\n",
    "    - Виклик функції: `get_random_int_list(0)`\n",
    "    - Очікуваний результат: Порожній список `[]`, оскільки було запитано 0 чисел.\n",
    "\n",
    "Продемонструйте результати робити функції запустивши код нижче."
   ]
  },
  {
   "cell_type": "code",
   "execution_count": 3,
   "id": "m5hUhAQaqP78",
   "metadata": {
    "execution": {
     "iopub.execute_input": "2025-06-15T09:58:47.472056Z",
     "iopub.status.busy": "2025-06-15T09:58:47.472056Z",
     "iopub.status.idle": "2025-06-15T09:58:47.503306Z",
     "shell.execute_reply": "2025-06-15T09:58:47.503306Z",
     "shell.execute_reply.started": "2025-06-15T09:58:47.472056Z"
    },
    "id": "m5hUhAQaqP78"
   },
   "outputs": [],
   "source": [
    "import random\n",
    "\n",
    "def get_random_int_list(n):\n",
    "    \"\"\"\n",
    "    Generate a list of n random integers in the range from 0 to 100 inclusive.\n",
    "    \"\"\"\n",
    "    return [random.randint(0, 100) for _ in range(n)]"
   ]
  },
  {
   "cell_type": "code",
   "execution_count": 4,
   "id": "XV-QkjcbqZNv",
   "metadata": {
    "execution": {
     "iopub.execute_input": "2025-06-15T09:58:50.238154Z",
     "iopub.status.busy": "2025-06-15T09:58:50.238154Z",
     "iopub.status.idle": "2025-06-15T09:58:50.285029Z",
     "shell.execute_reply": "2025-06-15T09:58:50.285029Z",
     "shell.execute_reply.started": "2025-06-15T09:58:50.238154Z"
    },
    "id": "XV-QkjcbqZNv"
   },
   "outputs": [
    {
     "name": "stdout",
     "output_type": "stream",
     "text": [
      "[76, 69, 8, 28, 98]\n",
      "[29, 36, 14]\n",
      "[]\n",
      "[42, 81, 4, 25, 24, 75, 58, 27]\n"
     ]
    }
   ],
   "source": [
    "for number in [5, 3, 0, 8]:\n",
    "  print(get_random_int_list(number))"
   ]
  },
  {
   "cell_type": "markdown",
   "id": "iBHEcmV7R34X",
   "metadata": {
    "id": "iBHEcmV7R34X"
   },
   "source": [
    "2. **Конвертер рядка в число**\n",
    "\n",
    "  **Опис завдання:**\n",
    "\n",
    "  Створіть функцію `string_to_int`, яка приймає рядок і намагається перетворити його в ціле число. Якщо рядок не можна перетворити на ціле число, функція повинна обробити виключення про неправильне значення, вивести на екран `\"Некоректне введення\"` і повернути `None`.\n",
    "\n",
    "  **Приклади виклику функції:**\n",
    "\n",
    "  - `string_to_int(\"123\")` повинно повернути `123`.\n",
    "  - `string_to_int(\"abc\")` повинно вивести повідомлення `\"Некоректне введення\"` і повернути `None`."
   ]
  },
  {
   "cell_type": "code",
   "execution_count": 7,
   "id": "5UT2YNrISdLR",
   "metadata": {
    "execution": {
     "iopub.execute_input": "2025-06-15T09:59:45.097404Z",
     "iopub.status.busy": "2025-06-15T09:59:45.081794Z",
     "iopub.status.idle": "2025-06-15T09:59:45.113028Z",
     "shell.execute_reply": "2025-06-15T09:59:45.113028Z",
     "shell.execute_reply.started": "2025-06-15T09:59:45.097404Z"
    },
    "id": "5UT2YNrISdLR"
   },
   "outputs": [],
   "source": [
    "def string_to_int(s):\n",
    "    \"\"\"\n",
    "    Convert a string to an integer, handling invalid inputs.\n",
    "    \"\"\"\n",
    "    try:\n",
    "        return int(s)\n",
    "    except ValueError:\n",
    "        print(\"Некоректне введення\")\n",
    "        return None"
   ]
  },
  {
   "cell_type": "markdown",
   "id": "UbIaPiOHSgE7",
   "metadata": {
    "id": "UbIaPiOHSgE7"
   },
   "source": [
    "Продемонструйте результати робити функції запустивши код нижче."
   ]
  },
  {
   "cell_type": "code",
   "execution_count": 8,
   "id": "AL7sINtwSgcs",
   "metadata": {
    "execution": {
     "iopub.execute_input": "2025-06-15T09:59:48.035239Z",
     "iopub.status.busy": "2025-06-15T09:59:48.035239Z",
     "iopub.status.idle": "2025-06-15T09:59:48.066487Z",
     "shell.execute_reply": "2025-06-15T09:59:48.066487Z",
     "shell.execute_reply.started": "2025-06-15T09:59:48.035239Z"
    },
    "id": "AL7sINtwSgcs"
   },
   "outputs": [
    {
     "name": "stdout",
     "output_type": "stream",
     "text": [
      "Некоректне введення\n",
      "Некоректне введення\n"
     ]
    },
    {
     "data": {
      "text/plain": [
       "{'123': 123, 'abc': None, '456.78': None, '100': 100}"
      ]
     },
     "execution_count": 8,
     "metadata": {},
     "output_type": "execute_result"
    }
   ],
   "source": [
    "test_inputs = [\"123\", \"abc\", \"456.78\", \"100\"]\n",
    "results = {input_value: string_to_int(input_value) for input_value in test_inputs}\n",
    "results\n"
   ]
  },
  {
   "cell_type": "markdown",
   "id": "KkzLp29pQ1-U",
   "metadata": {
    "id": "KkzLp29pQ1-U"
   },
   "source": [
    "3. **Контроль введення користувача**\n",
    "\n",
    "  Створіть функцію `check_age`, яка приймає на вхід вік користувача у форматі рядок і перевіряє, чи є користувач повнолітнім (18 років і старше). Якщо введене значення не може бути перетворено на ціле число, функція повинна обробити виняток, вивести на екран `\"Некоректне введення. Будь ласка, введіть числове значення.\"` і повернути `False`. Якщо вік користувача менше 18, вивести повідомлення `\"Ви не повнолітній!\"` і також повернути `False`. У випадку, коли вік 18 років або більше, вивести повідомлення `\"Ви повнолітній.\"` і повернути `True`.\n",
    "\n",
    "  **Приклад роботи програми:**\n",
    "\n",
    "  1. Користувач вводить `\"двадцять\"`: програма виводить на екрнан `\"Некоректне введення. Будь ласка, введіть числове значення.\"` і повертає `False`.\n",
    "  2. Користувач вводить `\"17\"`: програма виводить `\"Ви не повнолітній!\"` і повертає `False`.\n",
    "  3. Користувач вводить `\"18\"`: програма виводить `\"Ви повнолітній.\"` і повертає `True`.\n"
   ]
  },
  {
   "cell_type": "code",
   "execution_count": 11,
   "id": "K3PTENm-Ae3-",
   "metadata": {
    "execution": {
     "iopub.execute_input": "2025-06-15T10:00:39.003530Z",
     "iopub.status.busy": "2025-06-15T10:00:39.003530Z",
     "iopub.status.idle": "2025-06-15T10:00:39.034782Z",
     "shell.execute_reply": "2025-06-15T10:00:39.034782Z",
     "shell.execute_reply.started": "2025-06-15T10:00:39.003530Z"
    },
    "id": "K3PTENm-Ae3-"
   },
   "outputs": [],
   "source": [
    "def check_age(age_str):\n",
    "    \"\"\"\n",
    "    Check if the user is an adult based on their age as a string input.\n",
    "    Handles invalid numeric inputs.\n",
    "    \"\"\"\n",
    "    try:\n",
    "        age = int(age_str)\n",
    "    except ValueError:\n",
    "        print(\"Некоректне введення. Будь ласка, введіть числове значення.\")\n",
    "        return False\n",
    "        \n",
    "    if age < 18:\n",
    "        print(\"Ви не повнолітній!\")\n",
    "        return False\n",
    "    else:\n",
    "        print(\"Ви повнолітній.\")\n",
    "        return True"
   ]
  },
  {
   "cell_type": "markdown",
   "id": "huphMh7YR2GJ",
   "metadata": {
    "id": "huphMh7YR2GJ"
   },
   "source": [
    "Продемонструйте результати робити функції запустивши код нижче."
   ]
  },
  {
   "cell_type": "code",
   "execution_count": 12,
   "id": "YuEQrntVRgSE",
   "metadata": {
    "execution": {
     "iopub.execute_input": "2025-06-15T10:00:41.191392Z",
     "iopub.status.busy": "2025-06-15T10:00:41.191392Z",
     "iopub.status.idle": "2025-06-15T10:00:41.238271Z",
     "shell.execute_reply": "2025-06-15T10:00:41.238271Z",
     "shell.execute_reply.started": "2025-06-15T10:00:41.191392Z"
    },
    "id": "YuEQrntVRgSE"
   },
   "outputs": [
    {
     "name": "stdout",
     "output_type": "stream",
     "text": [
      "Некоректне введення. Будь ласка, введіть числове значення.\n",
      "Ви не повнолітній!\n",
      "Ви повнолітній.\n"
     ]
    },
    {
     "data": {
      "text/plain": [
       "[False, False, True]"
      ]
     },
     "execution_count": 12,
     "metadata": {},
     "output_type": "execute_result"
    }
   ],
   "source": [
    "test_inputs = [\"двадцять\", \"17\", \"18\"]\n",
    "results = [check_age(input_value) for input_value in test_inputs]\n",
    "results"
   ]
  },
  {
   "cell_type": "markdown",
   "id": "CQg-zIJGTqjw",
   "metadata": {
    "id": "CQg-zIJGTqjw"
   },
   "source": [
    "4. **Обчислення середнього з перевіркою:** Напишіть функцію `calculate_average`, яка приймає на вхід список чисел і обчислює середнє арифметичне значення цих чисел. Функція повинна перевіряти, що всі елементи списку є числами. Якщо серед елементів списку зустрічається елемент, який не є числом, функція повинна вивести повідомлення `\"Всі елементи повинні бути числами\"` і повернути `None`.\n",
    "\n",
    "  **Приклади виклику функції:**\n",
    "\n",
    "  - `calculate_average([1, 2, 3, 4, 5])` повинно повернути `3.0`.\n",
    "  - `calculate_average([1, \"2\", 3])` повинно вивести `\"Всі елементи повинні бути числами\"` і повернути `None`.\n",
    "  - `calculate_average([-1.1, \"ф\", 4])` повинно вивести `\"Всі елементи повинні бути числами\"` і повернути `None`."
   ]
  },
  {
   "cell_type": "code",
   "execution_count": 17,
   "id": "91VU_y5sUAKB",
   "metadata": {
    "execution": {
     "iopub.execute_input": "2025-06-15T10:02:54.170687Z",
     "iopub.status.busy": "2025-06-15T10:02:54.170687Z",
     "iopub.status.idle": "2025-06-15T10:02:54.201930Z",
     "shell.execute_reply": "2025-06-15T10:02:54.201930Z",
     "shell.execute_reply.started": "2025-06-15T10:02:54.170687Z"
    },
    "id": "91VU_y5sUAKB"
   },
   "outputs": [],
   "source": [
    "def calculate_average(numbers):\n",
    "    \"\"\"\n",
    "    Calculate the arithmetic mean of a list of numbers.\n",
    "    Validates that all elements are numeric.\n",
    "    \"\"\"\n",
    "    if not all(isinstance(num, (int, float)) for num in numbers):\n",
    "        print(\"Всі елементи повинні бути числами\")\n",
    "        return None\n",
    "    return sum(numbers) / len(numbers) if numbers else None"
   ]
  },
  {
   "cell_type": "markdown",
   "id": "ib-JWKKmUeF8",
   "metadata": {
    "id": "ib-JWKKmUeF8"
   },
   "source": [
    "Продемонструйте результати робити функції запустивши код нижче."
   ]
  },
  {
   "cell_type": "code",
   "execution_count": 18,
   "id": "axEmZx0rUNqT",
   "metadata": {
    "execution": {
     "iopub.execute_input": "2025-06-15T10:02:56.483644Z",
     "iopub.status.busy": "2025-06-15T10:02:56.483644Z",
     "iopub.status.idle": "2025-06-15T10:02:56.530516Z",
     "shell.execute_reply": "2025-06-15T10:02:56.530516Z",
     "shell.execute_reply.started": "2025-06-15T10:02:56.483644Z"
    },
    "id": "axEmZx0rUNqT"
   },
   "outputs": [
    {
     "name": "stdout",
     "output_type": "stream",
     "text": [
      "Всі елементи повинні бути числами\n",
      "Всі елементи повинні бути числами\n"
     ]
    },
    {
     "data": {
      "text/plain": [
       "[3.0, None, 20.0, None]"
      ]
     },
     "execution_count": 18,
     "metadata": {},
     "output_type": "execute_result"
    }
   ],
   "source": [
    "test_data = [\n",
    "    [1, 2, 3, 4, 5],  # Коректні дані\n",
    "    [1, \"2\", 3],      # Некоректні дані\n",
    "    [10, 20, 30],     # Коректні дані\n",
    "    [-1.1, \"ф\", 4]    # Некоректні дані\n",
    "]\n",
    "\n",
    "results = [calculate_average(data) for data in test_data]\n",
    "results"
   ]
  },
  {
   "cell_type": "code",
   "execution_count": null,
   "id": "8e0478c4-dc70-4e48-95ca-747f30b28e24",
   "metadata": {},
   "outputs": [],
   "source": []
  }
 ],
 "metadata": {
  "colab": {
   "provenance": []
  },
  "kernelspec": {
   "display_name": "Python [conda env:base] *",
   "language": "python",
   "name": "conda-base-py"
  },
  "language_info": {
   "codemirror_mode": {
    "name": "ipython",
    "version": 3
   },
   "file_extension": ".py",
   "mimetype": "text/x-python",
   "name": "python",
   "nbconvert_exporter": "python",
   "pygments_lexer": "ipython3",
   "version": "3.12.7"
  },
  "toc": {
   "base_numbering": 1,
   "nav_menu": {},
   "number_sections": true,
   "sideBar": true,
   "skip_h1_title": false,
   "title_cell": "Table of Contents",
   "title_sidebar": "Contents",
   "toc_cell": false,
   "toc_position": {},
   "toc_section_display": true,
   "toc_window_display": false
  }
 },
 "nbformat": 4,
 "nbformat_minor": 5
}
